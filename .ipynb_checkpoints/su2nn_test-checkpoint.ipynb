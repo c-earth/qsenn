{
 "cells": [
  {
   "cell_type": "markdown",
   "id": "9c9665a8",
   "metadata": {},
   "source": [
    "# Irreducible representations"
   ]
  },
  {
   "cell_type": "code",
   "execution_count": 1,
   "id": "8a14ab50",
   "metadata": {},
   "outputs": [
    {
     "ename": "ImportError",
     "evalue": "cannot import name 'io' from partially initialized module 'su2nn_e3nn_core' (most likely due to a circular import) (/data2/rokabe/e3nn_family/su2nn/su2nn_e3nn_core/__init__.py)",
     "output_type": "error",
     "traceback": [
      "\u001b[0;31m---------------------------------------------------------------------------\u001b[0m",
      "\u001b[0;31mImportError\u001b[0m                               Traceback (most recent call last)",
      "Cell \u001b[0;32mIn[1], line 1\u001b[0m\n\u001b[0;32m----> 1\u001b[0m \u001b[38;5;28;01mfrom\u001b[39;00m \u001b[38;5;21;01msu2nn_e3nn_core\u001b[39;00m\u001b[38;5;21;01m.\u001b[39;00m\u001b[38;5;21;01msu2\u001b[39;00m \u001b[38;5;28;01mimport\u001b[39;00m Irreps\n",
      "File \u001b[0;32m/data2/rokabe/e3nn_family/su2nn/su2nn_e3nn_core/__init__.py:34\u001b[0m\n\u001b[1;32m     32\u001b[0m \u001b[38;5;28;01mfrom\u001b[39;00m \u001b[38;5;21;01msu2nn_e3nn_core\u001b[39;00m \u001b[38;5;28;01mimport\u001b[39;00m su2 \u001b[38;5;28;01mas\u001b[39;00m su2  \u001b[38;5;66;03m# noqa: F401, E402  #!\u001b[39;00m\n\u001b[1;32m     33\u001b[0m \u001b[38;5;28;01mfrom\u001b[39;00m \u001b[38;5;21;01msu2nn_e3nn_core\u001b[39;00m \u001b[38;5;28;01mimport\u001b[39;00m nn \u001b[38;5;28;01mas\u001b[39;00m nn  \u001b[38;5;66;03m# noqa: F401, E402\u001b[39;00m\n\u001b[0;32m---> 34\u001b[0m \u001b[38;5;28;01mfrom\u001b[39;00m \u001b[38;5;21;01msu2nn_e3nn_core\u001b[39;00m \u001b[38;5;28;01mimport\u001b[39;00m io \u001b[38;5;28;01mas\u001b[39;00m io  \u001b[38;5;66;03m# noqa: F401, E402\u001b[39;00m\n",
      "\u001b[0;31mImportError\u001b[0m: cannot import name 'io' from partially initialized module 'su2nn_e3nn_core' (most likely due to a circular import) (/data2/rokabe/e3nn_family/su2nn/su2nn_e3nn_core/__init__.py)"
     ]
    }
   ],
   "source": [
    "from su2nn_e3nn_core.su2 import Irreps"
   ]
  },
  {
   "cell_type": "code",
   "execution_count": null,
   "id": "87c63cee",
   "metadata": {},
   "outputs": [],
   "source": [
    "# physical vector \n",
    "irreps = Irreps(\"1oe\")\n",
    "irreps"
   ]
  },
  {
   "cell_type": "code",
   "execution_count": null,
   "id": "ca4e29ef",
   "metadata": {},
   "outputs": [],
   "source": [
    "# spin\n",
    "irreps2 = Irreps(\"1eo\")\n",
    "irreps2"
   ]
  },
  {
   "cell_type": "code",
   "execution_count": null,
   "id": "680c9f2c",
   "metadata": {},
   "outputs": [],
   "source": [
    "irreps3 = Irreps(\"0.5eo\")\n",
    "irreps3"
   ]
  },
  {
   "cell_type": "code",
   "execution_count": null,
   "id": "ea7ee735",
   "metadata": {},
   "outputs": [],
   "source": [
    "# Tuple[Tuple[int, Tuple[int, int]]]\n",
    "# ((multiplicity, (l, p)), ...)\n",
    "\n",
    "print(len(irreps))\n",
    "mul_ir = irreps[0]  # a tuple\n",
    "\n",
    "print(mul_ir)\n",
    "print(len(mul_ir))\n",
    "mul = mul_ir[0]  # an int\n",
    "ir = mul_ir[1]  # another tuple\n",
    "\n",
    "print(mul)\n",
    "\n",
    "print(ir)\n",
    "# print(len(ir))  ir is a tuple of 2 ints but __len__ has been disabled since it is always 2\n",
    "l = ir[0]\n",
    "p = ir[1]\n",
    "\n",
    "print(l, p)"
   ]
  },
  {
   "cell_type": "code",
   "execution_count": null,
   "id": "e642f60a",
   "metadata": {},
   "outputs": [],
   "source": [
    "import torch\n",
    "t = torch.tensor\n",
    "\n",
    "# show the transformation matrix corresponding to the inversion\n",
    "irreps.D_from_angles(alpha=t(0.0), beta=t(0.0), gamma=t(0.0), k=t(1))"
   ]
  },
  {
   "cell_type": "code",
   "execution_count": null,
   "id": "6d498064",
   "metadata": {},
   "outputs": [],
   "source": [
    "# a small rotation around the y axis\n",
    "irreps.D_from_angles(alpha=t(0.1), beta=t(0.0), gamma=t(0.0), k=t(0))"
   ]
  },
  {
   "cell_type": "code",
   "execution_count": null,
   "id": "2e776dd4",
   "metadata": {},
   "outputs": [],
   "source": []
  },
  {
   "cell_type": "code",
   "execution_count": 2,
   "id": "705ac568",
   "metadata": {},
   "outputs": [
    {
     "ename": "NameError",
     "evalue": "name 'Irreps' is not defined",
     "output_type": "error",
     "traceback": [
      "\u001b[0;31m---------------------------------------------------------------------------\u001b[0m",
      "\u001b[0;31mNameError\u001b[0m                                 Traceback (most recent call last)",
      "Cell \u001b[0;32mIn[2], line 1\u001b[0m\n\u001b[0;32m----> 1\u001b[0m irreps \u001b[38;5;241m=\u001b[39m \u001b[43mIrreps\u001b[49m(\u001b[38;5;124m\"\u001b[39m\u001b[38;5;124m3x0ee + 2x0oe + 1x1eo + 1x2oe\u001b[39m\u001b[38;5;124m\"\u001b[39m)\n\u001b[1;32m      2\u001b[0m irreps \u001b[38;5;241m=\u001b[39m Irreps(\u001b[38;5;124m\"\u001b[39m\u001b[38;5;124m1x5.5eo\u001b[39m\u001b[38;5;124m\"\u001b[39m)\n\u001b[1;32m      3\u001b[0m \u001b[38;5;28;01mfrom\u001b[39;00m \u001b[38;5;21;01msu2nn_e3nn_core\u001b[39;00m \u001b[38;5;28;01mimport\u001b[39;00m su2\n",
      "\u001b[0;31mNameError\u001b[0m: name 'Irreps' is not defined"
     ]
    }
   ],
   "source": [
    "irreps = Irreps(\"3x0ee + 2x0oe + 1x1eo + 1x2oe\")\n",
    "irreps = Irreps(\"1x5.5eo\")\n",
    "from su2nn_e3nn_core import su2\n",
    "rot = -su2.rand_matrix()\n",
    "\n",
    "D = irreps.D_from_angles(torch.tensor([30]), torch.tensor([50]), torch.tensor([10]))\n",
    "D = irreps.D_from_matrix(rot)\n",
    "# print(D)\n",
    "\n",
    "D = D.reshape(irreps.dim, irreps.dim)\n",
    "import matplotlib.pyplot as plt\n",
    "fig, axs = plt.subplots(1,2, figsize = (10, 5))\n",
    "ax1, ax2 = axs[0], axs[1]\n",
    "ax1.imshow(D.real, cmap='bwr', vmin=-1, vmax=1)\n",
    "ax1.set_title('Real')\n",
    "ax2.imshow(D.imag, cmap='bwr', vmin=-1, vmax=1)\n",
    "ax2.set_title('Imag')\n",
    "plt.plot()"
   ]
  },
  {
   "cell_type": "code",
   "execution_count": 3,
   "id": "7ab8824a",
   "metadata": {},
   "outputs": [
    {
     "ename": "NameError",
     "evalue": "name 'Irreps' is not defined",
     "output_type": "error",
     "traceback": [
      "\u001b[0;31m---------------------------------------------------------------------------\u001b[0m",
      "\u001b[0;31mNameError\u001b[0m                                 Traceback (most recent call last)",
      "Cell \u001b[0;32mIn[3], line 1\u001b[0m\n\u001b[0;32m----> 1\u001b[0m irreps \u001b[38;5;241m=\u001b[39m \u001b[43mIrreps\u001b[49m(\u001b[38;5;124m\"\u001b[39m\u001b[38;5;124m1x0.5ee + 1x1.5ee + 1x1.5eo + 1x1.5oe + 1x1.5oo+ 1x2.5oe\u001b[39m\u001b[38;5;124m\"\u001b[39m)\n\u001b[1;32m      2\u001b[0m \u001b[38;5;28;01mfrom\u001b[39;00m \u001b[38;5;21;01msu2nn_e3nn_core\u001b[39;00m \u001b[38;5;28;01mimport\u001b[39;00m su2\n\u001b[1;32m      3\u001b[0m rot \u001b[38;5;241m=\u001b[39m \u001b[38;5;241m-\u001b[39msu2\u001b[38;5;241m.\u001b[39mrand_matrix()\n",
      "\u001b[0;31mNameError\u001b[0m: name 'Irreps' is not defined"
     ]
    }
   ],
   "source": [
    "irreps = Irreps(\"1x0.5ee + 1x1.5ee + 1x1.5eo + 1x1.5oe + 1x1.5oo+ 1x2.5oe\")\n",
    "from su2nn_e3nn_core import su2\n",
    "rot = -su2.rand_matrix()\n",
    "\n",
    "D = irreps.D_from_matrix(rot)\n",
    "# print(D)\n",
    "\n",
    "import matplotlib.pyplot as plt\n",
    "fig, axs = plt.subplots(1,2, figsize = (10, 5))\n",
    "ax1, ax2 = axs[0], axs[1]\n",
    "ax1.imshow(D.real, cmap='bwr', vmin=-1, vmax=1)\n",
    "ax1.set_title('Real')\n",
    "ax2.imshow(D.imag, cmap='bwr', vmin=-1, vmax=1)\n",
    "ax2.set_title('Imag')\n",
    "plt.plot()"
   ]
  },
  {
   "cell_type": "markdown",
   "id": "3d0a0a2b",
   "metadata": {},
   "source": [
    "# Convolution"
   ]
  },
  {
   "cell_type": "code",
   "execution_count": 10,
   "id": "2c268c5a",
   "metadata": {},
   "outputs": [],
   "source": [
    "import torch\n",
    "from torch_cluster import radius_graph\n",
    "from torch_scatter import scatter\n",
    "from su2nn_e3nn_core import su2, nn\n",
    "from su2nn_e3nn_core.math import soft_one_hot_linspace\n",
    "import matplotlib.pyplot as plt"
   ]
  },
  {
   "cell_type": "code",
   "execution_count": 11,
   "id": "c26ecf87",
   "metadata": {},
   "outputs": [],
   "source": [
    "irreps_input = su2.Irreps(\"10x0ee + 10x1eo\")\n",
    "irreps_output = su2.Irreps(\"20x0ee + 10x1eo\")"
   ]
  },
  {
   "cell_type": "code",
   "execution_count": 12,
   "id": "4c9b1863",
   "metadata": {},
   "outputs": [
    {
     "name": "stdout",
     "output_type": "stream",
     "text": [
      "torch.Size([2814])\n"
     ]
    },
    {
     "data": {
      "text/plain": [
       "28.14"
      ]
     },
     "execution_count": 12,
     "metadata": {},
     "output_type": "execute_result"
    }
   ],
   "source": [
    "# create node positions\n",
    "num_nodes = 100\n",
    "pos = torch.randn(num_nodes, 3)  # random node positions\n",
    "\n",
    "# create edges\n",
    "max_radius = 1.8\n",
    "edge_src, edge_dst = radius_graph(pos, max_radius, max_num_neighbors=num_nodes - 1)\n",
    "\n",
    "print(edge_src.shape)\n",
    "\n",
    "edge_vec = pos[edge_dst] - pos[edge_src]\n",
    "\n",
    "# compute z\n",
    "num_neighbors = len(edge_src) / num_nodes\n",
    "num_neighbors"
   ]
  },
  {
   "cell_type": "code",
   "execution_count": 13,
   "id": "b70957be",
   "metadata": {},
   "outputs": [
    {
     "name": "stdout",
     "output_type": "stream",
     "text": [
      "torch.Size([3734])\n"
     ]
    },
    {
     "data": {
      "text/plain": [
       "37.34"
      ]
     },
     "execution_count": 13,
     "metadata": {},
     "output_type": "execute_result"
    }
   ],
   "source": [
    "# create node positions\n",
    "num_nodes = 100\n",
    "pos = torch.randn(num_nodes, 3)  # random node positions\n",
    "\n",
    "# create edges\n",
    "max_radius = 1.8\n",
    "edge_src, edge_dst = radius_graph(pos, max_radius, max_num_neighbors=num_nodes - 1)\n",
    "\n",
    "print(edge_src.shape)\n",
    "\n",
    "edge_vec = pos[edge_dst] - pos[edge_src]\n",
    "\n",
    "# compute z\n",
    "num_neighbors = len(edge_src) / num_nodes\n",
    "num_neighbors"
   ]
  },
  {
   "cell_type": "code",
   "execution_count": 14,
   "id": "fd9391d9",
   "metadata": {},
   "outputs": [],
   "source": [
    "f_in = irreps_input.randn(num_nodes, -1)"
   ]
  },
  {
   "cell_type": "code",
   "execution_count": 15,
   "id": "77f230f2",
   "metadata": {},
   "outputs": [
    {
     "data": {
      "text/plain": [
       "tensor(0.9857)"
      ]
     },
     "execution_count": 15,
     "metadata": {},
     "output_type": "execute_result"
    }
   ],
   "source": [
    "f_in.pow(2).mean()  # should be close to 1"
   ]
  },
  {
   "cell_type": "code",
   "execution_count": 16,
   "id": "8e9aeecc",
   "metadata": {},
   "outputs": [
    {
     "ename": "AttributeError",
     "evalue": "type object 'Irreps' has no attribute 'spherical_harmonics'",
     "output_type": "error",
     "traceback": [
      "\u001b[0;31m---------------------------------------------------------------------------\u001b[0m",
      "\u001b[0;31mAttributeError\u001b[0m                            Traceback (most recent call last)",
      "Cell \u001b[0;32mIn[16], line 1\u001b[0m\n\u001b[0;32m----> 1\u001b[0m irreps_sh \u001b[38;5;241m=\u001b[39m \u001b[43msu2\u001b[49m\u001b[38;5;241;43m.\u001b[39;49m\u001b[43mIrreps\u001b[49m\u001b[38;5;241;43m.\u001b[39;49m\u001b[43mspherical_harmonics\u001b[49m(lmax\u001b[38;5;241m=\u001b[39m\u001b[38;5;241m2\u001b[39m)\n\u001b[1;32m      2\u001b[0m \u001b[38;5;28mprint\u001b[39m(irreps_sh)\n\u001b[1;32m      4\u001b[0m sh \u001b[38;5;241m=\u001b[39m o3\u001b[38;5;241m.\u001b[39mspherical_harmonics(irreps_sh, edge_vec, normalize\u001b[38;5;241m=\u001b[39m\u001b[38;5;28;01mTrue\u001b[39;00m, normalization\u001b[38;5;241m=\u001b[39m\u001b[38;5;124m'\u001b[39m\u001b[38;5;124mcomponent\u001b[39m\u001b[38;5;124m'\u001b[39m)\n",
      "\u001b[0;31mAttributeError\u001b[0m: type object 'Irreps' has no attribute 'spherical_harmonics'"
     ]
    }
   ],
   "source": [
    "irreps_sh = su2.Irreps.spherical_harmonics(lmax=2)\n",
    "print(irreps_sh)\n",
    "\n",
    "sh = o3.spherical_harmonics(irreps_sh, edge_vec, normalize=True, normalization='component')\n",
    "# normalize=True ensure that x is divided by |x| before computing the sh\n",
    "\n",
    "sh.pow(2).mean()  # should be close to 1"
   ]
  },
  {
   "cell_type": "code",
   "execution_count": null,
   "id": "009fae36",
   "metadata": {},
   "outputs": [],
   "source": [
    "tp = su2.FullyConnectedTensorProduct(irreps_input, irreps_sh, irreps_output, shared_weights=False)\n",
    "\n",
    "print(f\"{tp} needs {tp.weight_numel} weights\")\n",
    "\n",
    "tp.visualize();"
   ]
  },
  {
   "cell_type": "code",
   "execution_count": null,
   "id": "e703fd75",
   "metadata": {},
   "outputs": [],
   "source": []
  },
  {
   "cell_type": "markdown",
   "id": "272920a0",
   "metadata": {},
   "source": [
    "# Equivariance check"
   ]
  },
  {
   "cell_type": "code",
   "execution_count": null,
   "id": "8b21009c",
   "metadata": {},
   "outputs": [],
   "source": [
    "import logging\n",
    "\n",
    "import torch\n",
    "from torch_cluster import radius_graph\n",
    "from torch_geometric.data import Data, DataLoader\n",
    "from torch_scatter import scatter\n",
    "\n",
    "from su2nn_e3nn_core import su2\n",
    "from su2nn_e3nn_core.su2 import FullyConnectedTensorProduct\n",
    "from su2nn_e3nn_core.util.test import assert_equivariant"
   ]
  },
  {
   "cell_type": "code",
   "execution_count": 33,
   "id": "970bfbd2",
   "metadata": {},
   "outputs": [],
   "source": [
    "def data_prep():\n",
    "    pos = torch.tensor([\n",
    "        [[0,0,0], [1,0,0], [0,1,0]]\n",
    "    ])\n",
    "    spin = torch.tensor([\n",
    "        [[1,0,0], [1,0,0], [1,0,0]]\n",
    "    ])\n",
    "    return pos, spin"
   ]
  },
  {
   "cell_type": "code",
   "execution_count": null,
   "id": "28505e8a",
   "metadata": {},
   "outputs": [],
   "source": [
    "class SU2_Net(torch.nn.Module):\n",
    "    def __init__(self) -> None:\n",
    "        super().__init__(irreps_mid, irreps_out)\n",
    "        self.irreps_sh = Irreps('1x0ee+1x1oe+1x2ee')# su2.Irreps.spherical_harmonics(lmax)\n",
    "        irreps_mid = irreps_mid\n",
    "        irreps_out = irreps_out\n",
    "\n",
    "        self.tp1 = FullyConnectedTensorProduct(\n",
    "            irreps_in1=self.irreps_sh,\n",
    "            irreps_in2=self.irreps_sh,\n",
    "            irreps_out=irreps_mid,\n",
    "        )\n",
    "        self.tp2 = FullyConnectedTensorProduct(\n",
    "            irreps_in1=irreps_mid,\n",
    "            irreps_in2=self.irreps_sh,\n",
    "            irreps_out=irreps_out,\n",
    "        )\n",
    "        self.irreps_out = self.tp2.irreps_out\n",
    "    \n",
    "    def forward():\n",
    "        num_neighbors = 2  # typical number of neighbors\n",
    "        num_nodes = 4  # typical number of nodes\n",
    "\n",
    "        edge_src, edge_dst = radius_graph(x=data.pos, r=1.1, batch=data.batch)  # tensors of indices representing the graph\n",
    "        edge_vec = data.pos[edge_src] - data.pos[edge_dst]\n",
    "        edge_sh = s3.spherical_harmonics(\n",
    "            l=self.irreps_sh,\n",
    "            x=edge_vec,\n",
    "            normalize=False,  # here we don't normalize otherwise it would not be a polynomial\n",
    "            normalization=\"component\",\n",
    "        )\n",
    "\n",
    "        # For each node, the initial features are the sum of the spherical harmonics of the neighbors\n",
    "        node_features = scatter(edge_sh, edge_dst, dim=0).div(num_neighbors**0.5)\n",
    "\n",
    "        # For each edge, tensor product the features on the source node with the spherical harmonics\n",
    "        edge_features = self.tp1(node_features[edge_src], edge_sh)\n",
    "        node_features = scatter(edge_features, edge_dst, dim=0).div(num_neighbors**0.5)\n",
    "\n",
    "        edge_features = self.tp2(node_features[edge_src], edge_sh)\n",
    "        node_features = scatter(edge_features, edge_dst, dim=0).div(num_neighbors**0.5)\n",
    "\n",
    "        # For each graph, all the node's features are summed\n",
    "        return scatter(node_features, data.batch, dim=0).div(num_nodes**0.5)"
   ]
  },
  {
   "cell_type": "code",
   "execution_count": null,
   "id": "21ac8b38",
   "metadata": {},
   "outputs": [],
   "source": []
  },
  {
   "cell_type": "code",
   "execution_count": null,
   "id": "d9fe9803",
   "metadata": {},
   "outputs": [],
   "source": [
    "def main():\n",
    "    data, labels = data_prep()\n",
    "    f = SU2_Net()\n",
    "\n",
    "    optim = torch.optim.Adam(f.parameters(), lr=1e-2)\n",
    "\n",
    "    # == Train ==\n",
    "    for step in range(200):\n",
    "        pred = f(data)\n",
    "        loss = (pred - labels).pow(2).sum()\n",
    "\n",
    "        optim.zero_grad()\n",
    "        loss.backward()\n",
    "        optim.step()\n",
    "\n",
    "        if step % 10 == 0:\n",
    "            accuracy = pred.round().eq(labels).all(dim=1).double().mean(dim=0).item()\n",
    "            print(f\"epoch {step:5d} | loss {loss:<10.1f} | {100 * accuracy:5.1f}% accuracy\")\n",
    "\n",
    "    # == Check equivariance ==\n",
    "    # Because the model outputs (psuedo)scalars, we can easily directly\n",
    "    # check its equivariance to the same data with new rotations:\n",
    "    print(\"Testing equivariance directly...\")\n",
    "    rotated_data, _ = tetris()\n",
    "    error = f(rotated_data) - f(data)\n",
    "    print(f\"Equivariance error = {error.abs().max().item():.1e}\")\n",
    "\n",
    "    print(\"Testing equivariance using `assert_equivariance`...\")\n",
    "    # We can also use the library's `assert_equivariant` helper\n",
    "    # `assert_equivariant` also tests parity and translation, and\n",
    "    # can handle non-(psuedo)scalar outputs.\n",
    "    # To \"interpret\" between it and torch_geometric, we use a small wrapper:\n",
    "\n",
    "    def wrapper(pos, batch):\n",
    "        return f(Data(pos=pos, batch=batch))\n",
    "\n",
    "    # `assert_equivariant` uses logging to print a summary of the equivariance error,\n",
    "    # so we enable logging\n",
    "    logging.basicConfig(level=logging.INFO)\n",
    "    assert_equivariant(\n",
    "        wrapper,\n",
    "        # We provide the original data that `assert_equivariant` will transform...\n",
    "        args_in=[data.pos, data.batch],\n",
    "        # ...in accordance with these irreps...\n",
    "        irreps_in=[\n",
    "            \"cartesian_points\",  # pos has vector 1o irreps, but is also translation equivariant\n",
    "            None,  # `None` indicates invariant, possibly non-floating-point data\n",
    "        ],\n",
    "        # ...and confirm that the outputs transform correspondingly for these irreps:\n",
    "        irreps_out=[f.irreps_out],\n",
    "    )\n"
   ]
  },
  {
   "cell_type": "code",
   "execution_count": null,
   "id": "53badd72",
   "metadata": {},
   "outputs": [],
   "source": [
    "main()"
   ]
  },
  {
   "cell_type": "code",
   "execution_count": null,
   "id": "e4af4e86",
   "metadata": {},
   "outputs": [],
   "source": [
    "def test():\n",
    "    data, labels = data_prep()\n",
    "    f = InvariantPolynomial()\n",
    "\n",
    "    pred = f(data)\n",
    "    loss = (pred - labels).pow(2).sum()\n",
    "    loss.backward()\n",
    "\n",
    "    rotated_data, _ = tetris()\n",
    "    error = f(rotated_data) - f(data)\n",
    "    assert error.abs().max() < 1e-5"
   ]
  },
  {
   "cell_type": "code",
   "execution_count": null,
   "id": "e27185af",
   "metadata": {},
   "outputs": [],
   "source": [
    "test()"
   ]
  },
  {
   "cell_type": "code",
   "execution_count": null,
   "id": "81670f47",
   "metadata": {},
   "outputs": [],
   "source": []
  },
  {
   "cell_type": "code",
   "execution_count": null,
   "id": "b4cae49e",
   "metadata": {},
   "outputs": [],
   "source": []
  },
  {
   "cell_type": "code",
   "execution_count": null,
   "id": "a890d3ff",
   "metadata": {},
   "outputs": [],
   "source": []
  },
  {
   "cell_type": "code",
   "execution_count": null,
   "id": "b4e11777",
   "metadata": {},
   "outputs": [],
   "source": []
  },
  {
   "cell_type": "code",
   "execution_count": null,
   "id": "d1df718c",
   "metadata": {},
   "outputs": [],
   "source": []
  },
  {
   "cell_type": "code",
   "execution_count": null,
   "id": "12bda416",
   "metadata": {},
   "outputs": [],
   "source": []
  },
  {
   "cell_type": "code",
   "execution_count": null,
   "id": "d9c59245",
   "metadata": {},
   "outputs": [],
   "source": []
  },
  {
   "cell_type": "code",
   "execution_count": null,
   "id": "1fd87367",
   "metadata": {},
   "outputs": [],
   "source": []
  },
  {
   "cell_type": "code",
   "execution_count": null,
   "id": "72de70a1",
   "metadata": {},
   "outputs": [],
   "source": []
  },
  {
   "cell_type": "code",
   "execution_count": null,
   "id": "215cb72f",
   "metadata": {},
   "outputs": [],
   "source": []
  },
  {
   "cell_type": "code",
   "execution_count": null,
   "id": "439def48",
   "metadata": {},
   "outputs": [],
   "source": []
  },
  {
   "cell_type": "code",
   "execution_count": null,
   "id": "0b77f91b",
   "metadata": {},
   "outputs": [],
   "source": []
  },
  {
   "cell_type": "code",
   "execution_count": null,
   "id": "a4c1cdde",
   "metadata": {},
   "outputs": [],
   "source": []
  }
 ],
 "metadata": {
  "kernelspec": {
   "display_name": "pdos",
   "language": "python",
   "name": "pdos"
  },
  "language_info": {
   "codemirror_mode": {
    "name": "ipython",
    "version": 3
   },
   "file_extension": ".py",
   "mimetype": "text/x-python",
   "name": "python",
   "nbconvert_exporter": "python",
   "pygments_lexer": "ipython3",
   "version": "3.9.13"
  }
 },
 "nbformat": 4,
 "nbformat_minor": 5
}
