{
 "cells": [
  {
   "attachments": {},
   "cell_type": "markdown",
   "id": "0155ce18",
   "metadata": {},
   "source": [
    "# su2nn\n",
    "\n",
    "SU(2) and time-reversal equivariant neural network for quantum spin system"
   ]
  },
  {
   "attachments": {},
   "cell_type": "markdown",
   "id": "4ef2dd52",
   "metadata": {},
   "source": [
    "## 1. Introduction\n",
    "\n",
    "The first obvious quantum spin effect we can observe is in the field of magnetism. Magnetism is important because it is crucial in various technological applications, such as data storage, electric motors, and generators. In addition, magnetic materials have been widely studied in condensed matter physics, where understanding their magnetic properties can provide insights into fundamental phenomena such as quantum phase transitions and spin dynamics. Moreover, the most recent theoretical developments of quantum spin have led to many applications in advanced fields like topological material, lossless electronics, and quantum information.\n",
    "\n",
    "Quantum spin is the quantum angular momentum internal degree of freedom. Together with the external counterpart, the quantum angular momentum has SU(2) as its symmetry group, i.e. it can be described by a representation of the group of 2 by 2 unitary matrices with unit determinant. It also turns out that SU(2) is a Lie group with exactly the same Lie algebra as SO(3), up to the generators equivalence. This means that SU(2) is homomorphic to SO(3), but SU(2) is more fundamental in describing quantum systems. Furthermore, spin systems can also break the time-reversal symmetry which is a discrete symmetry similar to parity but for temporal instead of spatial. With this nature of quantum spin system’s symmetry, it is straight forward to attempt the generalization of e3nn package that is already SO(3) and parity equivariant to also SU(2) and time-reversal equivariant in order to make a machine learning model that is suitable to the symmetry of the spin system.\n",
    "\n",
    "In this project, we modified the source code of e3nn, specifically the irreducible representation classes, to handle the SU(2) symmetry group, i.e. expanding integer angular number requirement to include half-integer, and increase the discrete symmetry channel of time-reversal on top of parity. We then propagated the change of this class through out the whole e3nn package. After that, we tested the sanity of the modified package with various equivariant properties we learned in class, and performed experiments with some simple quantum spin systems."
   ]
  },
  {
   "attachments": {},
   "cell_type": "markdown",
   "id": "bc0e99c9",
   "metadata": {},
   "source": [
    "## 2. Related Works\n",
    "\n",
    "Machine learning has been increasingly applied to predicting material properties, including spin, due to its potential to enhance accuracy and efficiency compared to traditional methods. There are works taking the symmetry described in SU(2) to represent the property of spin in a reasonable way. \n",
    "\n",
    "Machine learning helps us understand the relationship between spin configuration and other material properties. Models are proposed for predicting the properties of quantum materials, like the topological features of their electronic structures, using spin configuration as input. Also, there are models predicting spin states. A  neural network model to predict whether the spin is up or down, providing the electronic configurations of transition-metal compounds. This is important for understanding their magnetic and electronic properties. The model utilizes local crystal structure as input to predict electronic configurations accurately. Another work proposes a machine learning method using an artificial neural network to represent a complex spin Hamiltonian, which can be used to study spin systems. The method utilizes a feedforward neural network with a modified activation function to represent the Hamiltonian and shows promising results in predicting the behavior of spin systems.\n",
    "\n",
    "A graph neural network (GNN) is the most common approach to studying the structure-property relationship of materials, as it can take the geometrical aspect of materials into the models. A graph neural network model can predict material properties incorporating local and global information about the material structure. The model utilizes residual correlation to enhance the accuracy of prediction performance through the work using spin states of the Ising model. Another model utilizes the local environment of each atom in the material to predict its magnetic moment and shows improved accuracy compared to traditional methods.\n",
    "\n",
    "We can use machine learning to detect and evaluate the specific symmetry of the dataset. One work presents a neural network method for detecting symmetries like the one in SU(2), which can be applied to identify symmetry-protected topological phases. The method utilizes convolutional neural networks to learn the features of the data and then applies group theoretic techniques to extract the symmetries. Another model work presents a machine learning approach to learning order parameters of SU(2) lattice gauge theory, which describes the behavior of spin systems. The method utilizes a neural network to learn the mapping from spin configurations to the corresponding order parameters and shows promising results in predicting the behavior of spin systems."
   ]
  },
  {
   "attachments": {},
   "cell_type": "markdown",
   "id": "639753b0",
   "metadata": {},
   "source": [
    "## 3. Background\n",
    "### 3.1 SU(2) Irreducible Representation\n",
    "Similar to the process for SO(3) in lectures, one can start from the definition of SU(2) as a group of 2 by 2 unitary matrices with unit determinant. This entails that each member of the group can be written in the form\n",
    "$$\n",
    "    U = e^{-iA} \\tag{1}\n",
    "$$\n",
    "with \n",
    "$$\n",
    "    A^\\dag = A, \\text{Tr}A = 0. \\tag{2}\n",
    "$$\n",
    "From this criteria, we can deduce one possible selection of the generators as\n",
    "$$\n",
    "\\begin{align}\n",
    "    A &= \\begin{bmatrix}c & a - ib \\\\ a + ib & - c\\end{bmatrix} \\nonumber\\\\\n",
    "    &= a\\cdot\\sigma_x + b\\cdot\\sigma_y + c\\cdot\\sigma_z \\nonumber\\\\\n",
    "    &= (a, b, c)\\cdot\\vec{\\sigma} \\nonumber\\\\\n",
    "    &\\equiv \\dfrac{1}{2}\\vec{\\sigma}\\cdot\\hat{n}\\phi\n",
    "\\end{align} \\tag{3}\n",
    "$$\n",
    "where $\\sigma$'s are Pauli matrices, $\\hat{n}$ is the unit vector in $(a, b, c)$ direction, and $\\phi$ is twice the magnitude of $(a, b, c)$. These choices of parameters are for the consistency with the quantum spin community.\n",
    "\n",
    "Since $\\sigma_z$ is the only diagonal generator, it is trivial that the generators are of irreducible representation. Furthermore, the commutation relation of the Pauli matrix is\n",
    "$$\n",
    "    [\\sigma_p/2, \\sigma_q/2] = i\\epsilon_{pqr}\\sigma_r/2, \\tag{4}\n",
    "$$\n",
    "which is exactly the same as SO(3)'s Lie algebra. This means that we can directly define\n",
    "$$\n",
    "\\begin{align}\n",
    "    J^{(1/2)}_{p\\in\\{x, y, z\\}} &\\equiv \\sigma_p/2 \\\\\n",
    "    (J^{(1/2)})^2 &\\equiv (J^{(1/2)}_x)^2 + (J^{(1/2)}_y)^2 + (J^{(1/2)}_z)^2\n",
    "\\end{align} \\tag{5}\n",
    "$$\n",
    "where $(J^{(1/2)})^2$ commute with $J^{(1/2)}_{p\\in\\{x, y, z\\}}$. Hence, we can choose to label states with eigenvalues of $(J^{(1/2)})^2$ and $J^{(1/2)}_z$ which are $j(j+1)$ and $m$ where $j = 1/2$ and $m \\in \\{1/2, -1/2\\}$. From here, one can use tensor product together with representation reduction to generate all orders of representations with $j\\in\\{0, 1/2, 1, 3/2, ...\\}$.\n",
    "\n",
    "Because of these equivalence in algebra between SO(3) and SU(2), we can use ladder operator trick to get the ladder operators' matrix representations which, in turn, gives the matrix representations of $J^{(j)}_{p\\in\\{x, y\\}}$. ($J^{(j)}_z$ is trivial with our of choice of state and the fact that $m\\in\\{-j, -j+1, ..., j-1, j\\}$.) In fact, the e3nn package actually uses this SU(2) generator method and restrict the value of $l$ (instead of $j$) to be integer.\n",
    "\n",
    "### 3.2 Time-Reversal Symmetry"
   ]
  },
  {
   "attachments": {},
   "cell_type": "markdown",
   "id": "f1ba1a3c",
   "metadata": {},
   "source": [
    "## 4. Method"
   ]
  },
  {
   "attachments": {},
   "cell_type": "markdown",
   "id": "9c9665a8",
   "metadata": {},
   "source": [
    "## 5. Results\n",
    "### 5.1 Irreducible representations"
   ]
  },
  {
   "cell_type": "code",
   "execution_count": 1,
   "id": "8a14ab50",
   "metadata": {},
   "outputs": [],
   "source": [
    "from su2nn_e3nn_core.su2 import Irrep, Irreps"
   ]
  },
  {
   "attachments": {},
   "cell_type": "markdown",
   "id": "b10782d4",
   "metadata": {},
   "source": [
    "#### 5.1.1 Single Irrep\n",
    "Create a scalar representation (j = 0) of odd parity, and even time-reversal."
   ]
  },
  {
   "cell_type": "code",
   "execution_count": 2,
   "id": "87c63cee",
   "metadata": {},
   "outputs": [
    {
     "data": {
      "text/plain": [
       "0oe"
      ]
     },
     "execution_count": 2,
     "metadata": {},
     "output_type": "execute_result"
    }
   ],
   "source": [
    "Irrep('0oe')"
   ]
  },
  {
   "attachments": {},
   "cell_type": "markdown",
   "id": "82407d3f",
   "metadata": {},
   "source": [
    "Create the same irrep but with tuple arguments."
   ]
  },
  {
   "cell_type": "code",
   "execution_count": 3,
   "id": "9b4a9a0b",
   "metadata": {},
   "outputs": [
    {
     "data": {
      "text/plain": [
       "0oe"
      ]
     },
     "execution_count": 3,
     "metadata": {},
     "output_type": "execute_result"
    }
   ],
   "source": [
    "Irrep(0, -1, 1)"
   ]
  },
  {
   "attachments": {},
   "cell_type": "markdown",
   "id": "28b23644",
   "metadata": {},
   "source": [
    "Create a j = 7/2 representation of even parity, and odd time-reversal."
   ]
  },
  {
   "cell_type": "code",
   "execution_count": 4,
   "id": "613a875f",
   "metadata": {},
   "outputs": [
    {
     "data": {
      "text/plain": [
       "7/2eo"
      ]
     },
     "execution_count": 4,
     "metadata": {},
     "output_type": "execute_result"
    }
   ],
   "source": [
    "Irrep('3.5eo')"
   ]
  },
  {
   "attachments": {},
   "cell_type": "markdown",
   "id": "b12e6ac2",
   "metadata": {},
   "source": [
    "#### 5.1.2 Irreps\n",
    "\n",
    "Create composite object's Irreps that contain information\n",
    "\n",
    "of hydrogen's mass, displacement, and electron spin state."
   ]
  },
  {
   "cell_type": "code",
   "execution_count": 28,
   "id": "9e44787a",
   "metadata": {},
   "outputs": [
    {
     "data": {
      "text/plain": [
       "1x0ee+1x1oe+1x1/2eo"
      ]
     },
     "execution_count": 28,
     "metadata": {},
     "output_type": "execute_result"
    }
   ],
   "source": [
    "irreps = Irreps('1x0ee+1x1oe') + Irrep('0.5eo')"
   ]
  },
  {
   "attachments": {},
   "cell_type": "markdown",
   "id": "95c3f851",
   "metadata": {},
   "source": [
    "Total dimension of this object."
   ]
  },
  {
   "cell_type": "code",
   "execution_count": 6,
   "id": "15a77088",
   "metadata": {},
   "outputs": [
    {
     "data": {
      "text/plain": [
       "6"
      ]
     },
     "execution_count": 6,
     "metadata": {},
     "output_type": "execute_result"
    }
   ],
   "source": [
    "irreps.dim"
   ]
  },
  {
   "attachments": {},
   "cell_type": "markdown",
   "id": "b76fb914",
   "metadata": {},
   "source": [
    "Number of Irreps."
   ]
  },
  {
   "cell_type": "code",
   "execution_count": 7,
   "id": "abd90490",
   "metadata": {},
   "outputs": [
    {
     "data": {
      "text/plain": [
       "3"
      ]
     },
     "execution_count": 7,
     "metadata": {},
     "output_type": "execute_result"
    }
   ],
   "source": [
    "irreps.num_irreps"
   ]
  },
  {
   "attachments": {},
   "cell_type": "markdown",
   "id": "21db86a5",
   "metadata": {},
   "source": [
    "List all j's in the Irreps."
   ]
  },
  {
   "cell_type": "code",
   "execution_count": 8,
   "id": "0738d75f",
   "metadata": {},
   "outputs": [
    {
     "data": {
      "text/plain": [
       "[Fraction(0, 1), Fraction(1, 1), Fraction(1, 2)]"
      ]
     },
     "execution_count": 8,
     "metadata": {},
     "output_type": "execute_result"
    }
   ],
   "source": [
    "irreps.ls"
   ]
  },
  {
   "cell_type": "code",
   "execution_count": 9,
   "id": "e642f60a",
   "metadata": {},
   "outputs": [
    {
     "data": {
      "text/plain": [
       "tensor([[ 1.+0.j,  0.+0.j,  0.+0.j,  0.+0.j,  0.+0.j,  0.+0.j],\n",
       "        [ 0.+0.j, -1.+0.j, -0.+0.j, -0.+0.j,  0.+0.j,  0.+0.j],\n",
       "        [ 0.+0.j, -0.+0.j, -1.+0.j, -0.+0.j,  0.+0.j,  0.+0.j],\n",
       "        [ 0.+0.j, -0.+0.j, -0.+0.j, -1.+0.j,  0.+0.j,  0.+0.j],\n",
       "        [ 0.+0.j,  0.+0.j,  0.+0.j,  0.+0.j,  1.+0.j,  0.+0.j],\n",
       "        [ 0.+0.j,  0.+0.j,  0.+0.j,  0.+0.j,  0.+0.j,  1.+0.j]],\n",
       "       dtype=torch.complex128)"
      ]
     },
     "execution_count": 9,
     "metadata": {},
     "output_type": "execute_result"
    }
   ],
   "source": [
    "import torch\n",
    "t = torch.tensor\n",
    "\n",
    "# show the transformation matrix corresponding to the inversion\n",
    "irreps.D_from_angles(alpha=t(0.0), beta=t(0.0), gamma=t(0.0), ps=t(1), ts = t(0))"
   ]
  },
  {
   "cell_type": "code",
   "execution_count": 10,
   "id": "6d498064",
   "metadata": {},
   "outputs": [
    {
     "data": {
      "text/plain": [
       "tensor([[1.0000+0.0000j, 0.0000+0.0000j, 0.0000+0.0000j, 0.0000+0.0000j,\n",
       "         0.0000+0.0000j, 0.0000+0.0000j],\n",
       "        [0.0000+0.0000j, 0.9950+0.0998j, 0.0000+0.0000j, 0.0000+0.0000j,\n",
       "         0.0000+0.0000j, 0.0000+0.0000j],\n",
       "        [0.0000+0.0000j, 0.0000+0.0000j, 1.0000+0.0000j, 0.0000+0.0000j,\n",
       "         0.0000+0.0000j, 0.0000+0.0000j],\n",
       "        [0.0000+0.0000j, 0.0000+0.0000j, 0.0000+0.0000j, 0.9950-0.0998j,\n",
       "         0.0000+0.0000j, 0.0000+0.0000j],\n",
       "        [0.0000+0.0000j, 0.0000+0.0000j, 0.0000+0.0000j, 0.0000+0.0000j,\n",
       "         0.9988+0.0500j, 0.0000+0.0000j],\n",
       "        [0.0000+0.0000j, 0.0000+0.0000j, 0.0000+0.0000j, 0.0000+0.0000j,\n",
       "         0.0000+0.0000j, 0.9988-0.0500j]], dtype=torch.complex128)"
      ]
     },
     "execution_count": 10,
     "metadata": {},
     "output_type": "execute_result"
    }
   ],
   "source": [
    "# a small rotation around the y axis\n",
    "irreps.D_from_angles(alpha=t(0.1), beta=t(0.0), gamma=t(0.0), ps=t(0), ts=t(0))"
   ]
  },
  {
   "cell_type": "code",
   "execution_count": 11,
   "id": "705ac568",
   "metadata": {},
   "outputs": [
    {
     "data": {
      "text/plain": [
       "[]"
      ]
     },
     "execution_count": 11,
     "metadata": {},
     "output_type": "execute_result"
    },
    {
     "data": {
      "image/png": "[encoded data removed]",
      "text/plain": [
       "<Figure size 1000x500 with 2 Axes>"
      ]
     },
     "metadata": {},
     "output_type": "display_data"
    }
   ],
   "source": [
    "irreps = Irreps(\"3x0ee + 2x0oe + 1x1eo + 1x2oe\")\n",
    "irreps = Irreps(\"1x5.5eo\")\n",
    "from su2nn_e3nn_core import su2\n",
    "rot = -su2.rand_matrix()\n",
    "\n",
    "D = irreps.D_from_angles(torch.tensor([30]), torch.tensor([50]), torch.tensor([10]))\n",
    "D = irreps.D_from_matrix(rot)\n",
    "# print(D)\n",
    "\n",
    "D = D.reshape(irreps.dim, irreps.dim)\n",
    "import matplotlib.pyplot as plt\n",
    "fig, axs = plt.subplots(1,2, figsize = (10, 5))\n",
    "ax1, ax2 = axs[0], axs[1]\n",
    "ax1.imshow(D.real, cmap='bwr', vmin=-1, vmax=1)\n",
    "ax1.set_title('Real')\n",
    "ax2.imshow(D.imag, cmap='bwr', vmin=-1, vmax=1)\n",
    "ax2.set_title('Imag')\n",
    "plt.plot()"
   ]
  },
  {
   "cell_type": "code",
   "execution_count": 35,
   "id": "7ab8824a",
   "metadata": {},
   "outputs": [
    {
     "data": {
      "text/plain": [
       "[]"
      ]
     },
     "execution_count": 35,
     "metadata": {},
     "output_type": "execute_result"
    },
    {
     "data": {
      "image/png": "[encoded data removed]",
      "text/plain": [
       "<Figure size 1000x500 with 2 Axes>"
      ]
     },
     "metadata": {},
     "output_type": "display_data"
    }
   ],
   "source": [
    "from su2nn_e3nn_core import su2\n",
    "\n",
    "irreps = Irreps('1x0ee+1x1/2ee+1x1ee+1x3/2ee+4ee')\n",
    "rot = -su2.rand_matrix()\n",
    "D = irreps.D_from_matrix(rot)\n",
    "\n",
    "import matplotlib.pyplot as plt\n",
    "fig, axs = plt.subplots(1,2, figsize = (10, 5))\n",
    "ax1, ax2 = axs[0], axs[1]\n",
    "ax1.imshow(D.real, cmap='bwr', vmin=-1, vmax=1)\n",
    "ax1.set_title('Real')\n",
    "ax2.imshow(D.imag, cmap='bwr', vmin=-1, vmax=1)\n",
    "ax2.set_title('Imag')\n",
    "plt.plot()"
   ]
  },
  {
   "cell_type": "code",
   "execution_count": 42,
   "id": "eb8b3bde",
   "metadata": {},
   "outputs": [
    {
     "data": {
      "text/plain": [
       "[]"
      ]
     },
     "execution_count": 42,
     "metadata": {},
     "output_type": "execute_result"
    },
    {
     "data": {
      "image/png": "[encoded data removed]",
      "text/plain": [
       "<Figure size 1000x300 with 4 Axes>"
      ]
     },
     "metadata": {},
     "output_type": "display_data"
    }
   ],
   "source": [
    "from su2nn_e3nn_core.su2 import Irreps\n",
    "import torch\n",
    "\n",
    "irreps = Irreps('1x0ee+1x1/2ee+1x1ee+1x3/2ee+4ee')\n",
    "\n",
    "\n",
    "D = irreps.D_from_angles(t(0), t(2*torch.pi), t(0))\n",
    "x = torch.reshape(torch.rand(irreps.dim, dtype = torch.complex128), (-1, 1))\n",
    "\n",
    "import matplotlib.pyplot as plt\n",
    "fig, axs = plt.subplots(2, 2, figsize = (10, 3))\n",
    "ax1, ax2 = axs[0], axs[1]\n",
    "\n",
    "ax1[0].imshow(x.real.T, cmap='bwr', vmin=-1, vmax=1)\n",
    "ax2[0].imshow(x.imag.T, cmap='bwr', vmin=-1, vmax=1)\n",
    "ax1[0].set_title('Original')\n",
    "ax1[0].set_ylabel('Real')\n",
    "ax1[1].set_title(r'After $2\\pi$ rotation')\n",
    "ax1[1].set_ylabel('Real')\n",
    "ax1[0].set_xticks([])\n",
    "ax1[0].set_yticks([])\n",
    "ax1[1].set_xticks([])\n",
    "ax1[1].set_yticks([])\n",
    "\n",
    "ax1[1].imshow((D@x).real.T, cmap='bwr', vmin=-1, vmax=1)\n",
    "ax2[1].imshow((D@x).imag.T, cmap='bwr', vmin=-1, vmax=1)\n",
    "ax2[0].set_ylabel('Imag')\n",
    "ax2[1].set_ylabel('Imag')\n",
    "ax2[0].set_xticks([])\n",
    "ax2[0].set_yticks([])\n",
    "ax2[1].set_xticks([])\n",
    "ax2[1].set_yticks([])\n",
    "plt.tight_layout()\n",
    "plt.plot()"
   ]
  },
  {
   "attachments": {},
   "cell_type": "markdown",
   "id": "5f712e96",
   "metadata": {},
   "source": [
    "### Tensor Product"
   ]
  },
  {
   "cell_type": "code",
   "execution_count": 27,
   "id": "71a74e5c",
   "metadata": {},
   "outputs": [
    {
     "name": "stderr",
     "output_type": "stream",
     "text": [
      "d:\\python_virtualenv\\su2nn\\lib\\site-packages\\torch\\jit\\_check.py:172: UserWarning: The TorchScript type system doesn't support instance-level annotations on empty non-base types in `__init__`. Instead, either 1) use a type annotation in the class body, or 2) wrap the type in `torch.jit.Attribute`.\n",
      "  warnings.warn(\"The TorchScript type system doesn't support \"\n"
     ]
    },
    {
     "data": {
      "text/plain": [
       "FullTensorProduct(1x2eo+2x1/2oo x 2x0ee+1x3/2oe -> 5x1/2oo+2x1eo+1x3/2oo+4x2eo+1x5/2oo+1x7/2oo | 14 paths | 0 weights)"
      ]
     },
     "execution_count": 27,
     "metadata": {},
     "output_type": "execute_result"
    },
    {
     "data": {
      "image/png": "[encoded data removed]",
      "text/plain": [
       "<Figure size 640x480 with 1 Axes>"
      ]
     },
     "metadata": {},
     "output_type": "display_data"
    }
   ],
   "source": [
    "tp = su2.FullTensorProduct('1x2eo+2x1/2oo', '2x0ee+1x3/2oe')\n",
    "tp.visualize()\n",
    "tp"
   ]
  },
  {
   "cell_type": "code",
   "execution_count": 15,
   "id": "730c88d3",
   "metadata": {},
   "outputs": [
    {
     "data": {
      "text/plain": [
       "tensor([  0.1565,   5.1431,   8.4853,   9.8995,  16.9706,  19.7990,  11.3137,\n",
       "         12.7279,  22.6274,  25.4558,  10.7154,  -2.4495, -23.6891,  12.7872,\n",
       "         -4.8990, -33.0289,   4.2551,  12.0353,  20.7362,  16.0997,   2.2361,\n",
       "          4.4721,   6.7082,   8.9443,  11.1803,   4.4721,   8.9443,  13.4164,\n",
       "         17.8885,  22.3607,  40.2492,  69.9545,  91.7061, 108.0264,  93.9149,\n",
       "         53.6656,  92.1547, 120.1666, 140.8078, 120.7477,   2.2148,   4.2165,\n",
       "          6.1374,   9.6220,   9.7848,   7.8054,   8.4853,  20.2351,  36.0567,\n",
       "         55.2448,  75.5696,  91.3561,  97.6052,  84.8528])"
      ]
     },
     "execution_count": 15,
     "metadata": {},
     "output_type": "execute_result"
    }
   ],
   "source": [
    "tp.forward(torch.tensor([1., 2., 3., 4., 5., 6., 7., 8., 9.]), torch.tensor([1., 2., 3., 4., 5., 6.]))"
   ]
  },
  {
   "attachments": {},
   "cell_type": "markdown",
   "id": "3d0a0a2b",
   "metadata": {},
   "source": [
    "# Convolution"
   ]
  },
  {
   "cell_type": "code",
   "execution_count": 16,
   "id": "2c268c5a",
   "metadata": {},
   "outputs": [],
   "source": [
    "import torch\n",
    "from torch_cluster import radius_graph\n",
    "from torch_scatter import scatter\n",
    "from su2nn_e3nn_core import su2, nn\n",
    "from su2nn_e3nn_core.math import soft_one_hot_linspace\n",
    "from e3nn import o3\n",
    "import matplotlib.pyplot as plt"
   ]
  },
  {
   "cell_type": "code",
   "execution_count": 17,
   "id": "c26ecf87",
   "metadata": {},
   "outputs": [],
   "source": [
    "from su2nn_e3nn_core.su2 import Irrep, Irreps\n",
    "\n",
    "jmax = 1\n",
    "irreps_input = su2.Irreps(\"2x1oe + 2x3/2ee\")\n",
    "irreps_output = su2.Irreps(\"1x0oe + 1x1/2ee\")\n",
    "irreps_edge_attr = Irreps([(1, x) for x in Irrep.iterator(jmax)])"
   ]
  },
  {
   "cell_type": "code",
   "execution_count": 18,
   "id": "8d6d7695",
   "metadata": {},
   "outputs": [
    {
     "data": {
      "image/png": "[encoded data removed]",
      "text/plain": [
       "<Figure size 640x480 with 1 Axes>"
      ]
     },
     "metadata": {},
     "output_type": "display_data"
    }
   ],
   "source": [
    "\n",
    "tp = su2.FullyConnectedTensorProduct(irreps_input, Irreps([(1, x) for x in Irrep.iterator(jmax)]), irreps_output, shared_weights = False)\n",
    "\n",
    "tp.visualize();"
   ]
  },
  {
   "cell_type": "code",
   "execution_count": 19,
   "id": "ce9c06a1",
   "metadata": {},
   "outputs": [
    {
     "data": {
      "text/plain": [
       "FullyConnectedTensorProduct(2x1oe+2x3/2ee x 1x0ee+1x0eo+1x0oe+1x0oo+1x1/2ee+1x1/2eo+1x1/2oe+1x1/2oo+1x1ee+1x1eo+1x1oe+1x1oo -> 1x0oe+1x1/2ee | 6 paths | 6 weights)"
      ]
     },
     "execution_count": 19,
     "metadata": {},
     "output_type": "execute_result"
    }
   ],
   "source": [
    "tp"
   ]
  },
  {
   "cell_type": "code",
   "execution_count": 20,
   "id": "ab7eb0ab",
   "metadata": {},
   "outputs": [
    {
     "data": {
      "text/plain": [
       "tensor([[-0.3402,  0.3690,  0.6199]])"
      ]
     },
     "execution_count": 20,
     "metadata": {},
     "output_type": "execute_result"
    }
   ],
   "source": [
    "x = torch.randn(irreps_input.dim)\n",
    "y = torch.randn(irreps_edge_attr.dim)\n",
    "w = torch.randn(1, tp.weight_numel)\n",
    "tp(x, y, w)"
   ]
  },
  {
   "cell_type": "code",
   "execution_count": 21,
   "id": "d29ec96e",
   "metadata": {},
   "outputs": [
    {
     "name": "stdout",
     "output_type": "stream",
     "text": [
      "torch.float64 torch.float64 torch.float64 torch.float64\n"
     ]
    },
    {
     "data": {
      "text/plain": [
       "tensor([[ 0.3402, -0.3690, -0.6199]])"
      ]
     },
     "execution_count": 21,
     "metadata": {},
     "output_type": "execute_result"
    }
   ],
   "source": [
    "Df_input = irreps_input.D_from_angles(torch.tensor(0), torch.tensor(2*torch.pi), torch.tensor(0), ps = torch.tensor(1), ts = torch.tensor(0)).real\n",
    "Df_edge = irreps_edge_attr.D_from_angles(torch.tensor(0), torch.tensor(2*torch.pi), torch.tensor(0), ps = torch.tensor(1), ts = torch.tensor(0)).real\n",
    "Df_output = irreps_output.D_from_angles(torch.tensor(0), torch.tensor(2*torch.pi), torch.tensor(0), ps = torch.tensor(1), ts = torch.tensor(0)).real\n",
    "print(Df_input.dtype, x.dtype, y.dtype, w.dtype)\n",
    "tp(Df_input@x, Df_edge@y, w)\n"
   ]
  },
  {
   "cell_type": "code",
   "execution_count": 22,
   "id": "b50be674",
   "metadata": {},
   "outputs": [
    {
     "data": {
      "text/plain": [
       "tensor([[ 0.3402, -0.3690, -0.6199]])"
      ]
     },
     "execution_count": 22,
     "metadata": {},
     "output_type": "execute_result"
    }
   ],
   "source": [
    "(Df_output@tp(x, y, w).T).T"
   ]
  },
  {
   "cell_type": "code",
   "execution_count": 23,
   "id": "4c9b1863",
   "metadata": {},
   "outputs": [
    {
     "name": "stderr",
     "output_type": "stream",
     "text": [
      "d:\\python_virtualenv\\su2nn\\lib\\site-packages\\torch\\jit\\_check.py:172: UserWarning: The TorchScript type system doesn't support instance-level annotations on empty non-base types in `__init__`. Instead, either 1) use a type annotation in the class body, or 2) wrap the type in `torch.jit.Attribute`.\n",
      "  warnings.warn(\"The TorchScript type system doesn't support \"\n"
     ]
    },
    {
     "data": {
      "text/plain": [
       "tensor([[ 0.0012, -0.0053, -0.0052]], grad_fn=<ScatterAddBackward0>)"
      ]
     },
     "execution_count": 23,
     "metadata": {},
     "output_type": "execute_result"
    }
   ],
   "source": [
    "from su2nn_e3nn_core.su2 import Irrep, Irreps\n",
    "import torch\n",
    "import numpy as np\n",
    "from project.model import GraphNetwork\n",
    "from torch_cluster import radius_graph\n",
    "\n",
    "jmax = 2\n",
    "mul = 2\n",
    "nlayers = 2\n",
    "number_of_basis = 10\n",
    "radial_layers = 10\n",
    "radial_neurons = 10\n",
    "\n",
    "irreps_input = Irreps(\"1x1oe + 1x3/2ee\")\n",
    "irreps_output = Irreps(\"1x0oe + 1x1/2ee\")\n",
    "irreps_edge_attr = Irreps([(1, x) for x in Irrep.iterator(jmax)])\n",
    "\n",
    "num_nodes = 2\n",
    "def get_node_deg(edge_dst, n):\n",
    "    node_deg = np.zeros((n, 1))\n",
    "    for dst in edge_dst:\n",
    "        node_deg[dst] += 1\n",
    "    node_deg += node_deg == 0\n",
    "    return torch.from_numpy(node_deg)\n",
    "\n",
    "pos = torch.randn(num_nodes, 3)\n",
    "\n",
    "max_radius = torch.tensor(4)\n",
    "edge_src, edge_dst = radius_graph(pos, max_radius, max_num_neighbors = num_nodes - 1)\n",
    "\n",
    "edge_vec = pos[edge_dst] - pos[edge_src]\n",
    "edge_len = torch.linalg.norm(edge_vec, dim = -1)\n",
    "\n",
    "x = torch.randn(num_nodes, irreps_input.dim)\n",
    "z = torch.randn(num_nodes, 1)\n",
    "deg = get_node_deg(edge_dst, len(x))\n",
    "\n",
    "model = GraphNetwork(mul, irreps_input, irreps_output, jmax, nlayers, number_of_basis, radial_layers, radial_neurons)\n",
    "out = model(x, z, edge_src, edge_dst, edge_vec, edge_len, max_radius, deg)\n",
    "out"
   ]
  },
  {
   "cell_type": "code",
   "execution_count": 24,
   "id": "f24153fa",
   "metadata": {},
   "outputs": [],
   "source": [
    "D_inp = irreps_input.D_from_angles(torch.tensor(0), torch.tensor(4*torch.pi), torch.tensor(0)).real\n",
    "D_out = irreps_output.D_from_angles(torch.tensor(0), torch.tensor(4*torch.pi), torch.tensor(0)).real"
   ]
  },
  {
   "cell_type": "code",
   "execution_count": 25,
   "id": "0f8d0323",
   "metadata": {},
   "outputs": [
    {
     "data": {
      "text/plain": [
       "tensor([[ 0.0012, -0.0053, -0.0052]], grad_fn=<ScatterAddBackward0>)"
      ]
     },
     "execution_count": 25,
     "metadata": {},
     "output_type": "execute_result"
    }
   ],
   "source": [
    "model(torch.einsum('ij,kj->ki', D_inp, x), z, edge_src, edge_dst, edge_vec, edge_len, max_radius, deg)"
   ]
  }
 ],
 "metadata": {
  "kernelspec": {
   "display_name": "su2nn",
   "language": "python",
   "name": "python3"
  },
  "language_info": {
   "codemirror_mode": {
    "name": "ipython",
    "version": 3
   },
   "file_extension": ".py",
   "mimetype": "text/x-python",
   "name": "python",
   "nbconvert_exporter": "python",
   "pygments_lexer": "ipython3",
   "version": "3.9.13"
  }
 },
 "nbformat": 4,
 "nbformat_minor": 5
}
