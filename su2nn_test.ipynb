{
 "cells": [
  {
   "attachments": {},
   "cell_type": "markdown",
   "id": "0155ce18",
   "metadata": {},
   "source": [
    "# su2nn: SU(2) and time-reversal equivariant neural network for quantum spin system"
   ]
  },
  {
   "attachments": {},
   "cell_type": "markdown",
   "id": "4ef2dd52",
   "metadata": {},
   "source": [
    "## 1. Introduction\n",
    "\n",
    "The first obvious quantum spin effect we can observe is in the field of magnetism. Magnetism is important because it is crucial in various technological applications, such as data storage, electric motors, and generators. In addition, magnetic materials have been widely studied in condensed matter physics, where understanding their magnetic properties can provide insights into fundamental phenomena such as quantum phase transitions and spin dynamics. Moreover, the most recent theoretical developments of quantum spin have led to many applications in advanced fields like topological material, lossless electronics, and quantum information.\n",
    "\n",
    "Quantum spin is the quantum angular momentum internal degree of freedom. Together with the external counterpart, the quantum angular momentum has SU(2) as its symmetry group, i.e. it can be described by a representation of the group of 2 by 2 unitary matrices with unit determinant. It also turns out that SU(2) is a Lie group with exactly the same Lie algebra as SO(3), up to the generators equivalence. This means that SU(2) is homomorphic to SO(3), but SU(2) is more fundamental in describing quantum systems. Furthermore, spin systems can also break the time-reversal symmetry which is a discrete symmetry similar to parity but for temporal instead of spatial. With this nature of quantum spin system’s symmetry, it is straight forward to attempt the generalization of e3nn package that is already SO(3) and parity equivariant to also SU(2) and time-reversal equivariant in order to make a machine learning model that is suitable to the symmetry of the spin system.\n",
    "\n",
    "In this project, we modified the source code of e3nn, specifically the irreducible representation classes, to handle the SU(2) symmetry group, i.e. expanding integer angular number requirement to include half-integer, and increase the discrete symmetry channel of time-reversal on top of parity. We then propagated the change of this class through out the whole e3nn package. After that, we tested the sanity of the modified package with various equivariant properties we learned in class, and performed experiments with some simple quantum spin systems."
   ]
  },
  {
   "attachments": {},
   "cell_type": "markdown",
   "id": "bc0e99c9",
   "metadata": {},
   "source": [
    "## 2. Related Works\n",
    "\n",
    "Machine learning has been increasingly applied to predicting material properties, including spin, due to its potential to enhance accuracy and efficiency compared to traditional methods. There are works taking the symmetry described in SU(2) to represent the property of spin in a reasonable way. \n",
    "\n",
    "Machine learning helps us understand the relationship between spin configuration and other material properties. Models are proposed for predicting the properties of quantum materials, like the topological features of their electronic structures, using spin configuration as input. Also, there are models predicting spin states. A  neural network model to predict whether the spin is up or down, providing the electronic configurations of transition-metal compounds. This is important for understanding their magnetic and electronic properties. The model utilizes local crystal structure as input to predict electronic configurations accurately. Another work proposes a machine learning method using an artificial neural network to represent a complex spin Hamiltonian, which can be used to study spin systems. The method utilizes a feedforward neural network with a modified activation function to represent the Hamiltonian and shows promising results in predicting the behavior of spin systems.\n",
    "\n",
    "A graph neural network (GNN) is the most common approach to studying the structure-property relationship of materials, as it can take the geometrical aspect of materials into the models. A graph neural network model can predict material properties incorporating local and global information about the material structure. The model utilizes residual correlation to enhance the accuracy of prediction performance through the work using spin states of the Ising model. Another model utilizes the local environment of each atom in the material to predict its magnetic moment and shows improved accuracy compared to traditional methods.\n",
    "\n",
    "We can use machine learning to detect and evaluate the specific symmetry of the dataset. One work presents a neural network method for detecting symmetries like the one in SU(2), which can be applied to identify symmetry-protected topological phases. The method utilizes convolutional neural networks to learn the features of the data and then applies group theoretic techniques to extract the symmetries. Another model work presents a machine learning approach to learning order parameters of SU(2) lattice gauge theory, which describes the behavior of spin systems. The method utilizes a neural network to learn the mapping from spin configurations to the corresponding order parameters and shows promising results in predicting the behavior of spin systems."
   ]
  },
  {
   "attachments": {},
   "cell_type": "markdown",
   "id": "639753b0",
   "metadata": {},
   "source": [
    "## 3. Background\n",
    "### 3.1 SU(2) Irreducible Representation\n",
    "Similar to the process for SO(3) in lectures, one can start from the definition of SU(2) as a group of 2 by 2 unitary matrices with unit determinant. This entails that each member of the group can be written in the form\n",
    "$$\n",
    "    U = e^{-iA} \\tag{1}\n",
    "$$\n",
    "with \n",
    "$$\n",
    "    A^\\dag = A, \\text{Tr}A = 0. \\tag{2}\n",
    "$$\n",
    "From this criteria, we can deduce one possible selection of the generators as\n",
    "$$\n",
    "\\begin{align}\n",
    "    A &= \\begin{bmatrix}c & a - ib \\\\ a + ib & - c\\end{bmatrix} \\nonumber\\\\\n",
    "    &= a\\cdot\\sigma_x + b\\cdot\\sigma_y + c\\cdot\\sigma_z \\nonumber\\\\\n",
    "    &= (a, b, c)\\cdot\\vec{\\sigma} \\nonumber\\\\\n",
    "    &\\equiv \\dfrac{1}{2}\\vec{\\sigma}\\cdot\\hat{n}\\phi\n",
    "\\end{align} \\tag{3}\n",
    "$$\n",
    "where $\\sigma$'s are Pauli matrices, $\\hat{n}$ is the unit vector in $(a, b, c)$ direction, and $\\phi$ is twice the magnitude of $(a, b, c)$. These choices of parameters are for the consistency with the quantum spin community.\n",
    "\n",
    "Since $\\sigma_z$ is the only diagonal generator, it is trivial that the generators are of irreducible representation. Furthermore, the commutation relation of the Pauli matrix is\n",
    "$$\n",
    "    [\\sigma_p/2, \\sigma_q/2] = i\\epsilon_{pqr}\\sigma_r/2, \\tag{4}\n",
    "$$\n",
    "which is exactly the same as SO(3)'s Lie algebra. This means that we can directly define\n",
    "$$\n",
    "\\begin{align}\n",
    "    J^{(1/2)}_{p\\in\\{x, y, z\\}} &\\equiv \\sigma_p/2 \\\\\n",
    "    (J^{(1/2)})^2 &\\equiv (J^{(1/2)}_x)^2 + (J^{(1/2)}_y)^2 + (J^{(1/2)}_z)^2\n",
    "\\end{align} \\tag{5}\n",
    "$$\n",
    "where $(J^{(1/2)})^2$ commute with $J^{(1/2)}_{p\\in\\{x, y, z\\}}$. Hence, we can choose to label states with eigenvalues of $(J^{(1/2)})^2$ and $J^{(1/2)}_z$ which are $j(j+1)$ and $m$ where $j = 1/2$ and $m \\in \\{1/2, -1/2\\}$. From here, one can use tensor product together with representation reduction to generate all orders of representations with $j\\in\\{0, 1/2, 1, 3/2, ...\\}$.\n",
    "\n",
    "Because of these equivalence in algebra between SO(3) and SU(2), we can use ladder operator trick to get the ladder operators' matrix representations which, in turn, gives the matrix representations of $J^{(j)}_{p\\in\\{x, y\\}}$. ($J^{(j)}_z$ is trivial with our of choice of state and the fact that $m\\in\\{-j, -j+1, ..., j-1, j\\}$.) In fact, the e3nn package actually uses this SU(2) generator method and restrict the value of $l$ (instead of $j$) to be integer.\n",
    "\n",
    "### 3.2 Time-Reversal Symmetry"
   ]
  },
  {
   "attachments": {},
   "cell_type": "markdown",
   "id": "f1ba1a3c",
   "metadata": {},
   "source": [
    "## 4. Method"
   ]
  },
  {
   "attachments": {},
   "cell_type": "markdown",
   "id": "9c9665a8",
   "metadata": {},
   "source": [
    "## 5. Results\n",
    "### 5.1 Irreducible representations"
   ]
  },
  {
   "cell_type": "code",
   "execution_count": 20,
   "id": "8a14ab50",
   "metadata": {},
   "outputs": [],
   "source": [
    "from su2nn_e3nn_core.su2 import Irreps, Irrep\n",
    "from e3nn import o3\n",
    "from ase import Atoms\n",
    "import torch\n",
    "from torch_geometric.data import Data, DataLoader\n",
    "import numpy as np\n",
    "import pandas as pd\n",
    "from project.model import GraphConvolution, GraphNetwork, Convolution, Network, irreps_o3_to_su2, irreps_su2_to_o3\n",
    "from project.data import generate_data_dict"
   ]
  },
  {
   "cell_type": "code",
   "execution_count": 21,
   "id": "87c63cee",
   "metadata": {},
   "outputs": [
    {
     "data": {
      "text/plain": [
       "1x1oe"
      ]
     },
     "execution_count": 21,
     "metadata": {},
     "output_type": "execute_result"
    }
   ],
   "source": [
    "# physical vector \n",
    "irreps = Irreps(\"1oe\")\n",
    "irreps"
   ]
  },
  {
   "cell_type": "code",
   "execution_count": 22,
   "id": "ca4e29ef",
   "metadata": {},
   "outputs": [
    {
     "data": {
      "text/plain": [
       "1x1eo"
      ]
     },
     "execution_count": 22,
     "metadata": {},
     "output_type": "execute_result"
    }
   ],
   "source": [
    "# spin\n",
    "irreps2 = Irreps(\"1eo\")\n",
    "irreps2"
   ]
  },
  {
   "cell_type": "code",
   "execution_count": 23,
   "id": "680c9f2c",
   "metadata": {},
   "outputs": [
    {
     "data": {
      "text/plain": [
       "1x1/2eo"
      ]
     },
     "execution_count": 23,
     "metadata": {},
     "output_type": "execute_result"
    }
   ],
   "source": [
    "irreps3 = Irreps(\"0.5eo\")\n",
    "irreps3"
   ]
  },
  {
   "cell_type": "code",
   "execution_count": 24,
   "id": "ea7ee735",
   "metadata": {},
   "outputs": [
    {
     "name": "stdout",
     "output_type": "stream",
     "text": [
      "1\n",
      "1x1oe\n",
      "2\n",
      "1\n",
      "1oe\n",
      "1 -1\n"
     ]
    }
   ],
   "source": [
    "# Tuple[Tuple[int, Tuple[int, int]]]\n",
    "# ((multiplicity, (l, p)), ...)\n",
    "\n",
    "print(len(irreps))\n",
    "mul_ir = irreps[0]  # a tuple\n",
    "\n",
    "print(mul_ir)\n",
    "print(len(mul_ir))\n",
    "mul = mul_ir[0]  # an int\n",
    "ir = mul_ir[1]  # another tuple\n",
    "\n",
    "print(mul)\n",
    "\n",
    "print(ir)\n",
    "# print(len(ir))  ir is a tuple of 2 ints but __len__ has been disabled since it is always 2\n",
    "l = ir[0]\n",
    "p = ir[1]\n",
    "\n",
    "print(l, p)"
   ]
  },
  {
   "cell_type": "code",
   "execution_count": 25,
   "id": "e642f60a",
   "metadata": {},
   "outputs": [
    {
     "data": {
      "text/plain": [
       "tensor([[-1.+0.j, -0.+0.j, -0.+0.j],\n",
       "        [-0.+0.j, -1.+0.j, -0.+0.j],\n",
       "        [-0.+0.j, -0.+0.j, -1.+0.j]])"
      ]
     },
     "execution_count": 25,
     "metadata": {},
     "output_type": "execute_result"
    }
   ],
   "source": [
    "import torch\n",
    "t = torch.tensor\n",
    "\n",
    "# show the transformation matrix corresponding to the inversion\n",
    "irreps.D_from_angles(alpha=t(0.0), beta=t(0.0), gamma=t(0.0), k=t(1))"
   ]
  },
  {
   "cell_type": "code",
   "execution_count": 26,
   "id": "6d498064",
   "metadata": {},
   "outputs": [
    {
     "data": {
      "text/plain": [
       "tensor([[0.9950+0.0998j, 0.0000+0.0000j, 0.0000+0.0000j],\n",
       "        [0.0000+0.0000j, 1.0000+0.0000j, 0.0000+0.0000j],\n",
       "        [0.0000+0.0000j, 0.0000+0.0000j, 0.9950-0.0998j]])"
      ]
     },
     "execution_count": 26,
     "metadata": {},
     "output_type": "execute_result"
    }
   ],
   "source": [
    "# a small rotation around the y axis\n",
    "irreps.D_from_angles(alpha=t(0.1), beta=t(0.0), gamma=t(0.0), k=t(0))"
   ]
  },
  {
   "cell_type": "code",
   "execution_count": null,
   "id": "2e776dd4",
   "metadata": {},
   "outputs": [],
   "source": []
  },
  {
   "attachments": {},
   "cell_type": "markdown",
   "id": "93926026",
   "metadata": {},
   "source": [
    "## 5.2 Rotation by D matrix"
   ]
  },
  {
   "cell_type": "code",
   "execution_count": 27,
   "id": "705ac568",
   "metadata": {},
   "outputs": [
    {
     "data": {
      "text/plain": [
       "[]"
      ]
     },
     "execution_count": 27,
     "metadata": {},
     "output_type": "execute_result"
    },
    {
     "data": {
      "image/png": "[encoded data removed]",
      "text/plain": [
       "<Figure size 1000x500 with 2 Axes>"
      ]
     },
     "metadata": {},
     "output_type": "display_data"
    }
   ],
   "source": [
    "irreps = Irreps(\"2x0oe + 1x1eo + 1x2oe\")\n",
    "# irreps = Irreps(\"1x5.5eo\")\n",
    "from su2nn_e3nn_core import su2\n",
    "rot = -su2.rand_matrix()\n",
    "\n",
    "D = irreps.D_from_angles(torch.tensor([30]), torch.tensor([50]), torch.tensor([10]))\n",
    "D = irreps.D_from_matrix(rot)\n",
    "# print(D)\n",
    "\n",
    "D = D.reshape(irreps.dim, irreps.dim)\n",
    "import matplotlib.pyplot as plt\n",
    "fig, axs = plt.subplots(1,2, figsize = (10, 5))\n",
    "ax1, ax2 = axs[0], axs[1]\n",
    "ax1.imshow(D.real, cmap='bwr', vmin=-1, vmax=1)\n",
    "ax1.set_title('Real')\n",
    "ax2.imshow(D.imag, cmap='bwr', vmin=-1, vmax=1)\n",
    "ax2.set_title('Imag')\n",
    "plt.plot()"
   ]
  },
  {
   "cell_type": "code",
   "execution_count": 28,
   "id": "7ab8824a",
   "metadata": {},
   "outputs": [
    {
     "data": {
      "text/plain": [
       "[]"
      ]
     },
     "execution_count": 28,
     "metadata": {},
     "output_type": "execute_result"
    },
    {
     "data": {
      "image/png": "[encoded data removed]",
      "text/plain": [
       "<Figure size 1000x500 with 2 Axes>"
      ]
     },
     "metadata": {},
     "output_type": "display_data"
    }
   ],
   "source": [
    "irreps = Irreps(\"2x1oe + 1x1eo +1x0.5eo + 1x1.5oe + 1x1.5oo\")\n",
    "from su2nn_e3nn_core import su2\n",
    "rot = -su2.rand_matrix()\n",
    "\n",
    "D = irreps.D_from_matrix(rot)\n",
    "# print(D)\n",
    "\n",
    "import matplotlib.pyplot as plt\n",
    "fig, axs = plt.subplots(1,2, figsize = (10, 5))\n",
    "ax1, ax2 = axs[0], axs[1]\n",
    "ax1.imshow(D.real, cmap='bwr', vmin=-1, vmax=1)\n",
    "ax1.set_title('Real')\n",
    "ax2.imshow(D.imag, cmap='bwr', vmin=-1, vmax=1)\n",
    "ax2.set_title('Imag')\n",
    "plt.plot()"
   ]
  },
  {
   "attachments": {},
   "cell_type": "markdown",
   "id": "3d0a0a2b",
   "metadata": {},
   "source": [
    "## 5.3 Convolution"
   ]
  },
  {
   "cell_type": "code",
   "execution_count": 29,
   "id": "2c268c5a",
   "metadata": {},
   "outputs": [],
   "source": [
    "import torch\n",
    "from torch_cluster import radius_graph\n",
    "from torch_scatter import scatter\n",
    "from su2nn_e3nn_core import su2, nn\n",
    "from su2nn_e3nn_core.math import soft_one_hot_linspace\n",
    "import matplotlib.pyplot as plt"
   ]
  },
  {
   "cell_type": "code",
   "execution_count": 30,
   "id": "c26ecf87",
   "metadata": {},
   "outputs": [],
   "source": [
    "irreps_input = su2.Irreps(\"10x0ee + 10x1eo\")\n",
    "irreps_output = su2.Irreps(\"20x0ee + 10x1eo\")"
   ]
  },
  {
   "cell_type": "code",
   "execution_count": 31,
   "id": "4c9b1863",
   "metadata": {},
   "outputs": [
    {
     "name": "stdout",
     "output_type": "stream",
     "text": [
      "torch.Size([3374])\n"
     ]
    },
    {
     "data": {
      "text/plain": [
       "33.74"
      ]
     },
     "execution_count": 31,
     "metadata": {},
     "output_type": "execute_result"
    }
   ],
   "source": [
    "# create node positions\n",
    "num_nodes = 100\n",
    "pos = torch.randn(num_nodes, 3)  # random node positions\n",
    "# create edges\n",
    "max_radius = 1.8\n",
    "edge_src, edge_dst = radius_graph(pos, max_radius, max_num_neighbors=num_nodes - 1)\n",
    "print(edge_src.shape)\n",
    "edge_vec = pos[edge_dst] - pos[edge_src]\n",
    "# compute z\n",
    "num_neighbors = len(edge_src) / num_nodes\n",
    "num_neighbors"
   ]
  },
  {
   "cell_type": "code",
   "execution_count": 32,
   "id": "b70957be",
   "metadata": {},
   "outputs": [
    {
     "name": "stdout",
     "output_type": "stream",
     "text": [
      "torch.Size([3248])\n"
     ]
    },
    {
     "data": {
      "text/plain": [
       "32.48"
      ]
     },
     "execution_count": 32,
     "metadata": {},
     "output_type": "execute_result"
    }
   ],
   "source": [
    "# create node positions\n",
    "num_nodes = 100\n",
    "pos = torch.randn(num_nodes, 3)  # random node positions\n",
    "# create edges\n",
    "max_radius = 1.8\n",
    "edge_src, edge_dst = radius_graph(pos, max_radius, max_num_neighbors=num_nodes - 1)\n",
    "print(edge_src.shape)\n",
    "edge_vec = pos[edge_dst] - pos[edge_src]\n",
    "# compute z\n",
    "num_neighbors = len(edge_src) / num_nodes\n",
    "num_neighbors"
   ]
  },
  {
   "cell_type": "code",
   "execution_count": 33,
   "id": "fd9391d9",
   "metadata": {},
   "outputs": [],
   "source": [
    "f_in = irreps_input.randn(num_nodes, -1)"
   ]
  },
  {
   "cell_type": "code",
   "execution_count": 34,
   "id": "77f230f2",
   "metadata": {},
   "outputs": [
    {
     "data": {
      "text/plain": [
       "tensor(0.9957)"
      ]
     },
     "execution_count": 34,
     "metadata": {},
     "output_type": "execute_result"
    }
   ],
   "source": [
    "f_in.pow(2).mean()  # should be close to 1"
   ]
  },
  {
   "cell_type": "code",
   "execution_count": 35,
   "id": "8e9aeecc",
   "metadata": {},
   "outputs": [
    {
     "name": "stdout",
     "output_type": "stream",
     "text": [
      "1x0e+1x1o+1x2e+1x3o  --> 1x0ee+1x1oe+1x2ee+1x3oe\n",
      "1x0ee+1x1oe+1x2ee+1x3oe  --> 1x0e+1x1o+1x2e+1x3o\n"
     ]
    },
    {
     "data": {
      "text/plain": [
       "tensor(1.)"
      ]
     },
     "execution_count": 35,
     "metadata": {},
     "output_type": "execute_result"
    }
   ],
   "source": [
    "# irreps_sh = su2.Irreps.spherical_harmonics(lmax=2)\n",
    "lmax = 3\n",
    "irreps_sh_o3 = o3.Irreps.spherical_harmonics(lmax)\n",
    "irreps_sh_su2 = irreps_o3_to_su2(irreps_sh_o3)\n",
    "print(f'{irreps_sh_o3}  --> {irreps_sh_su2}')\n",
    "print(f'{irreps_sh_su2}  --> {irreps_su2_to_o3(irreps_sh_su2)}')\n",
    "\n",
    "sh = o3.spherical_harmonics(irreps_sh_o3, edge_vec, normalize=True, normalization='component')\n",
    "# normalize=True ensure that x is divided by |x| before computing the sh\n",
    "\n",
    "sh.pow(2).mean()  # should be close to 1"
   ]
  },
  {
   "attachments": {},
   "cell_type": "markdown",
   "id": "425fef07",
   "metadata": {},
   "source": [
    "## 5.4 Tensor product"
   ]
  },
  {
   "cell_type": "code",
   "execution_count": 36,
   "id": "009fae36",
   "metadata": {},
   "outputs": [
    {
     "name": "stdout",
     "output_type": "stream",
     "text": [
      "FullyConnectedTensorProduct(10x0ee+10x1eo x 1x0ee+1x1oe+1x2ee+1x3oe -> 20x0ee+10x1eo | 400 paths | 400 weights) needs 400 weights\n"
     ]
    },
    {
     "data": {
      "image/png": "[encoded data removed]",
      "text/plain": [
       "<Figure size 640x480 with 1 Axes>"
      ]
     },
     "metadata": {},
     "output_type": "display_data"
    }
   ],
   "source": [
    "tp = su2.FullyConnectedTensorProduct(irreps_input, irreps_sh_su2, irreps_output, shared_weights=False)\n",
    "\n",
    "print(f\"{tp} needs {tp.weight_numel} weights\")\n",
    "\n",
    "tp.visualize();"
   ]
  },
  {
   "cell_type": "code",
   "execution_count": 37,
   "id": "93f401ed",
   "metadata": {},
   "outputs": [
    {
     "name": "stdout",
     "output_type": "stream",
     "text": [
      "FullTensorProduct(2x1oe+1x1/2eo+1x3/2oo x 1x1eo+1x1/2oe -> 3x0oo+1x1/2oe+3x1/2ee+3x1oo+1x1eo+1x3/2oe+3x3/2ee+2x2oo+1x2eo+1x5/2oe | 19 paths | 0 weights)\n"
     ]
    },
    {
     "data": {
      "image/png": "[encoded data removed]",
      "text/plain": [
       "<Figure size 640x480 with 1 Axes>"
      ]
     },
     "metadata": {},
     "output_type": "display_data"
    }
   ],
   "source": [
    "irreps_in1 = Irreps(\"2x1oe+1x0.5eo+1x1.5oo\")\n",
    "irreps_in2 = Irreps(\"1x1eo+1x0.5oe\")\n",
    "tp2 = su2.FullTensorProduct(irreps_in1, irreps_in2)\n",
    "\n",
    "print(tp2)\n",
    "\n",
    "tp2.visualize();"
   ]
  },
  {
   "cell_type": "code",
   "execution_count": null,
   "id": "e703fd75",
   "metadata": {},
   "outputs": [],
   "source": []
  },
  {
   "attachments": {},
   "cell_type": "markdown",
   "id": "272920a0",
   "metadata": {},
   "source": [
    "## 5.5 Equivariance check"
   ]
  },
  {
   "cell_type": "code",
   "execution_count": 38,
   "id": "e6ebb6fd",
   "metadata": {},
   "outputs": [
    {
     "ename": "NameError",
     "evalue": "name 'irreps_node_feature' is not defined",
     "output_type": "error",
     "traceback": [
      "\u001b[0;31m---------------------------------------------------------------------------\u001b[0m",
      "\u001b[0;31mNameError\u001b[0m                                 Traceback (most recent call last)",
      "Cell \u001b[0;32mIn[38], line 1\u001b[0m\n\u001b[0;32m----> 1\u001b[0m irreps_in\u001b[39m=\u001b[39m irreps_node_feature  \u001b[39m#Irreps(str(input_embed_dim)+'x0ee')\u001b[39;00m\n\u001b[1;32m      2\u001b[0m lmax\u001b[39m=\u001b[39m\u001b[39m2\u001b[39m\n\u001b[1;32m      3\u001b[0m device\u001b[39m=\u001b[39m\u001b[39m'\u001b[39m\u001b[39mcuda:7\u001b[39m\u001b[39m'\u001b[39m\n",
      "\u001b[0;31mNameError\u001b[0m: name 'irreps_node_feature' is not defined"
     ]
    }
   ],
   "source": [
    "irreps_node_feature = Irreps('1x1eo')   # spin with l=1\n",
    "irreps_in= irreps_node_feature  #Irreps(str(input_embed_dim)+'x0ee')\n",
    "lmax=2\n",
    "device='cuda:7'\n",
    "irreps_edge_attr_o3 = o3.Irreps.spherical_harmonics(lmax)\n",
    "irreps_sh=irreps_o3_to_su2(irreps_edge_attr_o3, t='o')\n",
    "irreps_out='1x0oe+1x1oe+2x1ee+1x2oe+1x2ee+1x3ee' \n",
    "num_neighbors=4\n",
    "conv = Convolution(irreps_in, irreps_sh, irreps_out, num_neighbors)\n",
    "print(conv)\n",
    "conv.to(device)\n",
    "number_of_basis =3\n",
    "tol = 1e-3"
   ]
  },
  {
   "cell_type": "code",
   "execution_count": null,
   "id": "bc3f9c03",
   "metadata": {},
   "outputs": [
    {
     "data": {
      "text/plain": [
       "(<Figure size 640x480 with 1 Axes>, <Axes: >)"
      ]
     },
     "execution_count": 53,
     "metadata": {},
     "output_type": "execute_result"
    },
    {
     "data": {
      "image/png": "[encoded data removed]",
      "text/plain": [
       "<Figure size 640x480 with 1 Axes>"
      ]
     },
     "metadata": {},
     "output_type": "display_data"
    }
   ],
   "source": [
    "ftp = su2.FullyConnectedTensorProduct('1x1eo', '1x0eo+1x1oo+1x2eo', '1x0oe+1x1oe+2x1ee+1x2oe+1x2ee+1x3ee')\n",
    "ftp.visualize()"
   ]
  },
  {
   "attachments": {},
   "cell_type": "markdown",
   "id": "96e53082",
   "metadata": {},
   "source": [
    "### case1: physical coordinate is rotated, spins are static"
   ]
  },
  {
   "cell_type": "code",
   "execution_count": null,
   "id": "c54c3f36",
   "metadata": {},
   "outputs": [
    {
     "name": "stderr",
     "output_type": "stream",
     "text": [
      "/home/rokabe/anaconda3/envs/pdos/lib/python3.9/site-packages/torch_geometric/deprecation.py:13: UserWarning: 'data.DataLoader' is deprecated, use 'loader.DataLoader' instead\n",
      "  warnings.warn(out)\n"
     ]
    }
   ],
   "source": [
    "natms = 3\n",
    "nsystems = 20\n",
    "element = 'H'\n",
    "r_max = 4\n",
    "pos0 = np.random.rand(natms,3)\n",
    "spins = np.random.rand(natms,irreps_node_feature.dim)\n",
    "df = pd.DataFrame({})\n",
    "for idx in range(nsystems):\n",
    "    Data = dict()\n",
    "    if idx==0:\n",
    "        rot = np.eye(3)\n",
    "        pos = pos0\n",
    "    else:\n",
    "        rot = np.array(su2.rand_matrix(1).reshape((3,3)))\n",
    "        pos = pos0@rot\n",
    "        \n",
    "    system = Atoms(element + str(natms), positions=pos)\n",
    "    Data['id'] = idx\n",
    "    Data['system'] = [system]\n",
    "    Data['spins'] = [spins]\n",
    "    Data['rot'] = [rot]\n",
    "    dfn = pd.DataFrame(data = Data)\n",
    "    df = pd.concat([df, dfn], ignore_index = True)\n",
    "\n",
    "data_dict = generate_data_dict(df, r_max)\n",
    "batch_size = 1\n",
    "data_set = torch.utils.data.Subset(list(data_dict.values()), range(len(data_dict)))\n",
    "tr_set, te_set = torch.utils.data.Subset(data_set, range(18)), torch.utils.data.Subset(data_set, [18,19])\n",
    "tr_loader = DataLoader(tr_set, batch_size = batch_size)\n",
    "te_loader = DataLoader(te_set, batch_size = batch_size)"
   ]
  },
  {
   "cell_type": "code",
   "execution_count": null,
   "id": "3507b181",
   "metadata": {},
   "outputs": [
    {
     "name": "stdout",
     "output_type": "stream",
     "text": [
      "0     (Atom('H', [0.8236012690580513, 0.075311148911...\n",
      "1     (Atom('H', [-0.57385813894008, 0.3517680506829...\n",
      "2     (Atom('H', [1.196965640986309, -0.056486629653...\n",
      "3     (Atom('H', [0.43933874687836033, -0.1738479586...\n",
      "4     (Atom('H', [-0.13950747291757531, -1.145356561...\n",
      "5     (Atom('H', [-0.9958838478389866, -0.5738126062...\n",
      "6     (Atom('H', [0.4127872943466958, 0.988004979332...\n",
      "7     (Atom('H', [-0.990589465548312, -0.54043652563...\n",
      "8     (Atom('H', [0.9540326929856289, 0.226338579716...\n",
      "9     (Atom('H', [0.591165435996338, 1.0211077152179...\n",
      "10    (Atom('H', [0.9297091745599443, -0.50406437671...\n",
      "11    (Atom('H', [1.0556141704935462, -0.48396737613...\n",
      "12    (Atom('H', [1.0084390791934505, 0.538462038372...\n",
      "13    (Atom('H', [0.9867528992197351, 0.322462946965...\n",
      "14    (Atom('H', [0.23269590356337766, -0.4748323762...\n",
      "15    (Atom('H', [1.1233086500822769, 0.247897980047...\n",
      "16    (Atom('H', [-0.7839185117986814, 0.87969421378...\n",
      "17    (Atom('H', [-1.1949702492852834, 0.08825029047...\n",
      "18    (Atom('H', [0.9450272685697861, 0.721345825170...\n",
      "19    (Atom('H', [0.9516407455159956, 0.649540123447...\n",
      "Name: system, dtype: object\n"
     ]
    }
   ],
   "source": [
    "print(df['system']) # rotated"
   ]
  },
  {
   "cell_type": "code",
   "execution_count": null,
   "id": "bab06737",
   "metadata": {},
   "outputs": [
    {
     "name": "stdout",
     "output_type": "stream",
     "text": [
      "0     [[0.49125869614985174, 0.5058840261005403, 0.3...\n",
      "1     [[0.49125869614985174, 0.5058840261005403, 0.3...\n",
      "2     [[0.49125869614985174, 0.5058840261005403, 0.3...\n",
      "3     [[0.49125869614985174, 0.5058840261005403, 0.3...\n",
      "4     [[0.49125869614985174, 0.5058840261005403, 0.3...\n",
      "5     [[0.49125869614985174, 0.5058840261005403, 0.3...\n",
      "6     [[0.49125869614985174, 0.5058840261005403, 0.3...\n",
      "7     [[0.49125869614985174, 0.5058840261005403, 0.3...\n",
      "8     [[0.49125869614985174, 0.5058840261005403, 0.3...\n",
      "9     [[0.49125869614985174, 0.5058840261005403, 0.3...\n",
      "10    [[0.49125869614985174, 0.5058840261005403, 0.3...\n",
      "11    [[0.49125869614985174, 0.5058840261005403, 0.3...\n",
      "12    [[0.49125869614985174, 0.5058840261005403, 0.3...\n",
      "13    [[0.49125869614985174, 0.5058840261005403, 0.3...\n",
      "14    [[0.49125869614985174, 0.5058840261005403, 0.3...\n",
      "15    [[0.49125869614985174, 0.5058840261005403, 0.3...\n",
      "16    [[0.49125869614985174, 0.5058840261005403, 0.3...\n",
      "17    [[0.49125869614985174, 0.5058840261005403, 0.3...\n",
      "18    [[0.49125869614985174, 0.5058840261005403, 0.3...\n",
      "19    [[0.49125869614985174, 0.5058840261005403, 0.3...\n",
      "Name: spins, dtype: object\n"
     ]
    }
   ],
   "source": [
    "print(df['spins'])  # static"
   ]
  },
  {
   "cell_type": "code",
   "execution_count": null,
   "id": "408ca45d",
   "metadata": {},
   "outputs": [
    {
     "name": "stdout",
     "output_type": "stream",
     "text": [
      "True\n",
      "False\n",
      "False\n",
      "False\n",
      "False\n",
      "False\n",
      "False\n",
      "False\n",
      "False\n",
      "False\n",
      "False\n",
      "False\n",
      "False\n",
      "False\n",
      "False\n",
      "False\n",
      "False\n",
      "False\n"
     ]
    },
    {
     "name": "stderr",
     "output_type": "stream",
     "text": [
      "/tmp/ipykernel_3809/3494912306.py:12: UserWarning: To copy construct from a tensor, it is recommended to use sourceTensor.clone().detach() or sourceTensor.clone().detach().requires_grad_(True), rather than torch.tensor(sourceTensor).\n",
      "  x = torch.tensor(d.x).to(device)\n"
     ]
    }
   ],
   "source": [
    "for i, d in enumerate(tr_loader):\n",
    "    d.to(device)\n",
    "    num_neighbors = d['numb']\n",
    "    edge_src = d['edge_index'][0]\n",
    "    edge_dst = d['edge_index'][1]\n",
    "    edge_vec = d['edge_vec']\n",
    "    edge_len = d['edge_len']\n",
    "    edge_length_embedded = soft_one_hot_linspace(edge_len, 0.0, d['r_max'].item(), number_of_basis, basis = 'gaussian', cutoff = False)\n",
    "    edge_sh = o3.spherical_harmonics(irreps_edge_attr_o3, edge_vec, True, normalization = 'component')\n",
    "    edge_attr = edge_sh\n",
    "    numb = d['numb']\n",
    "    x = torch.tensor(d.x).to(device)\n",
    "    d.to(device)\n",
    "    out = conv(x, edge_src, edge_dst, edge_attr, edge_length_embedded)\n",
    "    rot = d.rot\n",
    "    D =conv.irreps_out.D_from_matrix(rot.cpu())\n",
    "    D = D.double().to(device)\n",
    "    out_rot = out@D.T\n",
    "    diff = out - out_rot\n",
    "    # print(out[:2])\n",
    "    print(torch.allclose(diff, torch.zeros_like(diff), atol=tol))"
   ]
  },
  {
   "cell_type": "code",
   "execution_count": null,
   "id": "12bda416",
   "metadata": {},
   "outputs": [],
   "source": []
  },
  {
   "attachments": {},
   "cell_type": "markdown",
   "id": "1de92300",
   "metadata": {},
   "source": [
    "### case2: spins is rotated, physical coordinate is static"
   ]
  },
  {
   "cell_type": "code",
   "execution_count": null,
   "id": "d9c59245",
   "metadata": {},
   "outputs": [
    {
     "name": "stderr",
     "output_type": "stream",
     "text": [
      "/home/rokabe/anaconda3/envs/pdos/lib/python3.9/site-packages/torch_geometric/deprecation.py:13: UserWarning: 'data.DataLoader' is deprecated, use 'loader.DataLoader' instead\n",
      "  warnings.warn(out)\n"
     ]
    }
   ],
   "source": [
    "natms = 3\n",
    "nsystems = 20\n",
    "element = 'H'\n",
    "r_max = 4\n",
    "pos0 = np.random.rand(natms,3)\n",
    "spins0 = np.random.rand(natms,irreps_node_feature.dim)\n",
    "df = pd.DataFrame({})\n",
    "for idx in range(nsystems):\n",
    "    Data = dict()\n",
    "    if idx==0:\n",
    "        rot = np.eye(3)\n",
    "        spins = spins0\n",
    "    else:\n",
    "        rot = np.array(su2.rand_matrix(1).reshape((3,3)))\n",
    "        spins = spins0@rot\n",
    "        \n",
    "    system = Atoms(element + str(natms), positions=pos0)\n",
    "    Data['id'] = idx\n",
    "    Data['system'] = [system]\n",
    "    Data['spins'] = [spins]\n",
    "    Data['rot'] = [rot]\n",
    "    dfn = pd.DataFrame(data = Data)\n",
    "    df = pd.concat([df, dfn], ignore_index = True)\n",
    "\n",
    "data_dict = generate_data_dict(df, r_max)\n",
    "batch_size = 1\n",
    "data_set = torch.utils.data.Subset(list(data_dict.values()), range(len(data_dict)))\n",
    "tr_set, te_set = torch.utils.data.Subset(data_set, range(18)), torch.utils.data.Subset(data_set, [18,19])\n",
    "tr_loader = DataLoader(tr_set, batch_size = batch_size)\n",
    "te_loader = DataLoader(te_set, batch_size = batch_size)"
   ]
  },
  {
   "cell_type": "code",
   "execution_count": null,
   "id": "1fd87367",
   "metadata": {},
   "outputs": [],
   "source": [
    "print(df['system']) # static"
   ]
  },
  {
   "cell_type": "code",
   "execution_count": null,
   "id": "72de70a1",
   "metadata": {},
   "outputs": [],
   "source": [
    "print(df['spins'])  # rotated"
   ]
  },
  {
   "cell_type": "code",
   "execution_count": null,
   "id": "7cda1302",
   "metadata": {},
   "outputs": [],
   "source": [
    "for i, d in enumerate(tr_loader):\n",
    "    d.to(device)\n",
    "    num_neighbors = d['numb']\n",
    "    edge_src = d['edge_index'][0]\n",
    "    edge_dst = d['edge_index'][1]\n",
    "    edge_vec = d['edge_vec']\n",
    "    edge_len = d['edge_len']\n",
    "    edge_length_embedded = soft_one_hot_linspace(edge_len, 0.0, d['r_max'].item(), number_of_basis, basis = 'gaussian', cutoff = False)\n",
    "    edge_sh = o3.spherical_harmonics(irreps_edge_attr_o3, edge_vec, True, normalization = 'component')\n",
    "    edge_attr = edge_sh\n",
    "    numb = d['numb']\n",
    "    x = torch.tensor(d.x).to(device)\n",
    "    d.to(device)\n",
    "    out = conv(x, edge_src, edge_dst, edge_attr, edge_length_embedded)\n",
    "    rot = d.rot\n",
    "    D =conv.irreps_out.D_from_matrix(rot.cpu())\n",
    "    D = D.double().to(device)\n",
    "    out_rot = out@D.T\n",
    "    diff = out - out_rot\n",
    "    # print(out[:2])\n",
    "    print(torch.allclose(diff, torch.zeros_like(diff), atol=tol))"
   ]
  },
  {
   "attachments": {},
   "cell_type": "markdown",
   "id": "24e4a422",
   "metadata": {},
   "source": [
    "### case3: both physical coordinate and spins are rotated"
   ]
  },
  {
   "cell_type": "code",
   "execution_count": null,
   "id": "215cb72f",
   "metadata": {},
   "outputs": [],
   "source": [
    "natms = 3\n",
    "nsystems = 20\n",
    "element = 'H'\n",
    "r_max = 4\n",
    "pos0 = np.random.rand(natms,3)\n",
    "spins0 = np.random.rand(natms,irreps_node_feature.dim)\n",
    "df = pd.DataFrame({})\n",
    "for idx in range(nsystems):\n",
    "    Data = dict()\n",
    "    if idx==0:\n",
    "        rot = np.eye(3)\n",
    "        pos = pos0\n",
    "        spins = spins0\n",
    "    else:\n",
    "        rot = np.array(su2.rand_matrix(1).reshape((3,3)))\n",
    "        pos = pos0@rot\n",
    "        spins = spins0@rot\n",
    "        \n",
    "    system = Atoms(element + str(natms), positions=pos)\n",
    "    Data['id'] = idx\n",
    "    Data['system'] = [system]\n",
    "    Data['spins'] = [spins]\n",
    "    Data['rot'] = [rot]\n",
    "    dfn = pd.DataFrame(data = Data)\n",
    "    df = pd.concat([df, dfn], ignore_index = True)\n",
    "\n",
    "data_dict = generate_data_dict(df, r_max)\n",
    "batch_size = 1\n",
    "data_set = torch.utils.data.Subset(list(data_dict.values()), range(len(data_dict)))\n",
    "tr_set, te_set = torch.utils.data.Subset(data_set, range(18)), torch.utils.data.Subset(data_set, [18,19])\n",
    "tr_loader = DataLoader(tr_set, batch_size = batch_size)\n",
    "te_loader = DataLoader(te_set, batch_size = batch_size)"
   ]
  },
  {
   "cell_type": "code",
   "execution_count": null,
   "id": "439def48",
   "metadata": {},
   "outputs": [],
   "source": [
    "print(df['system']) # rotated"
   ]
  },
  {
   "cell_type": "code",
   "execution_count": null,
   "id": "0b77f91b",
   "metadata": {},
   "outputs": [],
   "source": [
    "print(df['spins'])  # rotated"
   ]
  },
  {
   "cell_type": "code",
   "execution_count": null,
   "id": "a4c1cdde",
   "metadata": {},
   "outputs": [],
   "source": [
    "for i, d in enumerate(tr_loader):\n",
    "    d.to(device)\n",
    "    num_neighbors = d['numb']\n",
    "    edge_src = d['edge_index'][0]\n",
    "    edge_dst = d['edge_index'][1]\n",
    "    edge_vec = d['edge_vec']\n",
    "    edge_len = d['edge_len']\n",
    "    edge_length_embedded = soft_one_hot_linspace(edge_len, 0.0, d['r_max'].item(), number_of_basis, basis = 'gaussian', cutoff = False)\n",
    "    edge_sh = o3.spherical_harmonics(irreps_edge_attr_o3, edge_vec, True, normalization = 'component')\n",
    "    edge_attr = edge_sh\n",
    "    numb = d['numb']\n",
    "    x = torch.tensor(d.x).to(device)\n",
    "    d.to(device)\n",
    "    out = conv(x, edge_src, edge_dst, edge_attr, edge_length_embedded)\n",
    "    rot = d.rot\n",
    "    D =conv.irreps_out.D_from_matrix(rot.cpu())\n",
    "    D = D.double().to(device)\n",
    "    out_rot = out@D.T\n",
    "    diff = out - out_rot\n",
    "    # print(out[:2])\n",
    "    print(torch.allclose(diff, torch.zeros_like(diff), atol=tol))"
   ]
  }
 ],
 "metadata": {
  "kernelspec": {
   "display_name": "su2nn",
   "language": "python",
   "name": "python3"
  },
  "language_info": {
   "codemirror_mode": {
    "name": "ipython",
    "version": 3
   },
   "file_extension": ".py",
   "mimetype": "text/x-python",
   "name": "python",
   "nbconvert_exporter": "python",
   "pygments_lexer": "ipython3",
   "version": "3.9.13"
  }
 },
 "nbformat": 4,
 "nbformat_minor": 5
}
