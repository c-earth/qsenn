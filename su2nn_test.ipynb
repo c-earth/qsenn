{
 "cells": [
  {
   "attachments": {},
   "cell_type": "markdown",
   "id": "0155ce18",
   "metadata": {},
   "source": [
    "# su2nn: SU(2) and time-reversal equivariant neural network for quantum spin system"
   ]
  },
  {
   "attachments": {},
   "cell_type": "markdown",
   "id": "4ef2dd52",
   "metadata": {},
   "source": [
    "## 1. Introduction\n",
    "\n",
    "The first obvious quantum spin effect we can observe is in the field of magnetism. Magnetism is important because it is crucial in various technological applications, such as data storage, electric motors, and generators. In addition, magnetic materials have been widely studied in condensed matter physics, where understanding their magnetic properties can provide insights into fundamental phenomena such as quantum phase transitions and spin dynamics. Moreover, the most recent theoretical developments of quantum spin have led to many applications in advanced fields like topological material, lossless electronics, and quantum information.\n",
    "\n",
    "Quantum spin is the quantum angular momentum internal degree of freedom. Together with the external counterpart, the quantum angular momentum has SU(2) as its symmetry group, i.e. it can be described by a representation of the group of 2 by 2 unitary matrices with unit determinant. It also turns out that SU(2) is a Lie group with exactly the same Lie algebra as SO(3), up to the generators equivalence. This means that SU(2) is homomorphic to SO(3), but SU(2) is more fundamental in describing quantum systems. Furthermore, spin systems can also break the time-reversal symmetry which is a discrete symmetry similar to parity but for temporal instead of spatial. With this nature of quantum spin system’s symmetry, it is straight forward to attempt the generalization of e3nn package that is already SO(3) and parity equivariant to also SU(2) and time-reversal equivariant in order to make a machine learning model that is suitable to the symmetry of the spin system.\n",
    "\n",
    "In this project, we modified the source code of e3nn, specifically the irreducible representation classes, to handle the SU(2) symmetry group, i.e. expanding integer angular number requirement to include half-integer, and increase the discrete symmetry channel of time-reversal on top of parity. We then propagated the change of this class through out the whole e3nn package. After that, we tested the sanity of the modified package with various equivariant properties we learned in class, and performed experiments with some simple quantum spin systems."
   ]
  },
  {
   "attachments": {},
   "cell_type": "markdown",
   "id": "bc0e99c9",
   "metadata": {},
   "source": [
    "## 2. Related Works\n",
    "\n",
    "Machine learning has been increasingly applied to predicting material properties, including spin, due to its potential to enhance accuracy and efficiency compared to traditional methods. There are works taking the symmetry described in SU(2) to represent the property of spin in a reasonable way. \n",
    "\n",
    "Machine learning helps us understand the relationship between spin configuration and other material properties. Models are proposed for predicting the properties of quantum materials, like the topological features of their electronic structures, using spin configuration as input. Also, there are models predicting spin states. A  neural network model to predict whether the spin is up or down, providing the electronic configurations of transition-metal compounds. This is important for understanding their magnetic and electronic properties. The model utilizes local crystal structure as input to predict electronic configurations accurately. Another work proposes a machine learning method using an artificial neural network to represent a complex spin Hamiltonian, which can be used to study spin systems. The method utilizes a feedforward neural network with a modified activation function to represent the Hamiltonian and shows promising results in predicting the behavior of spin systems.\n",
    "\n",
    "A graph neural network (GNN) is the most common approach to studying the structure-property relationship of materials, as it can take the geometrical aspect of materials into the models. A graph neural network model can predict material properties incorporating local and global information about the material structure. The model utilizes residual correlation to enhance the accuracy of prediction performance through the work using spin states of the Ising model. Another model utilizes the local environment of each atom in the material to predict its magnetic moment and shows improved accuracy compared to traditional methods.\n",
    "\n",
    "We can use machine learning to detect and evaluate the specific symmetry of the dataset. One work presents a neural network method for detecting symmetries like the one in SU(2), which can be applied to identify symmetry-protected topological phases. The method utilizes convolutional neural networks to learn the features of the data and then applies group theoretic techniques to extract the symmetries. Another model work presents a machine learning approach to learning order parameters of SU(2) lattice gauge theory, which describes the behavior of spin systems. The method utilizes a neural network to learn the mapping from spin configurations to the corresponding order parameters and shows promising results in predicting the behavior of spin systems."
   ]
  },
  {
   "attachments": {},
   "cell_type": "markdown",
   "id": "639753b0",
   "metadata": {},
   "source": [
    "## 3. Background\n",
    "### 3.1 SU(2) Irreducible Representation\n",
    "Similar to the process for SO(3) in lectures, one can start from the definition of SU(2) as a group of 2 by 2 unitary matrices with unit determinant. This entails that each member of the group can be written in the form\n",
    "$$\n",
    "    U = e^{-iA} \\tag{1}\n",
    "$$\n",
    "with \n",
    "$$\n",
    "    A^\\dag = A, \\text{Tr}A = 0. \\tag{2}\n",
    "$$\n",
    "From this criteria, we can deduce one possible selection of the generators as\n",
    "$$\n",
    "\\begin{align}\n",
    "    A &= \\begin{bmatrix}c & a - ib \\\\ a + ib & - c\\end{bmatrix} \\nonumber\\\\\n",
    "    &= a\\cdot\\sigma_x + b\\cdot\\sigma_y + c\\cdot\\sigma_z \\nonumber\\\\\n",
    "    &= (a, b, c)\\cdot\\vec{\\sigma} \\nonumber\\\\\n",
    "    &\\equiv \\dfrac{1}{2}\\vec{\\sigma}\\cdot\\hat{n}\\phi\n",
    "\\end{align} \\tag{3}\n",
    "$$\n",
    "where $\\sigma$'s are Pauli matrices, $\\hat{n}$ is the unit vector in $(a, b, c)$ direction, and $\\phi$ is twice the magnitude of $(a, b, c)$. These choices of parameters are for the consistency with the quantum spin community.\n",
    "\n",
    "Since $\\sigma_z$ is the only diagonal generator, it is trivial that the generators are of irreducible representation. Furthermore, the commutation relation of the Pauli matrix is\n",
    "$$\n",
    "    [\\sigma_p/2, \\sigma_q/2] = i\\epsilon_{pqr}\\sigma_r/2, \\tag{4}\n",
    "$$\n",
    "which is exactly the same as SO(3)'s Lie algebra. This means that we can directly define\n",
    "$$\n",
    "\\begin{align}\n",
    "    J^{(1/2)}_{p\\in\\{x, y, z\\}} &\\equiv \\sigma_p/2 \\\\\n",
    "    (J^{(1/2)})^2 &\\equiv (J^{(1/2)}_x)^2 + (J^{(1/2)}_y)^2 + (J^{(1/2)}_z)^2\n",
    "\\end{align} \\tag{5}\n",
    "$$\n",
    "where $(J^{(1/2)})^2$ commute with $J^{(1/2)}_{p\\in\\{x, y, z\\}}$. Hence, we can choose to label states with eigenvalues of $(J^{(1/2)})^2$ and $J^{(1/2)}_z$ which are $j(j+1)$ and $m$ where $j = 1/2$ and $m \\in \\{1/2, -1/2\\}$. From here, one can use tensor product together with representation reduction to generate all orders of representations with $j\\in\\{0, 1/2, 1, 3/2, ...\\}$.\n",
    "\n",
    "Because of these equivalence in algebra between SO(3) and SU(2), we can use ladder operator trick to get the ladder operators' matrix representations which, in turn, gives the matrix representations of $J^{(j)}_{p\\in\\{x, y\\}}$. ($J^{(j)}_z$ is trivial with our of choice of state and the fact that $m\\in\\{-j, -j+1, ..., j-1, j\\}$.) In fact, the e3nn package actually uses this SU(2) generator method and restrict the value of $l$ (instead of $j$) to be integer.\n",
    "\n",
    "### 3.2 Time-Reversal Symmetry"
   ]
  },
  {
   "attachments": {},
   "cell_type": "markdown",
   "id": "f1ba1a3c",
   "metadata": {},
   "source": [
    "## 4. Method"
   ]
  },
  {
   "attachments": {},
   "cell_type": "markdown",
   "id": "9c9665a8",
   "metadata": {},
   "source": [
    "## 5. Results\n",
    "### 5.1 Irreducible representations"
   ]
  },
  {
   "cell_type": "code",
   "execution_count": 1,
   "id": "8a14ab50",
   "metadata": {},
   "outputs": [],
   "source": [
    "from su2nn_e3nn_core.su2 import Irreps, Irrep\n",
    "from e3nn import o3\n",
    "from ase import Atoms\n",
    "import torch\n",
    "from torch_geometric.data import Data, DataLoader\n",
    "import numpy as np\n",
    "import pandas as pd\n",
    "from project.model import GraphConvolution, GraphNetwork, Convolution, Network, irreps_o3_to_su2, irreps_su2_to_o3\n",
    "from project.data import generate_data_dict"
   ]
  },
  {
   "cell_type": "code",
   "execution_count": 2,
   "id": "87c63cee",
   "metadata": {},
   "outputs": [
    {
     "data": {
      "text/plain": [
       "1x1oe"
      ]
     },
     "execution_count": 2,
     "metadata": {},
     "output_type": "execute_result"
    }
   ],
   "source": [
    "# physical vector \n",
    "irreps = Irreps(\"1oe\")\n",
    "irreps"
   ]
  },
  {
   "cell_type": "code",
   "execution_count": 3,
   "id": "ca4e29ef",
   "metadata": {},
   "outputs": [
    {
     "data": {
      "text/plain": [
       "1x1eo"
      ]
     },
     "execution_count": 3,
     "metadata": {},
     "output_type": "execute_result"
    }
   ],
   "source": [
    "# spin\n",
    "irreps2 = Irreps(\"1eo\")\n",
    "irreps2"
   ]
  },
  {
   "cell_type": "code",
   "execution_count": 4,
   "id": "680c9f2c",
   "metadata": {},
   "outputs": [
    {
     "data": {
      "text/plain": [
       "1x1/2eo"
      ]
     },
     "execution_count": 4,
     "metadata": {},
     "output_type": "execute_result"
    }
   ],
   "source": [
    "irreps3 = Irreps(\"0.5eo\")\n",
    "irreps3"
   ]
  },
  {
   "cell_type": "code",
   "execution_count": 5,
   "id": "ea7ee735",
   "metadata": {},
   "outputs": [
    {
     "name": "stdout",
     "output_type": "stream",
     "text": [
      "1\n",
      "1x1oe\n",
      "2\n",
      "1\n",
      "1oe\n",
      "1 -1\n"
     ]
    }
   ],
   "source": [
    "# Tuple[Tuple[int, Tuple[int, int]]]\n",
    "# ((multiplicity, (l, p)), ...)\n",
    "\n",
    "print(len(irreps))\n",
    "mul_ir = irreps[0]  # a tuple\n",
    "\n",
    "print(mul_ir)\n",
    "print(len(mul_ir))\n",
    "mul = mul_ir[0]  # an int\n",
    "ir = mul_ir[1]  # another tuple\n",
    "\n",
    "print(mul)\n",
    "\n",
    "print(ir)\n",
    "# print(len(ir))  ir is a tuple of 2 ints but __len__ has been disabled since it is always 2\n",
    "l = ir[0]\n",
    "p = ir[1]\n",
    "\n",
    "print(l, p)"
   ]
  },
  {
   "cell_type": "code",
   "execution_count": 6,
   "id": "e642f60a",
   "metadata": {},
   "outputs": [
    {
     "data": {
      "text/plain": [
       "tensor([[-1.+0.j, -0.+0.j, -0.+0.j],\n",
       "        [-0.+0.j, -1.+0.j, -0.+0.j],\n",
       "        [-0.+0.j, -0.+0.j, -1.+0.j]])"
      ]
     },
     "execution_count": 6,
     "metadata": {},
     "output_type": "execute_result"
    }
   ],
   "source": [
    "import torch\n",
    "t = torch.tensor\n",
    "\n",
    "# show the transformation matrix corresponding to the inversion\n",
    "irreps.D_from_angles(alpha=t(0.0), beta=t(0.0), gamma=t(0.0), k=t(1))"
   ]
  },
  {
   "cell_type": "code",
   "execution_count": 7,
   "id": "6d498064",
   "metadata": {},
   "outputs": [
    {
     "data": {
      "text/plain": [
       "tensor([[0.9950+0.0998j, 0.0000+0.0000j, 0.0000+0.0000j],\n",
       "        [0.0000+0.0000j, 1.0000+0.0000j, 0.0000+0.0000j],\n",
       "        [0.0000+0.0000j, 0.0000+0.0000j, 0.9950-0.0998j]])"
      ]
     },
     "execution_count": 7,
     "metadata": {},
     "output_type": "execute_result"
    }
   ],
   "source": [
    "# a small rotation around the y axis\n",
    "irreps.D_from_angles(alpha=t(0.1), beta=t(0.0), gamma=t(0.0), k=t(0))"
   ]
  },
  {
   "cell_type": "code",
   "execution_count": null,
   "id": "2e776dd4",
   "metadata": {},
   "outputs": [],
   "source": []
  },
  {
   "attachments": {},
   "cell_type": "markdown",
   "id": "93926026",
   "metadata": {},
   "source": [
    "## 5.2 Rotation by D matrix"
   ]
  },
  {
   "cell_type": "code",
   "execution_count": 8,
   "id": "705ac568",
   "metadata": {},
   "outputs": [
    {
     "data": {
      "text/plain": [
       "[]"
      ]
     },
     "execution_count": 8,
     "metadata": {},
     "output_type": "execute_result"
    },
    {
     "data": {
      "image/png": "[encoded data removed]",
      "text/plain": [
       "<Figure size 1000x500 with 2 Axes>"
      ]
     },
     "metadata": {},
     "output_type": "display_data"
    }
   ],
   "source": [
    "irreps = Irreps(\"2x0oe + 1x1eo + 1x2oe\")\n",
    "# irreps = Irreps(\"1x5.5eo\")\n",
    "from su2nn_e3nn_core import su2\n",
    "rot = -su2.rand_matrix()\n",
    "\n",
    "D = irreps.D_from_angles(torch.tensor([30]), torch.tensor([50]), torch.tensor([10]))\n",
    "D = irreps.D_from_matrix(rot)\n",
    "# print(D)\n",
    "\n",
    "D = D.reshape(irreps.dim, irreps.dim)\n",
    "import matplotlib.pyplot as plt\n",
    "fig, axs = plt.subplots(1,2, figsize = (10, 5))\n",
    "ax1, ax2 = axs[0], axs[1]\n",
    "ax1.imshow(D.real, cmap='bwr', vmin=-1, vmax=1)\n",
    "ax1.set_title('Real')\n",
    "ax2.imshow(D.imag, cmap='bwr', vmin=-1, vmax=1)\n",
    "ax2.set_title('Imag')\n",
    "plt.plot()"
   ]
  },
  {
   "cell_type": "code",
   "execution_count": 9,
   "id": "7ab8824a",
   "metadata": {},
   "outputs": [
    {
     "data": {
      "text/plain": [
       "[]"
      ]
     },
     "execution_count": 9,
     "metadata": {},
     "output_type": "execute_result"
    },
    {
     "data": {
      "image/png": "[encoded data removed]",
      "text/plain": [
       "<Figure size 1000x500 with 2 Axes>"
      ]
     },
     "metadata": {},
     "output_type": "display_data"
    }
   ],
   "source": [
    "irreps = Irreps(\"2x1oe + 1x1eo +1x0.5eo + 1x1.5oe + 1x1.5oo\")\n",
    "from su2nn_e3nn_core import su2\n",
    "rot = -su2.rand_matrix()\n",
    "\n",
    "D = irreps.D_from_matrix(rot)\n",
    "# print(D)\n",
    "\n",
    "import matplotlib.pyplot as plt\n",
    "fig, axs = plt.subplots(1,2, figsize = (10, 5))\n",
    "ax1, ax2 = axs[0], axs[1]\n",
    "ax1.imshow(D.real, cmap='bwr', vmin=-1, vmax=1)\n",
    "ax1.set_title('Real')\n",
    "ax2.imshow(D.imag, cmap='bwr', vmin=-1, vmax=1)\n",
    "ax2.set_title('Imag')\n",
    "plt.plot()"
   ]
  },
  {
   "attachments": {},
   "cell_type": "markdown",
   "id": "3d0a0a2b",
   "metadata": {},
   "source": [
    "## 5.3 Convolution"
   ]
  },
  {
   "cell_type": "code",
   "execution_count": 10,
   "id": "2c268c5a",
   "metadata": {},
   "outputs": [],
   "source": [
    "import torch\n",
    "from torch_cluster import radius_graph\n",
    "from torch_scatter import scatter\n",
    "from su2nn_e3nn_core import su2, nn\n",
    "from su2nn_e3nn_core.math import soft_one_hot_linspace\n",
    "import matplotlib.pyplot as plt"
   ]
  },
  {
   "cell_type": "code",
   "execution_count": 11,
   "id": "c26ecf87",
   "metadata": {},
   "outputs": [],
   "source": [
    "irreps_input = su2.Irreps(\"10x0ee + 10x1eo\")\n",
    "irreps_output = su2.Irreps(\"20x0ee + 10x1eo\")"
   ]
  },
  {
   "cell_type": "code",
   "execution_count": 12,
   "id": "4c9b1863",
   "metadata": {},
   "outputs": [
    {
     "name": "stdout",
     "output_type": "stream",
     "text": [
      "torch.Size([3426])\n"
     ]
    },
    {
     "data": {
      "text/plain": [
       "34.26"
      ]
     },
     "execution_count": 12,
     "metadata": {},
     "output_type": "execute_result"
    }
   ],
   "source": [
    "# create node positions\n",
    "num_nodes = 100\n",
    "pos = torch.randn(num_nodes, 3)  # random node positions\n",
    "# create edges\n",
    "max_radius = 1.8\n",
    "edge_src, edge_dst = radius_graph(pos, max_radius, max_num_neighbors=num_nodes - 1)\n",
    "print(edge_src.shape)\n",
    "edge_vec = pos[edge_dst] - pos[edge_src]\n",
    "# compute z\n",
    "num_neighbors = len(edge_src) / num_nodes\n",
    "num_neighbors"
   ]
  },
  {
   "cell_type": "code",
   "execution_count": 13,
   "id": "b70957be",
   "metadata": {},
   "outputs": [
    {
     "name": "stdout",
     "output_type": "stream",
     "text": [
      "torch.Size([2972])\n"
     ]
    },
    {
     "data": {
      "text/plain": [
       "29.72"
      ]
     },
     "execution_count": 13,
     "metadata": {},
     "output_type": "execute_result"
    }
   ],
   "source": [
    "# create node positions\n",
    "num_nodes = 100\n",
    "pos = torch.randn(num_nodes, 3)  # random node positions\n",
    "# create edges\n",
    "max_radius = 1.8\n",
    "edge_src, edge_dst = radius_graph(pos, max_radius, max_num_neighbors=num_nodes - 1)\n",
    "print(edge_src.shape)\n",
    "edge_vec = pos[edge_dst] - pos[edge_src]\n",
    "# compute z\n",
    "num_neighbors = len(edge_src) / num_nodes\n",
    "num_neighbors"
   ]
  },
  {
   "cell_type": "code",
   "execution_count": 14,
   "id": "fd9391d9",
   "metadata": {},
   "outputs": [],
   "source": [
    "f_in = irreps_input.randn(num_nodes, -1)"
   ]
  },
  {
   "cell_type": "code",
   "execution_count": 15,
   "id": "77f230f2",
   "metadata": {},
   "outputs": [
    {
     "data": {
      "text/plain": [
       "tensor(1.0008)"
      ]
     },
     "execution_count": 15,
     "metadata": {},
     "output_type": "execute_result"
    }
   ],
   "source": [
    "f_in.pow(2).mean()  # should be close to 1"
   ]
  },
  {
   "cell_type": "code",
   "execution_count": 16,
   "id": "8e9aeecc",
   "metadata": {},
   "outputs": [
    {
     "name": "stdout",
     "output_type": "stream",
     "text": [
      "1x0e+1x1o+1x2e+1x3o  --> 1x0ee+1x1oe+1x2ee+1x3oe\n",
      "1x0ee+1x1oe+1x2ee+1x3oe  --> 1x0e+1x1o+1x2e+1x3o\n"
     ]
    },
    {
     "data": {
      "text/plain": [
       "tensor(1.)"
      ]
     },
     "execution_count": 16,
     "metadata": {},
     "output_type": "execute_result"
    }
   ],
   "source": [
    "# irreps_sh = su2.Irreps.spherical_harmonics(lmax=2)\n",
    "lmax = 3\n",
    "irreps_sh_o3 = o3.Irreps.spherical_harmonics(lmax)\n",
    "irreps_sh_su2 = irreps_o3_to_su2(irreps_sh_o3)\n",
    "print(f'{irreps_sh_o3}  --> {irreps_sh_su2}')\n",
    "print(f'{irreps_sh_su2}  --> {irreps_su2_to_o3(irreps_sh_su2)}')\n",
    "\n",
    "sh = o3.spherical_harmonics(irreps_sh_o3, edge_vec, normalize=True, normalization='component')\n",
    "# normalize=True ensure that x is divided by |x| before computing the sh\n",
    "\n",
    "sh.pow(2).mean()  # should be close to 1"
   ]
  },
  {
   "attachments": {},
   "cell_type": "markdown",
   "id": "425fef07",
   "metadata": {},
   "source": [
    "## 5.4 Tensor product"
   ]
  },
  {
   "cell_type": "code",
   "execution_count": 17,
   "id": "009fae36",
   "metadata": {},
   "outputs": [
    {
     "name": "stdout",
     "output_type": "stream",
     "text": [
      "FullyConnectedTensorProduct(10x0ee+10x1eo x 1x0ee+1x1oe+1x2ee+1x3oe -> 20x0ee+10x1eo | 400 paths | 400 weights) needs 400 weights\n"
     ]
    },
    {
     "data": {
      "image/png": "[encoded data removed]",
      "text/plain": [
       "<Figure size 640x480 with 1 Axes>"
      ]
     },
     "metadata": {},
     "output_type": "display_data"
    }
   ],
   "source": [
    "tp = su2.FullyConnectedTensorProduct(irreps_input, irreps_sh_su2, irreps_output, shared_weights=False)\n",
    "\n",
    "print(f\"{tp} needs {tp.weight_numel} weights\")\n",
    "\n",
    "tp.visualize();"
   ]
  },
  {
   "cell_type": "code",
   "execution_count": 18,
   "id": "93f401ed",
   "metadata": {},
   "outputs": [
    {
     "name": "stdout",
     "output_type": "stream",
     "text": [
      "FullTensorProduct(2x1oe+1x1/2eo+1x3/2oo x 1x1eo+1x1/2oe -> 3x0oo+1x1/2oe+3x1/2ee+3x1oo+1x1eo+1x3/2oe+3x3/2ee+2x2oo+1x2eo+1x5/2oe | 19 paths | 0 weights)\n"
     ]
    },
    {
     "data": {
      "image/png": "[encoded data removed]",
      "text/plain": [
       "<Figure size 640x480 with 1 Axes>"
      ]
     },
     "metadata": {},
     "output_type": "display_data"
    }
   ],
   "source": [
    "irreps_in1 = Irreps(\"2x1oe+1x0.5eo+1x1.5oo\")\n",
    "irreps_in2 = Irreps(\"1x1eo+1x0.5oe\")\n",
    "tp2 = su2.FullTensorProduct(irreps_in1, irreps_in2)\n",
    "\n",
    "print(tp2)\n",
    "\n",
    "tp2.visualize();"
   ]
  },
  {
   "cell_type": "code",
   "execution_count": null,
   "id": "e703fd75",
   "metadata": {},
   "outputs": [],
   "source": []
  },
  {
   "attachments": {},
   "cell_type": "markdown",
   "id": "272920a0",
   "metadata": {},
   "source": [
    "## 5.5 Equivariance check"
   ]
  },
  {
   "cell_type": "code",
   "execution_count": 19,
   "id": "e6ebb6fd",
   "metadata": {},
   "outputs": [
    {
     "name": "stdout",
     "output_type": "stream",
     "text": [
      "Convolution(\n",
      "  (fc): FullyConnectedNet[3, 256, 9]\n",
      "  (tp): FullyConnectedTensorProduct(1x1eo x 1x0eo+1x1oo+1x2eo -> 1x0oe+1x1oe+2x1ee+1x2oe+1x2ee+1x3ee | 9 paths | 9 weights)\n",
      ")\n"
     ]
    }
   ],
   "source": [
    "irreps_node_feature = Irreps('1x1eo')   # spin with l=1\n",
    "irreps_in= irreps_node_feature  #Irreps(str(input_embed_dim)+'x0ee')\n",
    "lmax=2\n",
    "device='cuda:7'\n",
    "irreps_edge_attr_o3 = o3.Irreps.spherical_harmonics(lmax)\n",
    "irreps_sh=irreps_o3_to_su2(irreps_edge_attr_o3, t='o')\n",
    "irreps_out='1x0oe+1x1oe+2x1ee+1x2oe+1x2ee+1x3ee' \n",
    "num_neighbors=4\n",
    "conv = Convolution(irreps_in, irreps_sh, irreps_out, num_neighbors)\n",
    "print(conv)\n",
    "conv.to(device)\n",
    "number_of_basis =3\n",
    "tol = 1e-3"
   ]
  },
  {
   "cell_type": "code",
   "execution_count": 20,
   "id": "bc3f9c03",
   "metadata": {},
   "outputs": [
    {
     "data": {
      "text/plain": [
       "(<Figure size 640x480 with 1 Axes>, <Axes: >)"
      ]
     },
     "execution_count": 20,
     "metadata": {},
     "output_type": "execute_result"
    },
    {
     "data": {
      "image/png": "[encoded data removed]",
      "text/plain": [
       "<Figure size 640x480 with 1 Axes>"
      ]
     },
     "metadata": {},
     "output_type": "display_data"
    }
   ],
   "source": [
    "ftp = su2.FullyConnectedTensorProduct('1x1eo', '1x0eo+1x1oo+1x2eo', '1x0oe+1x1oe+2x1ee+1x2oe+1x2ee+1x3ee')\n",
    "ftp.visualize()"
   ]
  },
  {
   "attachments": {},
   "cell_type": "markdown",
   "id": "96e53082",
   "metadata": {},
   "source": [
    "### case1: physical coordinate is rotated, spins are static"
   ]
  },
  {
   "cell_type": "code",
   "execution_count": 21,
   "id": "c54c3f36",
   "metadata": {},
   "outputs": [
    {
     "name": "stderr",
     "output_type": "stream",
     "text": [
      "/home/rokabe/anaconda3/envs/pdos/lib/python3.9/site-packages/torch_geometric/deprecation.py:13: UserWarning: 'data.DataLoader' is deprecated, use 'loader.DataLoader' instead\n",
      "  warnings.warn(out)\n"
     ]
    }
   ],
   "source": [
    "natms = 3\n",
    "nsystems = 20\n",
    "element = 'H'\n",
    "r_max = 4\n",
    "pos0 = np.random.rand(natms,3)\n",
    "spins = np.random.rand(natms,irreps_node_feature.dim)\n",
    "df = pd.DataFrame({})\n",
    "for idx in range(nsystems):\n",
    "    Data = dict()\n",
    "    if idx==0:\n",
    "        rot = np.eye(3)\n",
    "        pos = pos0\n",
    "    else:\n",
    "        rot = np.array(su2.rand_matrix(1).reshape((3,3)))\n",
    "        pos = pos0@rot\n",
    "        \n",
    "    system = Atoms(element + str(natms), positions=pos)\n",
    "    Data['id'] = idx\n",
    "    Data['system'] = [system]\n",
    "    Data['spins'] = [spins]\n",
    "    Data['rot'] = [rot]\n",
    "    dfn = pd.DataFrame(data = Data)\n",
    "    df = pd.concat([df, dfn], ignore_index = True)\n",
    "\n",
    "data_dict = generate_data_dict(df, r_max)\n",
    "batch_size = 1\n",
    "data_set = torch.utils.data.Subset(list(data_dict.values()), range(len(data_dict)))\n",
    "tr_set, te_set = torch.utils.data.Subset(data_set, range(18)), torch.utils.data.Subset(data_set, [18,19])\n",
    "tr_loader = DataLoader(tr_set, batch_size = batch_size)\n",
    "te_loader = DataLoader(te_set, batch_size = batch_size)"
   ]
  },
  {
   "cell_type": "code",
   "execution_count": 22,
   "id": "3507b181",
   "metadata": {},
   "outputs": [
    {
     "name": "stdout",
     "output_type": "stream",
     "text": [
      "0     (Atom('H', [0.6130707483482756, 0.412672112565...\n",
      "1     (Atom('H', [0.5524753761291286, 0.733698643742...\n",
      "2     (Atom('H', [-0.17133744206510507, -0.718621856...\n",
      "3     (Atom('H', [-0.7830663465816167, 0.53101465516...\n",
      "4     (Atom('H', [0.006059748681595371, -0.939908634...\n",
      "5     (Atom('H', [0.6258563303023641, -0.73558935470...\n",
      "6     (Atom('H', [-0.585330587649349, 0.651939921496...\n",
      "7     (Atom('H', [-0.46198873274498925, 0.7853195743...\n",
      "8     (Atom('H', [0.8723489419693786, -0.04612915266...\n",
      "9     (Atom('H', [-0.6474522058873596, 0.63488243963...\n",
      "10    (Atom('H', [-0.3420571931688558, -0.6524464225...\n",
      "11    (Atom('H', [0.14901173530384854, -0.9563253782...\n",
      "12    (Atom('H', [0.9566494974200976, 0.021393339201...\n",
      "13    (Atom('H', [-0.5471226802459392, -0.7332833256...\n",
      "14    (Atom('H', [-0.09389176603742844, -0.616493779...\n",
      "15    (Atom('H', [-0.7266344584541106, 0.56855149235...\n",
      "16    (Atom('H', [0.9242631893530346, 0.309524325786...\n",
      "17    (Atom('H', [0.285250543673448, 0.9365414594447...\n",
      "18    (Atom('H', [-0.06930485088251355, 0.4848101387...\n",
      "19    (Atom('H', [-0.4877339100132472, -0.7698410459...\n",
      "Name: system, dtype: object\n"
     ]
    }
   ],
   "source": [
    "print(df['system']) # rotated"
   ]
  },
  {
   "cell_type": "code",
   "execution_count": 23,
   "id": "bab06737",
   "metadata": {},
   "outputs": [
    {
     "name": "stdout",
     "output_type": "stream",
     "text": [
      "0     [[0.2853853356933579, 0.31891163039008075, 0.9...\n",
      "1     [[0.2853853356933579, 0.31891163039008075, 0.9...\n",
      "2     [[0.2853853356933579, 0.31891163039008075, 0.9...\n",
      "3     [[0.2853853356933579, 0.31891163039008075, 0.9...\n",
      "4     [[0.2853853356933579, 0.31891163039008075, 0.9...\n",
      "5     [[0.2853853356933579, 0.31891163039008075, 0.9...\n",
      "6     [[0.2853853356933579, 0.31891163039008075, 0.9...\n",
      "7     [[0.2853853356933579, 0.31891163039008075, 0.9...\n",
      "8     [[0.2853853356933579, 0.31891163039008075, 0.9...\n",
      "9     [[0.2853853356933579, 0.31891163039008075, 0.9...\n",
      "10    [[0.2853853356933579, 0.31891163039008075, 0.9...\n",
      "11    [[0.2853853356933579, 0.31891163039008075, 0.9...\n",
      "12    [[0.2853853356933579, 0.31891163039008075, 0.9...\n",
      "13    [[0.2853853356933579, 0.31891163039008075, 0.9...\n",
      "14    [[0.2853853356933579, 0.31891163039008075, 0.9...\n",
      "15    [[0.2853853356933579, 0.31891163039008075, 0.9...\n",
      "16    [[0.2853853356933579, 0.31891163039008075, 0.9...\n",
      "17    [[0.2853853356933579, 0.31891163039008075, 0.9...\n",
      "18    [[0.2853853356933579, 0.31891163039008075, 0.9...\n",
      "19    [[0.2853853356933579, 0.31891163039008075, 0.9...\n",
      "Name: spins, dtype: object\n"
     ]
    }
   ],
   "source": [
    "print(df['spins'])  # static"
   ]
  },
  {
   "cell_type": "code",
   "execution_count": 24,
   "id": "408ca45d",
   "metadata": {},
   "outputs": [
    {
     "name": "stderr",
     "output_type": "stream",
     "text": [
      "/tmp/ipykernel_5459/3494912306.py:12: UserWarning: To copy construct from a tensor, it is recommended to use sourceTensor.clone().detach() or sourceTensor.clone().detach().requires_grad_(True), rather than torch.tensor(sourceTensor).\n",
      "  x = torch.tensor(d.x).to(device)\n",
      "/tmp/ipykernel_5459/3494912306.py:17: UserWarning: Casting complex values to real discards the imaginary part (Triggered internally at  ../aten/src/ATen/native/Copy.cpp:244.)\n",
      "  D = D.double().to(device)\n"
     ]
    },
    {
     "name": "stdout",
     "output_type": "stream",
     "text": [
      "True\n",
      "False\n",
      "False\n",
      "False\n",
      "False\n",
      "False\n",
      "False\n",
      "False\n",
      "False\n",
      "False\n",
      "False\n",
      "False\n",
      "False\n",
      "False\n",
      "False\n",
      "False\n",
      "False\n",
      "False\n"
     ]
    }
   ],
   "source": [
    "for i, d in enumerate(tr_loader):\n",
    "    d.to(device)\n",
    "    num_neighbors = d['numb']\n",
    "    edge_src = d['edge_index'][0]\n",
    "    edge_dst = d['edge_index'][1]\n",
    "    edge_vec = d['edge_vec']\n",
    "    edge_len = d['edge_len']\n",
    "    edge_length_embedded = soft_one_hot_linspace(edge_len, 0.0, d['r_max'].item(), number_of_basis, basis = 'gaussian', cutoff = False)\n",
    "    edge_sh = o3.spherical_harmonics(irreps_edge_attr_o3, edge_vec, True, normalization = 'component')\n",
    "    edge_attr = edge_sh\n",
    "    numb = d['numb']\n",
    "    x = torch.tensor(d.x).to(device)\n",
    "    d.to(device)\n",
    "    out = conv(x, edge_src, edge_dst, edge_attr, edge_length_embedded)\n",
    "    rot = d.rot\n",
    "    D =conv.irreps_out.D_from_matrix(rot.cpu())\n",
    "    D = D.double().to(device)\n",
    "    out_rot = out@D.T\n",
    "    diff = out - out_rot\n",
    "    # print(out[:2])\n",
    "    print(torch.allclose(diff, torch.zeros_like(diff), atol=tol))"
   ]
  },
  {
   "cell_type": "code",
   "execution_count": null,
   "id": "12bda416",
   "metadata": {},
   "outputs": [],
   "source": []
  },
  {
   "attachments": {},
   "cell_type": "markdown",
   "id": "1de92300",
   "metadata": {},
   "source": [
    "### case2: spins is rotated, physical coordinate is static"
   ]
  },
  {
   "cell_type": "code",
   "execution_count": 25,
   "id": "d9c59245",
   "metadata": {},
   "outputs": [],
   "source": [
    "natms = 3\n",
    "nsystems = 20\n",
    "element = 'H'\n",
    "r_max = 4\n",
    "pos0 = np.random.rand(natms,3)\n",
    "spins0 = np.random.rand(natms,irreps_node_feature.dim)\n",
    "df = pd.DataFrame({})\n",
    "for idx in range(nsystems):\n",
    "    Data = dict()\n",
    "    if idx==0:\n",
    "        rot = np.eye(3)\n",
    "        spins = spins0\n",
    "    else:\n",
    "        rot = np.array(su2.rand_matrix(1).reshape((3,3)))\n",
    "        spins = spins0@rot\n",
    "        \n",
    "    system = Atoms(element + str(natms), positions=pos0)\n",
    "    Data['id'] = idx\n",
    "    Data['system'] = [system]\n",
    "    Data['spins'] = [spins]\n",
    "    Data['rot'] = [rot]\n",
    "    dfn = pd.DataFrame(data = Data)\n",
    "    df = pd.concat([df, dfn], ignore_index = True)\n",
    "\n",
    "data_dict = generate_data_dict(df, r_max)\n",
    "batch_size = 1\n",
    "data_set = torch.utils.data.Subset(list(data_dict.values()), range(len(data_dict)))\n",
    "tr_set, te_set = torch.utils.data.Subset(data_set, range(18)), torch.utils.data.Subset(data_set, [18,19])\n",
    "tr_loader = DataLoader(tr_set, batch_size = batch_size)\n",
    "te_loader = DataLoader(te_set, batch_size = batch_size)"
   ]
  },
  {
   "cell_type": "code",
   "execution_count": 26,
   "id": "1fd87367",
   "metadata": {},
   "outputs": [
    {
     "name": "stdout",
     "output_type": "stream",
     "text": [
      "0     (Atom('H', [0.5575631448633078, 0.193807233673...\n",
      "1     (Atom('H', [0.5575631448633078, 0.193807233673...\n",
      "2     (Atom('H', [0.5575631448633078, 0.193807233673...\n",
      "3     (Atom('H', [0.5575631448633078, 0.193807233673...\n",
      "4     (Atom('H', [0.5575631448633078, 0.193807233673...\n",
      "5     (Atom('H', [0.5575631448633078, 0.193807233673...\n",
      "6     (Atom('H', [0.5575631448633078, 0.193807233673...\n",
      "7     (Atom('H', [0.5575631448633078, 0.193807233673...\n",
      "8     (Atom('H', [0.5575631448633078, 0.193807233673...\n",
      "9     (Atom('H', [0.5575631448633078, 0.193807233673...\n",
      "10    (Atom('H', [0.5575631448633078, 0.193807233673...\n",
      "11    (Atom('H', [0.5575631448633078, 0.193807233673...\n",
      "12    (Atom('H', [0.5575631448633078, 0.193807233673...\n",
      "13    (Atom('H', [0.5575631448633078, 0.193807233673...\n",
      "14    (Atom('H', [0.5575631448633078, 0.193807233673...\n",
      "15    (Atom('H', [0.5575631448633078, 0.193807233673...\n",
      "16    (Atom('H', [0.5575631448633078, 0.193807233673...\n",
      "17    (Atom('H', [0.5575631448633078, 0.193807233673...\n",
      "18    (Atom('H', [0.5575631448633078, 0.193807233673...\n",
      "19    (Atom('H', [0.5575631448633078, 0.193807233673...\n",
      "Name: system, dtype: object\n"
     ]
    }
   ],
   "source": [
    "print(df['system']) # static"
   ]
  },
  {
   "cell_type": "code",
   "execution_count": 27,
   "id": "72de70a1",
   "metadata": {},
   "outputs": [
    {
     "name": "stdout",
     "output_type": "stream",
     "text": [
      "0     [[0.6507500131892174, 0.11951137755867935, 0.8...\n",
      "1     [[0.9244431996301206, 0.2306652605447768, 0.49...\n",
      "2     [[-0.051532832482965474, -0.062302581531615706...\n",
      "3     [[-0.9664978722288959, -0.4651010580905883, -0...\n",
      "4     [[0.7182550674554521, 0.6379749768963697, -0.4...\n",
      "5     [[1.0388203745291797, 0.2663137558373709, -0.0...\n",
      "6     [[0.6573335434238459, -0.2813636199000706, 0.7...\n",
      "7     [[-1.0468376850817231, -0.13938996145009372, -...\n",
      "8     [[0.8686007862420639, 0.6289688195255438, -0.0...\n",
      "9     [[-0.570871648497365, -0.7753679296286686, 0.4...\n",
      "10    [[-0.9921435113370527, 0.40394449080861866, -0...\n",
      "11    [[-0.30659509981502425, -0.39390206647551856, ...\n",
      "12    [[-0.2734778219369802, 0.9414839822363569, 0.4...\n",
      "13    [[0.9572901975341147, -0.43958814789290807, 0....\n",
      "14    [[0.9064881401749115, -0.39557104075907124, 0....\n",
      "15    [[0.0738018277223973, 1.0375525044977698, 0.26...\n",
      "16    [[-0.19909942525235275, -0.8867426179821031, -...\n",
      "17    [[-0.5156196607792242, 0.9317414429173647, 0.1...\n",
      "18    [[0.22472621243719842, -0.9326628089299794, -0...\n",
      "19    [[-0.28161150403732926, -0.5726342081089816, -...\n",
      "Name: spins, dtype: object\n"
     ]
    }
   ],
   "source": [
    "print(df['spins'])  # rotated"
   ]
  },
  {
   "cell_type": "code",
   "execution_count": 28,
   "id": "7cda1302",
   "metadata": {},
   "outputs": [
    {
     "name": "stdout",
     "output_type": "stream",
     "text": [
      "True\n",
      "False\n",
      "False\n",
      "False\n",
      "False\n",
      "False\n",
      "False\n",
      "False\n",
      "False\n",
      "False\n",
      "False\n",
      "False\n",
      "False\n",
      "False\n",
      "False\n",
      "False\n",
      "False\n",
      "False\n"
     ]
    },
    {
     "name": "stderr",
     "output_type": "stream",
     "text": [
      "/tmp/ipykernel_5459/3494912306.py:12: UserWarning: To copy construct from a tensor, it is recommended to use sourceTensor.clone().detach() or sourceTensor.clone().detach().requires_grad_(True), rather than torch.tensor(sourceTensor).\n",
      "  x = torch.tensor(d.x).to(device)\n"
     ]
    }
   ],
   "source": [
    "for i, d in enumerate(tr_loader):\n",
    "    d.to(device)\n",
    "    num_neighbors = d['numb']\n",
    "    edge_src = d['edge_index'][0]\n",
    "    edge_dst = d['edge_index'][1]\n",
    "    edge_vec = d['edge_vec']\n",
    "    edge_len = d['edge_len']\n",
    "    edge_length_embedded = soft_one_hot_linspace(edge_len, 0.0, d['r_max'].item(), number_of_basis, basis = 'gaussian', cutoff = False)\n",
    "    edge_sh = o3.spherical_harmonics(irreps_edge_attr_o3, edge_vec, True, normalization = 'component')\n",
    "    edge_attr = edge_sh\n",
    "    numb = d['numb']\n",
    "    x = torch.tensor(d.x).to(device)\n",
    "    d.to(device)\n",
    "    out = conv(x, edge_src, edge_dst, edge_attr, edge_length_embedded)\n",
    "    rot = d.rot\n",
    "    D =conv.irreps_out.D_from_matrix(rot.cpu())\n",
    "    D = D.double().to(device)\n",
    "    out_rot = out@D.T\n",
    "    diff = out - out_rot\n",
    "    # print(out[:2])\n",
    "    print(torch.allclose(diff, torch.zeros_like(diff), atol=tol))"
   ]
  },
  {
   "attachments": {},
   "cell_type": "markdown",
   "id": "24e4a422",
   "metadata": {},
   "source": [
    "### case3: both physical coordinate and spins are rotated"
   ]
  },
  {
   "cell_type": "code",
   "execution_count": 29,
   "id": "215cb72f",
   "metadata": {},
   "outputs": [],
   "source": [
    "natms = 3\n",
    "nsystems = 20\n",
    "element = 'H'\n",
    "r_max = 4\n",
    "pos0 = np.random.rand(natms,3)\n",
    "spins0 = np.random.rand(natms,irreps_node_feature.dim)\n",
    "df = pd.DataFrame({})\n",
    "for idx in range(nsystems):\n",
    "    Data = dict()\n",
    "    if idx==0:\n",
    "        rot = np.eye(3)\n",
    "        pos = pos0\n",
    "        spins = spins0\n",
    "    else:\n",
    "        rot = np.array(su2.rand_matrix(1).reshape((3,3)))\n",
    "        pos = pos0@rot\n",
    "        spins = spins0@rot\n",
    "        \n",
    "    system = Atoms(element + str(natms), positions=pos)\n",
    "    Data['id'] = idx\n",
    "    Data['system'] = [system]\n",
    "    Data['spins'] = [spins]\n",
    "    Data['rot'] = [rot]\n",
    "    dfn = pd.DataFrame(data = Data)\n",
    "    df = pd.concat([df, dfn], ignore_index = True)\n",
    "\n",
    "data_dict = generate_data_dict(df, r_max)\n",
    "batch_size = 1\n",
    "data_set = torch.utils.data.Subset(list(data_dict.values()), range(len(data_dict)))\n",
    "tr_set, te_set = torch.utils.data.Subset(data_set, range(18)), torch.utils.data.Subset(data_set, [18,19])\n",
    "tr_loader = DataLoader(tr_set, batch_size = batch_size)\n",
    "te_loader = DataLoader(te_set, batch_size = batch_size)"
   ]
  },
  {
   "cell_type": "code",
   "execution_count": 30,
   "id": "439def48",
   "metadata": {},
   "outputs": [
    {
     "name": "stdout",
     "output_type": "stream",
     "text": [
      "0     (Atom('H', [0.34767523505948816, 0.51280012433...\n",
      "1     (Atom('H', [0.5559380914927228, 0.411939218177...\n",
      "2     (Atom('H', [0.7027314200851076, 0.206297540979...\n",
      "3     (Atom('H', [0.8061136087048537, -0.06687256675...\n",
      "4     (Atom('H', [0.46145835156328285, -0.3885310057...\n",
      "5     (Atom('H', [-0.11798956229879262, -0.025471115...\n",
      "6     (Atom('H', [0.19333379114728455, -0.1964472993...\n",
      "7     (Atom('H', [0.49709122484970414, -0.1723354694...\n",
      "8     (Atom('H', [-0.02201167058109018, 0.2771905787...\n",
      "9     (Atom('H', [0.03665263116211537, -0.4764763252...\n",
      "10    (Atom('H', [0.2305349221440412, 0.401664224884...\n",
      "11    (Atom('H', [-0.17738619813907525, -0.184899173...\n",
      "12    (Atom('H', [-0.3075672406038782, 0.71225277983...\n",
      "13    (Atom('H', [-0.5157055991193669, 0.52000728368...\n",
      "14    (Atom('H', [0.615051541090313, 0.4459020350011...\n",
      "15    (Atom('H', [0.1361913208813998, 0.181321589948...\n",
      "16    (Atom('H', [-0.5154863286912571, 0.16382660396...\n",
      "17    (Atom('H', [0.01613057277834158, -0.0797546969...\n",
      "18    (Atom('H', [-0.7433787613503701, 0.00979884806...\n",
      "19    (Atom('H', [-0.3851208268637513, -0.2631411101...\n",
      "Name: system, dtype: object\n"
     ]
    }
   ],
   "source": [
    "print(df['system']) # rotated"
   ]
  },
  {
   "cell_type": "code",
   "execution_count": 31,
   "id": "0b77f91b",
   "metadata": {},
   "outputs": [
    {
     "name": "stdout",
     "output_type": "stream",
     "text": [
      "0     [[0.5860275618664551, 0.5027432473044839, 0.23...\n",
      "1     [[0.7517459107566552, 0.2506544962529077, -0.1...\n",
      "2     [[0.46941325218092605, 0.5355815095811358, 0.3...\n",
      "3     [[0.7145383743473075, 0.32582728599573174, -0....\n",
      "4     [[0.4373883744925883, 0.0035365856999679947, -...\n",
      "5     [[-0.1093879283805887, 0.36194122856989447, -0...\n",
      "6     [[0.5165631136725927, -0.023831515177549646, 0...\n",
      "7     [[0.4265599965582898, 0.22591177429345133, 0.6...\n",
      "8     [[-0.4019519063214848, 0.21577574450687342, -0...\n",
      "9     [[-0.2739423833143599, -0.22020098739703398, 0...\n",
      "10    [[-0.05090037393599673, 0.6234058864657523, 0....\n",
      "11    [[-0.15482717064921017, -0.5304324500583522, 0...\n",
      "12    [[-0.5858608135499349, 0.5520705830097984, -0....\n",
      "13    [[-0.29722157110016784, 0.7371353262178604, -0...\n",
      "14    [[0.3081207537730118, 0.695734948816609, -0.27...\n",
      "15    [[0.4194127370397733, 0.36616577338843237, 0.5...\n",
      "16    [[-0.36064993591505334, -0.20622556116927485, ...\n",
      "17    [[0.2343655864670093, 0.2453293783572339, 0.73...\n",
      "18    [[-0.6546339700355679, 0.38719339970738514, 0....\n",
      "19    [[-0.16540250239760132, -0.5689523926717011, 0...\n",
      "Name: spins, dtype: object\n"
     ]
    }
   ],
   "source": [
    "print(df['spins'])  # rotated"
   ]
  },
  {
   "cell_type": "code",
   "execution_count": 32,
   "id": "a4c1cdde",
   "metadata": {},
   "outputs": [
    {
     "name": "stdout",
     "output_type": "stream",
     "text": [
      "True\n",
      "False\n",
      "False\n",
      "False\n",
      "False\n",
      "False\n",
      "False\n",
      "False\n",
      "False\n",
      "False\n",
      "False\n",
      "False\n",
      "False\n",
      "False\n",
      "False\n",
      "False\n",
      "False\n",
      "False\n"
     ]
    },
    {
     "name": "stderr",
     "output_type": "stream",
     "text": [
      "/tmp/ipykernel_5459/3494912306.py:12: UserWarning: To copy construct from a tensor, it is recommended to use sourceTensor.clone().detach() or sourceTensor.clone().detach().requires_grad_(True), rather than torch.tensor(sourceTensor).\n",
      "  x = torch.tensor(d.x).to(device)\n"
     ]
    }
   ],
   "source": [
    "for i, d in enumerate(tr_loader):\n",
    "    d.to(device)\n",
    "    num_neighbors = d['numb']\n",
    "    edge_src = d['edge_index'][0]\n",
    "    edge_dst = d['edge_index'][1]\n",
    "    edge_vec = d['edge_vec']\n",
    "    edge_len = d['edge_len']\n",
    "    edge_length_embedded = soft_one_hot_linspace(edge_len, 0.0, d['r_max'].item(), number_of_basis, basis = 'gaussian', cutoff = False)\n",
    "    edge_sh = o3.spherical_harmonics(irreps_edge_attr_o3, edge_vec, True, normalization = 'component')\n",
    "    edge_attr = edge_sh\n",
    "    numb = d['numb']\n",
    "    x = torch.tensor(d.x).to(device)\n",
    "    d.to(device)\n",
    "    out = conv(x, edge_src, edge_dst, edge_attr, edge_length_embedded)\n",
    "    rot = d.rot\n",
    "    D =conv.irreps_out.D_from_matrix(rot.cpu())\n",
    "    D = D.double().to(device)\n",
    "    out_rot = out@D.T\n",
    "    diff = out - out_rot\n",
    "    # print(out[:2])\n",
    "    print(torch.allclose(diff, torch.zeros_like(diff), atol=tol))"
   ]
  }
 ],
 "metadata": {
  "kernelspec": {
   "display_name": "su2nn",
   "language": "python",
   "name": "python3"
  },
  "language_info": {
   "codemirror_mode": {
    "name": "ipython",
    "version": 3
   },
   "file_extension": ".py",
   "mimetype": "text/x-python",
   "name": "python",
   "nbconvert_exporter": "python",
   "pygments_lexer": "ipython3",
   "version": "3.9.13"
  }
 },
 "nbformat": 4,
 "nbformat_minor": 5
}
