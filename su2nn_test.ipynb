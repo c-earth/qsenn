{
 "cells": [
  {
   "attachments": {},
   "cell_type": "markdown",
   "id": "0155ce18",
   "metadata": {},
   "source": [
    "# su2nn: SU(2) and time-reversal equivariant neural network for quantum spin system"
   ]
  },
  {
   "attachments": {},
   "cell_type": "markdown",
   "id": "4ef2dd52",
   "metadata": {},
   "source": [
    "## 1. Introduction\n",
    "\n",
    "The first obvious quantum spin effect we can observe is in the field of magnetism. Magnetism is important because it is crucial in various technological applications, such as data storage, electric motors, and generators. In addition, magnetic materials have been widely studied in condensed matter physics, where understanding their magnetic properties can provide insights into fundamental phenomena such as quantum phase transitions and spin dynamics. Moreover, the most recent theoretical developments of quantum spin have led to many applications in advanced fields like topological material, lossless electronics, and quantum information.\n",
    "\n",
    "Quantum spin is the quantum angular momentum internal degree of freedom. Together with the external counterpart, the quantum angular momentum has SU(2) as its symmetry group, i.e. it can be described by a representation of the group of 2 by 2 unitary matrices with unit determinant. It also turns out that SU(2) is a Lie group with exactly the same Lie algebra as SO(3), up to the generators equivalence. This means that SU(2) is homomorphic to SO(3), but SU(2) is more fundamental in describing quantum systems. Furthermore, spin systems can also break the time-reversal symmetry which is a discrete symmetry similar to parity but for temporal instead of spatial. With this nature of quantum spin system’s symmetry, it is straight forward to attempt the generalization of e3nn package that is already SO(3) and parity equivariant to also SU(2) and time-reversal equivariant in order to make a machine learning model that is suitable to the symmetry of the spin system.\n",
    "\n",
    "In this project, we modified the source code of e3nn, specifically the irreducible representation classes, to handle the SU(2) symmetry group, i.e. expanding integer angular number requirement to include half-integer, and increase the discrete symmetry channel of time-reversal on top of parity. We then propagated the change of this class through out the whole e3nn package. After that, we tested the sanity of the modified package with various equivariant properties we learned in class, and performed experiments with some simple quantum spin systems."
   ]
  },
  {
   "attachments": {},
   "cell_type": "markdown",
   "id": "bc0e99c9",
   "metadata": {},
   "source": [
    "## 2. Related Works\n",
    "\n",
    "Machine learning has been increasingly applied to predicting material properties, including spin, due to its potential to enhance accuracy and efficiency compared to traditional methods. There are works taking the symmetry described in SU(2) to represent the property of spin in a reasonable way. \n",
    "\n",
    "Machine learning helps us understand the relationship between spin configuration and other material properties. Models are proposed for predicting the properties of quantum materials, like the topological features of their electronic structures, using spin configuration as input. Also, there are models predicting spin states. A  neural network model to predict whether the spin is up or down, providing the electronic configurations of transition-metal compounds. This is important for understanding their magnetic and electronic properties. The model utilizes local crystal structure as input to predict electronic configurations accurately. Another work proposes a machine learning method using an artificial neural network to represent a complex spin Hamiltonian, which can be used to study spin systems. The method utilizes a feedforward neural network with a modified activation function to represent the Hamiltonian and shows promising results in predicting the behavior of spin systems.\n",
    "\n",
    "A graph neural network (GNN) is the most common approach to studying the structure-property relationship of materials, as it can take the geometrical aspect of materials into the models. A graph neural network model can predict material properties incorporating local and global information about the material structure. The model utilizes residual correlation to enhance the accuracy of prediction performance through the work using spin states of the Ising model. Another model utilizes the local environment of each atom in the material to predict its magnetic moment and shows improved accuracy compared to traditional methods.\n",
    "\n",
    "We can use machine learning to detect and evaluate the specific symmetry of the dataset. One work presents a neural network method for detecting symmetries like the one in SU(2), which can be applied to identify symmetry-protected topological phases. The method utilizes convolutional neural networks to learn the features of the data and then applies group theoretic techniques to extract the symmetries. Another model work presents a machine learning approach to learning order parameters of SU(2) lattice gauge theory, which describes the behavior of spin systems. The method utilizes a neural network to learn the mapping from spin configurations to the corresponding order parameters and shows promising results in predicting the behavior of spin systems."
   ]
  },
  {
   "attachments": {},
   "cell_type": "markdown",
   "id": "639753b0",
   "metadata": {},
   "source": [
    "## 3. Background\n",
    "### 3.1 SU(2) Irreducible Representation\n",
    "Similar to the process for SO(3) in lectures, one can start from the definition of SU(2) as a group of 2 by 2 unitary matrices with unit determinant. This entails that each member of the group can be written in the form\n",
    "$$\n",
    "    U = e^{-iA} \\tag{1}\n",
    "$$\n",
    "with \n",
    "$$\n",
    "    A^\\dag = A, \\text{Tr}A = 0. \\tag{2}\n",
    "$$\n",
    "From this criteria, we can deduce one possible selection of the generators as\n",
    "$$\n",
    "\\begin{align}\n",
    "    A &= \\begin{bmatrix}c & a - ib \\\\ a + ib & - c\\end{bmatrix} \\nonumber\\\\\n",
    "    &= a\\cdot\\sigma_x + b\\cdot\\sigma_y + c\\cdot\\sigma_z \\nonumber\\\\\n",
    "    &= (a, b, c)\\cdot\\vec{\\sigma} \\nonumber\\\\\n",
    "    &\\equiv \\dfrac{1}{2}\\vec{\\sigma}\\cdot\\hat{n}\\phi\n",
    "\\end{align} \\tag{3}\n",
    "$$\n",
    "where $\\sigma$'s are Pauli matrices, $\\hat{n}$ is the unit vector in $(a, b, c)$ direction, and $\\phi$ is twice the magnitude of $(a, b, c)$. These choices of parameters are for the consistency with the quantum spin community.\n",
    "\n",
    "Since $\\sigma_z$ is the only diagonal generator, it is trivial that the generators are of irreducible representation. Furthermore, the commutation relation of the Pauli matrix is\n",
    "$$\n",
    "    [\\sigma_p/2, \\sigma_q/2] = i\\epsilon_{pqr}\\sigma_r/2, \\tag{4}\n",
    "$$\n",
    "which is exactly the same as SO(3)'s Lie algebra. This means that we can directly define\n",
    "$$\n",
    "\\begin{align}\n",
    "    J^{(1/2)}_{p\\in\\{x, y, z\\}} &\\equiv \\sigma_p/2 \\\\\n",
    "    (J^{(1/2)})^2 &\\equiv (J^{(1/2)}_x)^2 + (J^{(1/2)}_y)^2 + (J^{(1/2)}_z)^2\n",
    "\\end{align} \\tag{5}\n",
    "$$\n",
    "where $(J^{(1/2)})^2$ commute with $J^{(1/2)}_{p\\in\\{x, y, z\\}}$. Hence, we can choose to label states with eigenvalues of $(J^{(1/2)})^2$ and $J^{(1/2)}_z$ which are $j(j+1)$ and $m$ where $j = 1/2$ and $m \\in \\{1/2, -1/2\\}$. From here, one can use tensor product together with representation reduction to generate all orders of representations with $j\\in\\{0, 1/2, 1, 3/2, ...\\}$.\n",
    "\n",
    "Because of these equivalence in algebra between SO(3) and SU(2), we can use ladder operator trick to get the ladder operators' matrix representations which, in turn, gives the matrix representations of $J^{(j)}_{p\\in\\{x, y\\}}$. ($J^{(j)}_z$ is trivial with our of choice of state and the fact that $m\\in\\{-j, -j+1, ..., j-1, j\\}$.) In fact, the e3nn package actually uses this SU(2) generator method and restrict the value of $l$ (instead of $j$) to be integer.\n",
    "\n",
    "### 3.2 Time-Reversal Symmetry"
   ]
  },
  {
   "attachments": {},
   "cell_type": "markdown",
   "id": "f1ba1a3c",
   "metadata": {},
   "source": [
    "## 4. Method"
   ]
  },
  {
   "attachments": {},
   "cell_type": "markdown",
   "id": "9c9665a8",
   "metadata": {},
   "source": [
    "## 5. Results\n",
    "### 5.1 Irreducible representations"
   ]
  },
  {
   "cell_type": "code",
   "execution_count": 1,
   "id": "8a14ab50",
   "metadata": {},
   "outputs": [],
   "source": [
    "from su2nn_e3nn_core.su2 import Irreps, Irrep\n",
    "from e3nn import o3\n",
    "from ase import Atoms\n",
    "import torch\n",
    "from torch_geometric.data import Data, DataLoader\n",
    "import numpy as np\n",
    "import pandas as pd\n",
    "from project.model import GraphConvolution, GraphNetwork, Convolution, Network, irreps_o3_to_su2, irreps_su2_to_o3\n",
    "from project.data import generate_data_dict"
   ]
  },
  {
   "cell_type": "code",
   "execution_count": 2,
   "id": "87c63cee",
   "metadata": {},
   "outputs": [
    {
     "data": {
      "text/plain": [
       "1x1oe"
      ]
     },
     "execution_count": 2,
     "metadata": {},
     "output_type": "execute_result"
    }
   ],
   "source": [
    "# physical vector \n",
    "irreps = Irreps(\"1oe\")\n",
    "irreps"
   ]
  },
  {
   "cell_type": "code",
   "execution_count": 3,
   "id": "ca4e29ef",
   "metadata": {},
   "outputs": [
    {
     "data": {
      "text/plain": [
       "1x1eo"
      ]
     },
     "execution_count": 3,
     "metadata": {},
     "output_type": "execute_result"
    }
   ],
   "source": [
    "# spin\n",
    "irreps2 = Irreps(\"1eo\")\n",
    "irreps2"
   ]
  },
  {
   "cell_type": "code",
   "execution_count": 4,
   "id": "680c9f2c",
   "metadata": {},
   "outputs": [
    {
     "data": {
      "text/plain": [
       "1x1/2eo"
      ]
     },
     "execution_count": 4,
     "metadata": {},
     "output_type": "execute_result"
    }
   ],
   "source": [
    "irreps3 = Irreps(\"0.5eo\")\n",
    "irreps3"
   ]
  },
  {
   "cell_type": "code",
   "execution_count": 5,
   "id": "ea7ee735",
   "metadata": {},
   "outputs": [
    {
     "name": "stdout",
     "output_type": "stream",
     "text": [
      "1\n",
      "1x1oe\n",
      "2\n",
      "1\n",
      "1oe\n",
      "1 -1\n"
     ]
    }
   ],
   "source": [
    "# Tuple[Tuple[int, Tuple[int, int]]]\n",
    "# ((multiplicity, (l, p)), ...)\n",
    "\n",
    "print(len(irreps))\n",
    "mul_ir = irreps[0]  # a tuple\n",
    "\n",
    "print(mul_ir)\n",
    "print(len(mul_ir))\n",
    "mul = mul_ir[0]  # an int\n",
    "ir = mul_ir[1]  # another tuple\n",
    "\n",
    "print(mul)\n",
    "\n",
    "print(ir)\n",
    "# print(len(ir))  ir is a tuple of 2 ints but __len__ has been disabled since it is always 2\n",
    "l = ir[0]\n",
    "p = ir[1]\n",
    "\n",
    "print(l, p)"
   ]
  },
  {
   "cell_type": "code",
   "execution_count": 6,
   "id": "e642f60a",
   "metadata": {},
   "outputs": [
    {
     "data": {
      "text/plain": [
       "tensor([[-1.+0.j, -0.+0.j, -0.+0.j],\n",
       "        [-0.+0.j, -1.+0.j, -0.+0.j],\n",
       "        [-0.+0.j, -0.+0.j, -1.+0.j]])"
      ]
     },
     "execution_count": 6,
     "metadata": {},
     "output_type": "execute_result"
    }
   ],
   "source": [
    "import torch\n",
    "t = torch.tensor\n",
    "\n",
    "# show the transformation matrix corresponding to the inversion\n",
    "irreps.D_from_angles(alpha=t(0.0), beta=t(0.0), gamma=t(0.0), k=t(1))"
   ]
  },
  {
   "cell_type": "code",
   "execution_count": 7,
   "id": "6d498064",
   "metadata": {},
   "outputs": [
    {
     "data": {
      "text/plain": [
       "tensor([[0.9950+0.0998j, 0.0000+0.0000j, 0.0000+0.0000j],\n",
       "        [0.0000+0.0000j, 1.0000+0.0000j, 0.0000+0.0000j],\n",
       "        [0.0000+0.0000j, 0.0000+0.0000j, 0.9950-0.0998j]])"
      ]
     },
     "execution_count": 7,
     "metadata": {},
     "output_type": "execute_result"
    }
   ],
   "source": [
    "# a small rotation around the y axis\n",
    "irreps.D_from_angles(alpha=t(0.1), beta=t(0.0), gamma=t(0.0), k=t(0))"
   ]
  },
  {
   "cell_type": "code",
   "execution_count": null,
   "id": "2e776dd4",
   "metadata": {},
   "outputs": [],
   "source": []
  },
  {
   "cell_type": "code",
   "execution_count": 8,
   "id": "705ac568",
   "metadata": {},
   "outputs": [
    {
     "data": {
      "text/plain": [
       "[]"
      ]
     },
     "execution_count": 8,
     "metadata": {},
     "output_type": "execute_result"
    },
    {
     "data": {
      "image/png": "[encoded data removed]",
      "text/plain": [
       "<Figure size 1000x500 with 2 Axes>"
      ]
     },
     "metadata": {},
     "output_type": "display_data"
    }
   ],
   "source": [
    "irreps = Irreps(\"3x0ee + 2x0oe + 1x1eo + 1x2oe\")\n",
    "irreps = Irreps(\"1x5.5eo\")\n",
    "from su2nn_e3nn_core import su2\n",
    "rot = -su2.rand_matrix()\n",
    "\n",
    "D = irreps.D_from_angles(torch.tensor([30]), torch.tensor([50]), torch.tensor([10]))\n",
    "D = irreps.D_from_matrix(rot)\n",
    "# print(D)\n",
    "\n",
    "D = D.reshape(irreps.dim, irreps.dim)\n",
    "import matplotlib.pyplot as plt\n",
    "fig, axs = plt.subplots(1,2, figsize = (10, 5))\n",
    "ax1, ax2 = axs[0], axs[1]\n",
    "ax1.imshow(D.real, cmap='bwr', vmin=-1, vmax=1)\n",
    "ax1.set_title('Real')\n",
    "ax2.imshow(D.imag, cmap='bwr', vmin=-1, vmax=1)\n",
    "ax2.set_title('Imag')\n",
    "plt.plot()"
   ]
  },
  {
   "cell_type": "code",
   "execution_count": 9,
   "id": "7ab8824a",
   "metadata": {},
   "outputs": [
    {
     "data": {
      "text/plain": [
       "[]"
      ]
     },
     "execution_count": 9,
     "metadata": {},
     "output_type": "execute_result"
    },
    {
     "data": {
      "image/png": "[encoded data removed]",
      "text/plain": [
       "<Figure size 1000x500 with 2 Axes>"
      ]
     },
     "metadata": {},
     "output_type": "display_data"
    }
   ],
   "source": [
    "irreps = Irreps(\"1x0.5ee + 1x1.5ee + 1x1.5eo + 1x1.5oe + 1x1.5oo+ 1x2.5oe\")\n",
    "from su2nn_e3nn_core import su2\n",
    "rot = -su2.rand_matrix()\n",
    "\n",
    "D = irreps.D_from_matrix(rot)\n",
    "# print(D)\n",
    "\n",
    "import matplotlib.pyplot as plt\n",
    "fig, axs = plt.subplots(1,2, figsize = (10, 5))\n",
    "ax1, ax2 = axs[0], axs[1]\n",
    "ax1.imshow(D.real, cmap='bwr', vmin=-1, vmax=1)\n",
    "ax1.set_title('Real')\n",
    "ax2.imshow(D.imag, cmap='bwr', vmin=-1, vmax=1)\n",
    "ax2.set_title('Imag')\n",
    "plt.plot()"
   ]
  },
  {
   "cell_type": "markdown",
   "id": "3d0a0a2b",
   "metadata": {},
   "source": [
    "# Convolution"
   ]
  },
  {
   "cell_type": "code",
   "execution_count": 10,
   "id": "2c268c5a",
   "metadata": {},
   "outputs": [],
   "source": [
    "import torch\n",
    "from torch_cluster import radius_graph\n",
    "from torch_scatter import scatter\n",
    "from su2nn_e3nn_core import su2, nn\n",
    "from su2nn_e3nn_core.math import soft_one_hot_linspace\n",
    "import matplotlib.pyplot as plt"
   ]
  },
  {
   "cell_type": "code",
   "execution_count": 11,
   "id": "c26ecf87",
   "metadata": {},
   "outputs": [],
   "source": [
    "irreps_input = su2.Irreps(\"10x0ee + 10x1eo\")\n",
    "irreps_output = su2.Irreps(\"20x0ee + 10x1eo\")"
   ]
  },
  {
   "cell_type": "code",
   "execution_count": 12,
   "id": "4c9b1863",
   "metadata": {},
   "outputs": [
    {
     "name": "stdout",
     "output_type": "stream",
     "text": [
      "torch.Size([4042])\n"
     ]
    },
    {
     "data": {
      "text/plain": [
       "40.42"
      ]
     },
     "execution_count": 12,
     "metadata": {},
     "output_type": "execute_result"
    }
   ],
   "source": [
    "# create node positions\n",
    "num_nodes = 100\n",
    "pos = torch.randn(num_nodes, 3)  # random node positions\n",
    "\n",
    "# create edges\n",
    "max_radius = 1.8\n",
    "edge_src, edge_dst = radius_graph(pos, max_radius, max_num_neighbors=num_nodes - 1)\n",
    "\n",
    "print(edge_src.shape)\n",
    "\n",
    "edge_vec = pos[edge_dst] - pos[edge_src]\n",
    "\n",
    "# compute z\n",
    "num_neighbors = len(edge_src) / num_nodes\n",
    "num_neighbors"
   ]
  },
  {
   "cell_type": "code",
   "execution_count": 13,
   "id": "b70957be",
   "metadata": {},
   "outputs": [
    {
     "name": "stdout",
     "output_type": "stream",
     "text": [
      "torch.Size([3680])\n"
     ]
    },
    {
     "data": {
      "text/plain": [
       "36.8"
      ]
     },
     "execution_count": 13,
     "metadata": {},
     "output_type": "execute_result"
    }
   ],
   "source": [
    "# create node positions\n",
    "num_nodes = 100\n",
    "pos = torch.randn(num_nodes, 3)  # random node positions\n",
    "\n",
    "# create edges\n",
    "max_radius = 1.8\n",
    "edge_src, edge_dst = radius_graph(pos, max_radius, max_num_neighbors=num_nodes - 1)\n",
    "\n",
    "print(edge_src.shape)\n",
    "\n",
    "edge_vec = pos[edge_dst] - pos[edge_src]\n",
    "\n",
    "# compute z\n",
    "num_neighbors = len(edge_src) / num_nodes\n",
    "num_neighbors"
   ]
  },
  {
   "cell_type": "code",
   "execution_count": 14,
   "id": "fd9391d9",
   "metadata": {},
   "outputs": [],
   "source": [
    "f_in = irreps_input.randn(num_nodes, -1)"
   ]
  },
  {
   "cell_type": "code",
   "execution_count": 15,
   "id": "77f230f2",
   "metadata": {},
   "outputs": [
    {
     "data": {
      "text/plain": [
       "tensor(1.0206)"
      ]
     },
     "execution_count": 15,
     "metadata": {},
     "output_type": "execute_result"
    }
   ],
   "source": [
    "f_in.pow(2).mean()  # should be close to 1"
   ]
  },
  {
   "cell_type": "code",
   "execution_count": 16,
   "id": "8e9aeecc",
   "metadata": {},
   "outputs": [
    {
     "name": "stdout",
     "output_type": "stream",
     "text": [
      "1x0e+1x1o+1x2e+1x3o  --> 1x0ee+1x1oe+1x2ee+1x3oe\n",
      "1x0ee+1x1oe+1x2ee+1x3oe  --> 1x0e+1x1o+1x2e+1x3o\n"
     ]
    },
    {
     "data": {
      "text/plain": [
       "tensor(1.)"
      ]
     },
     "execution_count": 16,
     "metadata": {},
     "output_type": "execute_result"
    }
   ],
   "source": [
    "# irreps_sh = su2.Irreps.spherical_harmonics(lmax=2)\n",
    "lmax = 3\n",
    "irreps_sh_o3 = o3.Irreps.spherical_harmonics(lmax)\n",
    "irreps_sh_su2 = irreps_o3_to_su2(irreps_sh_o3)\n",
    "print(f'{irreps_sh_o3}  --> {irreps_sh_su2}')\n",
    "print(f'{irreps_sh_su2}  --> {irreps_su2_to_o3(irreps_sh_su2)}')\n",
    "\n",
    "sh = o3.spherical_harmonics(irreps_sh_o3, edge_vec, normalize=True, normalization='component')\n",
    "# normalize=True ensure that x is divided by |x| before computing the sh\n",
    "\n",
    "sh.pow(2).mean()  # should be close to 1"
   ]
  },
  {
   "cell_type": "code",
   "execution_count": 17,
   "id": "009fae36",
   "metadata": {},
   "outputs": [
    {
     "name": "stdout",
     "output_type": "stream",
     "text": [
      "FullyConnectedTensorProduct(10x0ee+10x1eo x 1x0ee+1x1oe+1x2ee+1x3oe -> 20x0ee+10x1eo | 400 paths | 400 weights) needs 400 weights\n"
     ]
    },
    {
     "data": {
      "image/png": "[encoded data removed]",
      "text/plain": [
       "<Figure size 640x480 with 1 Axes>"
      ]
     },
     "metadata": {},
     "output_type": "display_data"
    }
   ],
   "source": [
    "tp = su2.FullyConnectedTensorProduct(irreps_input, irreps_sh_su2, irreps_output, shared_weights=False)\n",
    "\n",
    "print(f\"{tp} needs {tp.weight_numel} weights\")\n",
    "\n",
    "tp.visualize();"
   ]
  },
  {
   "cell_type": "code",
   "execution_count": 21,
   "id": "93f401ed",
   "metadata": {},
   "outputs": [
    {
     "name": "stdout",
     "output_type": "stream",
     "text": [
      "FullTensorProduct(10x0ee+10x1eo x 1x0ee+1x1oe+1x2ee+1x3oe -> 10x0oo+10x0ee+10x1oo+10x1oe+20x1eo+20x2oo+10x2eo+10x2ee+10x3oo+10x3oe+10x3eo+10x4oo | 140 paths | 0 weights)\n"
     ]
    },
    {
     "data": {
      "image/png": "[encoded data removed]",
      "text/plain": [
       "<Figure size 640x480 with 1 Axes>"
      ]
     },
     "metadata": {},
     "output_type": "display_data"
    }
   ],
   "source": [
    "tp2 = su2.FullTensorProduct(irreps_input, irreps_sh_su2)\n",
    "\n",
    "print(tp2)\n",
    "\n",
    "tp2.visualize();"
   ]
  },
  {
   "cell_type": "code",
   "execution_count": null,
   "id": "e703fd75",
   "metadata": {},
   "outputs": [],
   "source": []
  },
  {
   "cell_type": "markdown",
   "id": "272920a0",
   "metadata": {},
   "source": [
    "# Equivariance check"
   ]
  },
  {
   "cell_type": "code",
   "execution_count": 18,
   "id": "c54c3f36",
   "metadata": {},
   "outputs": [],
   "source": [
    "natms = 3\n",
    "nsystems = 20\n",
    "element = 'H'\n",
    "r_max = 4\n",
    "irreps_node_feature = Irreps('1x1eo')\n",
    "pos = np.random.rand(natms,3)\n",
    "spins = np.random.rand(natms,irreps_node_feature.dim)\n",
    "df = pd.DataFrame({})\n",
    "for idx in range(nsystems):\n",
    "    Data = dict()\n",
    "    system = Atoms(element + str(natms), positions=pos)\n",
    "    Data['id'] = idx\n",
    "    Data['system'] = [system]\n",
    "    Data['spins'] = [spins]\n",
    "    dfn = pd.DataFrame(data = Data)\n",
    "    df = pd.concat([df, dfn], ignore_index = True)\n",
    "    pos = pos@np.array(su2.rand_matrix(1).reshape((3,3)))"
   ]
  },
  {
   "cell_type": "code",
   "execution_count": null,
   "id": "4be63d14",
   "metadata": {},
   "outputs": [],
   "source": []
  },
  {
   "cell_type": "code",
   "execution_count": 19,
   "id": "bab06737",
   "metadata": {},
   "outputs": [
    {
     "name": "stdout",
     "output_type": "stream",
     "text": [
      "0     [[0.07505362146277228, 0.7633301988628339, 0.8...\n",
      "1     [[0.07505362146277228, 0.7633301988628339, 0.8...\n",
      "2     [[0.07505362146277228, 0.7633301988628339, 0.8...\n",
      "3     [[0.07505362146277228, 0.7633301988628339, 0.8...\n",
      "4     [[0.07505362146277228, 0.7633301988628339, 0.8...\n",
      "5     [[0.07505362146277228, 0.7633301988628339, 0.8...\n",
      "6     [[0.07505362146277228, 0.7633301988628339, 0.8...\n",
      "7     [[0.07505362146277228, 0.7633301988628339, 0.8...\n",
      "8     [[0.07505362146277228, 0.7633301988628339, 0.8...\n",
      "9     [[0.07505362146277228, 0.7633301988628339, 0.8...\n",
      "10    [[0.07505362146277228, 0.7633301988628339, 0.8...\n",
      "11    [[0.07505362146277228, 0.7633301988628339, 0.8...\n",
      "12    [[0.07505362146277228, 0.7633301988628339, 0.8...\n",
      "13    [[0.07505362146277228, 0.7633301988628339, 0.8...\n",
      "14    [[0.07505362146277228, 0.7633301988628339, 0.8...\n",
      "15    [[0.07505362146277228, 0.7633301988628339, 0.8...\n",
      "16    [[0.07505362146277228, 0.7633301988628339, 0.8...\n",
      "17    [[0.07505362146277228, 0.7633301988628339, 0.8...\n",
      "18    [[0.07505362146277228, 0.7633301988628339, 0.8...\n",
      "19    [[0.07505362146277228, 0.7633301988628339, 0.8...\n",
      "Name: spins, dtype: object\n"
     ]
    }
   ],
   "source": [
    "print(df['spins'])"
   ]
  },
  {
   "cell_type": "code",
   "execution_count": 20,
   "id": "f822bbd2",
   "metadata": {},
   "outputs": [
    {
     "name": "stdout",
     "output_type": "stream",
     "text": [
      "[[0.07505362 0.7633302  0.85700502]\n",
      " [0.00364158 0.03288147 0.8193884 ]\n",
      " [0.58724117 0.4506883  0.21754181]]\n",
      "0     (Atom('H', [0.7187079332496616, 0.927107031571...\n",
      "1     (Atom('H', [1.132217325950474, 0.8463699470523...\n",
      "2     (Atom('H', [-0.7886366920170579, -1.1170191772...\n",
      "3     (Atom('H', [0.11619843300935812, 1.42323405994...\n",
      "4     (Atom('H', [-0.37985122263623716, 1.3072336663...\n",
      "5     (Atom('H', [-0.4148065888721736, 0.34654753537...\n",
      "6     (Atom('H', [0.19396447280814316, 0.73649725043...\n",
      "7     (Atom('H', [0.07034211733880444, -1.4262483660...\n",
      "8     (Atom('H', [-1.418673888151895, -0.00518165203...\n",
      "9     (Atom('H', [-1.052911452329641, -0.65086217140...\n",
      "10    (Atom('H', [-1.3421376040643627, 0.18756943306...\n",
      "11    (Atom('H', [0.6491231009391387, -1.21891470789...\n",
      "12    (Atom('H', [-1.4075135140896744, 0.02682073535...\n",
      "13    (Atom('H', [-0.5991206615824045, 1.15393365257...\n",
      "14    (Atom('H', [-1.3908330600633745, 0.31406030330...\n",
      "15    (Atom('H', [0.22461237822483812, -1.3566265399...\n",
      "16    (Atom('H', [1.0051136904254887, -0.77308377769...\n",
      "17    (Atom('H', [0.46921593273954226, 1.03800895877...\n",
      "18    (Atom('H', [-1.3552434330980703, -0.4436377584...\n",
      "19    (Atom('H', [0.014463034693671108, 0.3850285890...\n",
      "Name: system, dtype: object\n"
     ]
    },
    {
     "ename": "KeyError",
     "evalue": "'rot'",
     "output_type": "error",
     "traceback": [
      "\u001b[0;31m---------------------------------------------------------------------------\u001b[0m",
      "\u001b[0;31mKeyError\u001b[0m                                  Traceback (most recent call last)",
      "File \u001b[0;32m~/anaconda3/envs/pdos/lib/python3.9/site-packages/pandas/core/indexes/base.py:3652\u001b[0m, in \u001b[0;36mIndex.get_loc\u001b[0;34m(self, key)\u001b[0m\n\u001b[1;32m   3651\u001b[0m \u001b[39mtry\u001b[39;00m:\n\u001b[0;32m-> 3652\u001b[0m     \u001b[39mreturn\u001b[39;00m \u001b[39mself\u001b[39;49m\u001b[39m.\u001b[39;49m_engine\u001b[39m.\u001b[39;49mget_loc(casted_key)\n\u001b[1;32m   3653\u001b[0m \u001b[39mexcept\u001b[39;00m \u001b[39mKeyError\u001b[39;00m \u001b[39mas\u001b[39;00m err:\n",
      "File \u001b[0;32m~/anaconda3/envs/pdos/lib/python3.9/site-packages/pandas/_libs/index.pyx:147\u001b[0m, in \u001b[0;36mpandas._libs.index.IndexEngine.get_loc\u001b[0;34m()\u001b[0m\n",
      "File \u001b[0;32m~/anaconda3/envs/pdos/lib/python3.9/site-packages/pandas/_libs/index.pyx:176\u001b[0m, in \u001b[0;36mpandas._libs.index.IndexEngine.get_loc\u001b[0;34m()\u001b[0m\n",
      "File \u001b[0;32mpandas/_libs/hashtable_class_helper.pxi:7080\u001b[0m, in \u001b[0;36mpandas._libs.hashtable.PyObjectHashTable.get_item\u001b[0;34m()\u001b[0m\n",
      "File \u001b[0;32mpandas/_libs/hashtable_class_helper.pxi:7088\u001b[0m, in \u001b[0;36mpandas._libs.hashtable.PyObjectHashTable.get_item\u001b[0;34m()\u001b[0m\n",
      "\u001b[0;31mKeyError\u001b[0m: 'rot'",
      "\nThe above exception was the direct cause of the following exception:\n",
      "\u001b[0;31mKeyError\u001b[0m                                  Traceback (most recent call last)",
      "Cell \u001b[0;32mIn[20], line 2\u001b[0m\n\u001b[1;32m      1\u001b[0m \u001b[39mprint\u001b[39m(df[\u001b[39m'\u001b[39m\u001b[39mspins\u001b[39m\u001b[39m'\u001b[39m][\u001b[39m0\u001b[39m])\n\u001b[0;32m----> 2\u001b[0m data_dict \u001b[39m=\u001b[39m generate_data_dict(df, r_max)\n",
      "File \u001b[0;32m/data2/rokabe/e3nn_family/su2nn/project/data.py:77\u001b[0m, in \u001b[0;36mgenerate_data_dict\u001b[0;34m(data, r_max)\u001b[0m\n\u001b[1;32m     75\u001b[0m \u001b[39mprint\u001b[39m(systems)\n\u001b[1;32m     76\u001b[0m spins \u001b[39m=\u001b[39m data[\u001b[39m'\u001b[39m\u001b[39mspins\u001b[39m\u001b[39m'\u001b[39m]\n\u001b[0;32m---> 77\u001b[0m rots \u001b[39m=\u001b[39m data[\u001b[39m'\u001b[39;49m\u001b[39mrot\u001b[39;49m\u001b[39m'\u001b[39;49m]\n\u001b[1;32m     78\u001b[0m \u001b[39mprint\u001b[39m(spins)\n\u001b[1;32m     79\u001b[0m \u001b[39mprint\u001b[39m(\u001b[39m'\u001b[39m\u001b[39mspins----\u001b[39m\u001b[39m'\u001b[39m)\n",
      "File \u001b[0;32m~/anaconda3/envs/pdos/lib/python3.9/site-packages/pandas/core/frame.py:3760\u001b[0m, in \u001b[0;36mDataFrame.__getitem__\u001b[0;34m(self, key)\u001b[0m\n\u001b[1;32m   3758\u001b[0m \u001b[39mif\u001b[39;00m \u001b[39mself\u001b[39m\u001b[39m.\u001b[39mcolumns\u001b[39m.\u001b[39mnlevels \u001b[39m>\u001b[39m \u001b[39m1\u001b[39m:\n\u001b[1;32m   3759\u001b[0m     \u001b[39mreturn\u001b[39;00m \u001b[39mself\u001b[39m\u001b[39m.\u001b[39m_getitem_multilevel(key)\n\u001b[0;32m-> 3760\u001b[0m indexer \u001b[39m=\u001b[39m \u001b[39mself\u001b[39;49m\u001b[39m.\u001b[39;49mcolumns\u001b[39m.\u001b[39;49mget_loc(key)\n\u001b[1;32m   3761\u001b[0m \u001b[39mif\u001b[39;00m is_integer(indexer):\n\u001b[1;32m   3762\u001b[0m     indexer \u001b[39m=\u001b[39m [indexer]\n",
      "File \u001b[0;32m~/anaconda3/envs/pdos/lib/python3.9/site-packages/pandas/core/indexes/base.py:3654\u001b[0m, in \u001b[0;36mIndex.get_loc\u001b[0;34m(self, key)\u001b[0m\n\u001b[1;32m   3652\u001b[0m     \u001b[39mreturn\u001b[39;00m \u001b[39mself\u001b[39m\u001b[39m.\u001b[39m_engine\u001b[39m.\u001b[39mget_loc(casted_key)\n\u001b[1;32m   3653\u001b[0m \u001b[39mexcept\u001b[39;00m \u001b[39mKeyError\u001b[39;00m \u001b[39mas\u001b[39;00m err:\n\u001b[0;32m-> 3654\u001b[0m     \u001b[39mraise\u001b[39;00m \u001b[39mKeyError\u001b[39;00m(key) \u001b[39mfrom\u001b[39;00m \u001b[39merr\u001b[39;00m\n\u001b[1;32m   3655\u001b[0m \u001b[39mexcept\u001b[39;00m \u001b[39mTypeError\u001b[39;00m:\n\u001b[1;32m   3656\u001b[0m     \u001b[39m# If we have a listlike key, _check_indexing_error will raise\u001b[39;00m\n\u001b[1;32m   3657\u001b[0m     \u001b[39m#  InvalidIndexError. Otherwise we fall through and re-raise\u001b[39;00m\n\u001b[1;32m   3658\u001b[0m     \u001b[39m#  the TypeError.\u001b[39;00m\n\u001b[1;32m   3659\u001b[0m     \u001b[39mself\u001b[39m\u001b[39m.\u001b[39m_check_indexing_error(key)\n",
      "\u001b[0;31mKeyError\u001b[0m: 'rot'"
     ]
    }
   ],
   "source": [
    "print(df['spins'][0])\n",
    "data_dict = generate_data_dict(df, r_max)"
   ]
  },
  {
   "cell_type": "code",
   "execution_count": null,
   "id": "7facbdae",
   "metadata": {},
   "outputs": [
    {
     "data": {
      "text/plain": [
       "Data(x=[3, 118], edge_index=[2, 9], y=[3, 3], pos=[3, 3], id=1, symbol=[3], z=[3, 118], node_deg=[3, 1], edge_shift=[9, 3], edge_vec=[9, 3], edge_len=[9], r_max=4, numb=3)"
      ]
     },
     "execution_count": 21,
     "metadata": {},
     "output_type": "execute_result"
    }
   ],
   "source": [
    "data_dict[1]"
   ]
  },
  {
   "cell_type": "code",
   "execution_count": null,
   "id": "4aef8839",
   "metadata": {},
   "outputs": [
    {
     "name": "stderr",
     "output_type": "stream",
     "text": [
      "/home/rokabe/anaconda3/envs/pdos/lib/python3.9/site-packages/torch_geometric/deprecation.py:13: UserWarning: 'data.DataLoader' is deprecated, use 'loader.DataLoader' instead\n",
      "  warnings.warn(out)\n"
     ]
    }
   ],
   "source": [
    "batch_size = 1\n",
    "data_set = torch.utils.data.Subset(list(data_dict.values()), range(len(data_dict)))\n",
    "tr_set, te_set = torch.utils.data.Subset(data_set, range(18)), torch.utils.data.Subset(data_set, [18,19])\n",
    "te_loader = DataLoader(te_set, batch_size = batch_size)"
   ]
  },
  {
   "cell_type": "code",
   "execution_count": null,
   "id": "408ca45d",
   "metadata": {},
   "outputs": [
    {
     "name": "stdout",
     "output_type": "stream",
     "text": [
      "GraphNetwork(\n",
      "  (layers): ModuleList(\n",
      "    (0): CustomCompose(\n",
      "      (first): GraphConvolution(\n",
      "        (linear_input): FullyConnectedTensorProduct(32x0ee x 32x0ee -> 32x0ee | 32768 paths | 32768 weights)\n",
      "        (linear_mask): FullyConnectedTensorProduct(32x0ee x 32x0ee -> 12x0eo+4x1oo+4x2eo | 0 paths | 0 weights)\n",
      "        (tensor_edge): TensorProduct(32x0ee x 1x0eo+1x1oo+1x2eo -> 32x0eo+32x1oo+32x2eo | 96 paths | 96 weights)\n",
      "        (edge2weight): FullyConnectedNet[10, 100, 96]\n",
      "        (linear_output): FullyConnectedTensorProduct(32x0eo+32x1oo+32x2eo x 32x0ee -> 12x0eo+4x1oo+4x2eo | 20480 paths | 20480 weights)\n",
      "      )\n",
      "      (second): Gate (12x0eo+4x1oo+4x2eo -> 4x0eo+4x1oe+4x2ee)\n",
      "    )\n",
      "    (1): GraphConvolution(\n",
      "      (linear_input): FullyConnectedTensorProduct(4x0eo+4x1oe+4x2ee x 32x0ee -> 4x0eo+4x1oe+4x2ee | 1536 paths | 1536 weights)\n",
      "      (linear_mask): FullyConnectedTensorProduct(4x0eo+4x1oe+4x2ee x 32x0ee -> 1x1eo | 0 paths | 0 weights)\n",
      "      (tensor_edge): TensorProduct(4x0eo+4x1oe+4x2ee x 1x0eo+1x1oo+1x2eo -> 8x1eo | 8 paths | 8 weights)\n",
      "      (edge2weight): FullyConnectedNet[10, 100, 8]\n",
      "      (linear_output): FullyConnectedTensorProduct(8x1eo x 32x0ee -> 1x1eo | 256 paths | 256 weights)\n",
      "    )\n",
      "  )\n",
      "  (emx): Linear(in_features=118, out_features=32, bias=True)\n",
      "  (emz): Linear(in_features=118, out_features=32, bias=True)\n",
      ")\n"
     ]
    }
   ],
   "source": [
    "max_iter = 1\n",
    "lmax = 2\n",
    "mul = 4\n",
    "nlayers = 1\n",
    "r_max = 4\n",
    "number_of_basis = 10\n",
    "radial_layers = 1\n",
    "radial_neurons = 100\n",
    "node_dim = 118\n",
    "node_embed_dim = 32\n",
    "input_dim = 118\n",
    "input_embed_dim = 32\n",
    "irreps_out = '1x1eo'\n",
    "device = 'cuda:0'\n",
    "t='o'\n",
    "model = GraphNetwork(mul,\n",
    "                     irreps_out,\n",
    "                     lmax,\n",
    "                     nlayers,\n",
    "                     number_of_basis,\n",
    "                     radial_layers,\n",
    "                     radial_neurons,\n",
    "                     node_dim,\n",
    "                     node_embed_dim,\n",
    "                     input_dim,\n",
    "                     input_embed_dim,\n",
    "                     t)\n",
    "print(model)"
   ]
  },
  {
   "cell_type": "code",
   "execution_count": null,
   "id": "53badd72",
   "metadata": {},
   "outputs": [
    {
     "name": "stdout",
     "output_type": "stream",
     "text": [
      "tensor([[-3.6797e-10, -4.4843e-10, -3.4458e-11],\n",
      "        [-1.2571e-11, -1.2762e-09, -3.1628e-10],\n",
      "        [-8.2511e-10,  6.7397e-10, -3.4336e-10]], device='cuda:0',\n",
      "       grad_fn=<AddBackward0>)\n",
      "tensor([[ 3.1435e-10, -4.0216e-10,  4.5915e-11],\n",
      "        [ 2.5151e-10, -5.8761e-10, -9.6340e-11],\n",
      "        [-1.0683e-09,  3.5278e-10, -4.4348e-11]], device='cuda:0',\n",
      "       grad_fn=<AddBackward0>)\n",
      "tensor([[ 6.3472e-11,  6.5900e-11, -4.1193e-10],\n",
      "        [ 5.5323e-10, -6.3695e-11,  1.9704e-10],\n",
      "        [-6.7306e-10,  2.6084e-11,  2.9870e-10]], device='cuda:0',\n",
      "       grad_fn=<AddBackward0>)\n",
      "tensor([[ 3.4343e-10, -4.7958e-10, -5.9766e-10],\n",
      "        [ 3.3967e-12, -8.6921e-10, -1.3689e-09],\n",
      "        [-8.6657e-10,  3.2765e-10,  2.5465e-10]], device='cuda:0',\n",
      "       grad_fn=<AddBackward0>)\n",
      "tensor([[ 4.9808e-10, -2.1100e-10, -1.5097e-10],\n",
      "        [ 5.3270e-11, -1.9000e-09,  1.4294e-10],\n",
      "        [ 5.5972e-10,  3.0849e-10,  7.7539e-10]], device='cuda:0',\n",
      "       grad_fn=<AddBackward0>)\n",
      "tensor([[-2.5345e-10,  4.8086e-10, -3.0159e-10],\n",
      "        [-5.7658e-10,  9.5381e-10, -1.1461e-09],\n",
      "        [ 8.1708e-10, -2.4557e-10, -3.9443e-10]], device='cuda:0',\n",
      "       grad_fn=<AddBackward0>)\n",
      "tensor([[ 2.1255e-10, -2.3837e-10,  5.9105e-10],\n",
      "        [ 4.2293e-10, -7.5424e-11,  9.1778e-10],\n",
      "        [ 5.3770e-11,  5.2721e-10, -7.0111e-10]], device='cuda:0',\n",
      "       grad_fn=<AddBackward0>)\n",
      "tensor([[-6.9536e-11,  1.8199e-10,  1.5859e-10],\n",
      "        [ 8.9133e-10, -3.1630e-10, -1.5118e-10],\n",
      "        [ 1.5847e-10,  4.2771e-11,  7.9328e-10]], device='cuda:0',\n",
      "       grad_fn=<AddBackward0>)\n",
      "tensor([[-1.7617e-10,  1.9669e-11, -4.3169e-10],\n",
      "        [-8.6112e-10,  1.1042e-10, -9.6790e-10],\n",
      "        [-1.7626e-10,  2.5626e-11,  5.1676e-10]], device='cuda:0',\n",
      "       grad_fn=<AddBackward0>)\n",
      "tensor([[-2.2753e-10,  1.8218e-10, -2.0147e-10],\n",
      "        [ 4.4019e-11, -1.2959e-09, -9.3430e-10],\n",
      "        [ 8.5440e-10,  8.1717e-10, -2.5628e-10]], device='cuda:0',\n",
      "       grad_fn=<AddBackward0>)\n",
      "tensor([[ 4.1182e-10,  1.5015e-10, -1.1086e-10],\n",
      "        [ 2.1232e-10,  1.6161e-10, -2.9665e-10],\n",
      "        [ 6.1584e-10,  2.3150e-10, -1.0772e-09]], device='cuda:0',\n",
      "       grad_fn=<AddBackward0>)\n",
      "tensor([[ 2.6811e-10, -3.9477e-10, -3.4698e-10],\n",
      "        [-7.4449e-10, -4.2137e-10, -4.7638e-10],\n",
      "        [ 2.0241e-10, -1.0491e-09,  6.0412e-10]], device='cuda:0',\n",
      "       grad_fn=<AddBackward0>)\n",
      "tensor([[-6.9818e-11, -1.1586e-10,  3.6550e-10],\n",
      "        [ 8.5274e-11, -1.5930e-09,  1.2147e-09],\n",
      "        [-9.7777e-10, -1.8373e-10,  2.2899e-10]], device='cuda:0',\n",
      "       grad_fn=<AddBackward0>)\n",
      "tensor([[-1.8580e-10,  7.5777e-11, -2.1634e-10],\n",
      "        [-1.1871e-09, -1.8598e-10, -2.4473e-10],\n",
      "        [ 3.4023e-10, -1.2032e-09,  1.5871e-10]], device='cuda:0',\n",
      "       grad_fn=<AddBackward0>)\n",
      "tensor([[-1.8187e-10,  5.1496e-11, -4.2291e-10],\n",
      "        [ 4.4067e-11,  9.9927e-12, -2.6034e-10],\n",
      "        [ 4.9559e-10, -1.0748e-10,  1.0235e-09]], device='cuda:0',\n",
      "       grad_fn=<AddBackward0>)\n",
      "tensor([[-4.4374e-10, -5.2222e-10, -6.5160e-11],\n",
      "        [-1.7819e-09, -1.1328e-09, -8.4084e-11],\n",
      "        [-2.1427e-10,  2.7118e-10,  7.8824e-10]], device='cuda:0',\n",
      "       grad_fn=<AddBackward0>)\n",
      "tensor([[ 2.5454e-10,  2.5172e-10, -1.5436e-10],\n",
      "        [ 1.6940e-09, -7.3668e-10,  1.3178e-10],\n",
      "        [ 3.2920e-10,  1.0823e-09,  2.8502e-10]], device='cuda:0',\n",
      "       grad_fn=<AddBackward0>)\n",
      "tensor([[-5.6042e-10,  9.2058e-11,  3.7285e-12],\n",
      "        [-1.7472e-09,  1.1554e-09, -3.6001e-10],\n",
      "        [-1.1421e-11,  2.2700e-10,  4.7196e-10]], device='cuda:0',\n",
      "       grad_fn=<AddBackward0>)\n"
     ]
    },
    {
     "name": "stderr",
     "output_type": "stream",
     "text": [
      "/home/rokabe/anaconda3/envs/pdos/lib/python3.9/site-packages/torch_geometric/deprecation.py:13: UserWarning: 'data.DataLoader' is deprecated, use 'loader.DataLoader' instead\n",
      "  warnings.warn(out)\n"
     ]
    }
   ],
   "source": [
    "tr_loader = DataLoader(tr_set, batch_size = batch_size)\n",
    "te_loader = DataLoader(te_set, batch_size = batch_size)\n",
    "model.to(device)\n",
    "N = len(tr_loader)\n",
    "for i, d in enumerate(tr_loader):\n",
    "    d.to(device)\n",
    "    out = model(d)\n",
    "    print(out)"
   ]
  },
  {
   "cell_type": "code",
   "execution_count": null,
   "id": "12bda416",
   "metadata": {},
   "outputs": [],
   "source": []
  },
  {
   "cell_type": "code",
   "execution_count": null,
   "id": "d9c59245",
   "metadata": {},
   "outputs": [],
   "source": []
  },
  {
   "cell_type": "code",
   "execution_count": null,
   "id": "1fd87367",
   "metadata": {},
   "outputs": [],
   "source": []
  },
  {
   "cell_type": "code",
   "execution_count": null,
   "id": "72de70a1",
   "metadata": {},
   "outputs": [],
   "source": []
  },
  {
   "cell_type": "code",
   "execution_count": null,
   "id": "215cb72f",
   "metadata": {},
   "outputs": [],
   "source": []
  },
  {
   "cell_type": "code",
   "execution_count": null,
   "id": "439def48",
   "metadata": {},
   "outputs": [],
   "source": []
  },
  {
   "cell_type": "code",
   "execution_count": null,
   "id": "0b77f91b",
   "metadata": {},
   "outputs": [],
   "source": []
  },
  {
   "cell_type": "code",
   "execution_count": null,
   "id": "a4c1cdde",
   "metadata": {},
   "outputs": [],
   "source": []
  }
 ],
 "metadata": {
  "kernelspec": {
   "display_name": "su2nn",
   "language": "python",
   "name": "python3"
  },
  "language_info": {
   "codemirror_mode": {
    "name": "ipython",
    "version": 3
   },
   "file_extension": ".py",
   "mimetype": "text/x-python",
   "name": "python",
   "nbconvert_exporter": "python",
   "pygments_lexer": "ipython3",
   "version": "3.9.13"
  }
 },
 "nbformat": 4,
 "nbformat_minor": 5
}
