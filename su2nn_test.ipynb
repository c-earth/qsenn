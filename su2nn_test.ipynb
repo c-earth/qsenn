{
 "cells": [
  {
   "attachments": {},
   "cell_type": "markdown",
   "id": "0155ce18",
   "metadata": {},
   "source": [
    "# su2nn: SU(2) and time-reversal equivariant neural network for quantum spin system"
   ]
  },
  {
   "attachments": {},
   "cell_type": "markdown",
   "id": "4ef2dd52",
   "metadata": {},
   "source": [
    "## 1. Introduction\n",
    "\n",
    "The first obvious quantum spin effect we can observe is in the field of magnetism. Magnetism is important because it is crucial in various technological applications, such as data storage, electric motors, and generators. In addition, magnetic materials have been widely studied in condensed matter physics, where understanding their magnetic properties can provide insights into fundamental phenomena such as quantum phase transitions and spin dynamics. Moreover, the most recent theoretical developments of quantum spin have led to many applications in advanced fields like topological material, lossless electronics, and quantum information.\n",
    "\n",
    "Quantum spin is the quantum angular momentum internal degree of freedom. Together with the external counterpart, the quantum angular momentum has SU(2) as its symmetry group, i.e. it can be described by a representation of the group of 2 by 2 unitary matrices with unit determinant. It also turns out that SU(2) is a Lie group with exactly the same Lie algebra as SO(3), up to the generators equivalence. This means that SU(2) is homomorphic to SO(3), but SU(2) is more fundamental in describing quantum systems. Furthermore, spin systems can also break the time-reversal symmetry which is a discrete symmetry similar to parity but for temporal instead of spatial. With this nature of quantum spin system’s symmetry, it is straight forward to attempt the generalization of e3nn package that is already SO(3) and parity equivariant to also SU(2) and time-reversal equivariant in order to make a machine learning model that is suitable to the symmetry of the spin system.\n",
    "\n",
    "In this project, we modified the source code of e3nn, specifically the irreducible representation classes, to handle the SU(2) symmetry group, i.e. expanding integer angular number requirement to include half-integer, and increase the discrete symmetry channel of time-reversal on top of parity. We then propagated the change of this class through out the whole e3nn package. After that, we tested the sanity of the modified package with various equivariant properties we learned in class, and performed experiments with some simple quantum spin systems."
   ]
  },
  {
   "attachments": {},
   "cell_type": "markdown",
   "id": "bc0e99c9",
   "metadata": {},
   "source": [
    "## 2. Related Works\n",
    "\n",
    "Machine learning has been increasingly applied to predicting material properties, including spin, due to its potential to enhance accuracy and efficiency compared to traditional methods. There are works taking the symmetry described in SU(2) to represent the property of spin in a reasonable way. \n",
    "\n",
    "Machine learning helps us understand the relationship between spin configuration and other material properties. Models are proposed for predicting the properties of quantum materials, like the topological features of their electronic structures, using spin configuration as input. Also, there are models predicting spin states. A  neural network model to predict whether the spin is up or down, providing the electronic configurations of transition-metal compounds. This is important for understanding their magnetic and electronic properties. The model utilizes local crystal structure as input to predict electronic configurations accurately. Another work proposes a machine learning method using an artificial neural network to represent a complex spin Hamiltonian, which can be used to study spin systems. The method utilizes a feedforward neural network with a modified activation function to represent the Hamiltonian and shows promising results in predicting the behavior of spin systems.\n",
    "\n",
    "A graph neural network (GNN) is the most common approach to studying the structure-property relationship of materials, as it can take the geometrical aspect of materials into the models. A graph neural network model can predict material properties incorporating local and global information about the material structure. The model utilizes residual correlation to enhance the accuracy of prediction performance through the work using spin states of the Ising model. Another model utilizes the local environment of each atom in the material to predict its magnetic moment and shows improved accuracy compared to traditional methods.\n",
    "\n",
    "We can use machine learning to detect and evaluate the specific symmetry of the dataset. One work presents a neural network method for detecting symmetries like the one in SU(2), which can be applied to identify symmetry-protected topological phases. The method utilizes convolutional neural networks to learn the features of the data and then applies group theoretic techniques to extract the symmetries. Another model work presents a machine learning approach to learning order parameters of SU(2) lattice gauge theory, which describes the behavior of spin systems. The method utilizes a neural network to learn the mapping from spin configurations to the corresponding order parameters and shows promising results in predicting the behavior of spin systems."
   ]
  },
  {
   "attachments": {},
   "cell_type": "markdown",
   "id": "639753b0",
   "metadata": {},
   "source": [
    "## 3. Background\n",
    "### 3.1 SU(2) Irreducible Representation\n",
    "Similar to the process for SO(3) in lectures, one can start from the definition of SU(2) as a group of 2 by 2 unitary matrices with unit determinant. This entails that each member of the group can be written in the form\n",
    "$$\n",
    "    U = e^{-iA} \\tag{1}\n",
    "$$\n",
    "with \n",
    "$$\n",
    "    A^\\dag = A, \\text{Tr}A = 0. \\tag{2}\n",
    "$$\n",
    "From this criteria, we can deduce one possible selection of the generators as\n",
    "$$\n",
    "\\begin{align}\n",
    "    A &= \\begin{bmatrix}c & a - ib \\\\ a + ib & - c\\end{bmatrix} \\nonumber\\\\\n",
    "    &= a\\cdot\\sigma_x + b\\cdot\\sigma_y + c\\cdot\\sigma_z \\nonumber\\\\\n",
    "    &= (a, b, c)\\cdot\\vec{\\sigma} \\nonumber\\\\\n",
    "    &\\equiv \\dfrac{1}{2}\\vec{\\sigma}\\cdot\\hat{n}\\phi\n",
    "\\end{align} \\tag{3}\n",
    "$$\n",
    "where $\\sigma$'s are Pauli matrices, $\\hat{n}$ is the unit vector in $(a, b, c)$ direction, and $\\phi$ is twice the magnitude of $(a, b, c)$. These choices of parameters are for the consistency with the quantum spin community.\n",
    "\n",
    "Since $\\sigma_z$ is the only diagonal generator, it is trivial that the generators are of irreducible representation. Furthermore, the commutation relation of the Pauli matrix is\n",
    "$$\n",
    "    [\\sigma_p/2, \\sigma_q/2] = i\\epsilon_{pqr}\\sigma_r/2, \\tag{4}\n",
    "$$\n",
    "which is exactly the same as SO(3)'s Lie algebra. This means that we can directly define\n",
    "$$\n",
    "\\begin{align}\n",
    "    J^{(1/2)}_{p\\in\\{x, y, z\\}} &\\equiv \\sigma_p/2 \\\\\n",
    "    (J^{(1/2)})^2 &\\equiv (J^{(1/2)}_x)^2 + (J^{(1/2)}_y)^2 + (J^{(1/2)}_z)^2\n",
    "\\end{align} \\tag{5}\n",
    "$$\n",
    "where $(J^{(1/2)})^2$ commute with $J^{(1/2)}_{p\\in\\{x, y, z\\}}$. Hence, we can choose to label states with eigenvalues of $(J^{(1/2)})^2$ and $J^{(1/2)}_z$ which are $j(j+1)$ and $m$ where $j = 1/2$ and $m \\in \\{1/2, -1/2\\}$. From here, one can use tensor product together with representation reduction to generate all orders of representations with $j\\in\\{0, 1/2, 1, 3/2, ...\\}$.\n",
    "\n",
    "Because of these equivalence in algebra between SO(3) and SU(2), we can use ladder operator trick to get the ladder operators' matrix representations which, in turn, gives the matrix representations of $J^{(j)}_{p\\in\\{x, y\\}}$. ($J^{(j)}_z$ is trivial with our of choice of state and the fact that $m\\in\\{-j, -j+1, ..., j-1, j\\}$.) In fact, the e3nn package actually uses this SU(2) generator method and restrict the value of $l$ (instead of $j$) to be integer.\n",
    "\n",
    "### 3.2 Time-Reversal Symmetry"
   ]
  },
  {
   "attachments": {},
   "cell_type": "markdown",
   "id": "f1ba1a3c",
   "metadata": {},
   "source": [
    "## 4. Method"
   ]
  },
  {
   "attachments": {},
   "cell_type": "markdown",
   "id": "9c9665a8",
   "metadata": {},
   "source": [
    "## 5. Results\n",
    "### 5.1 Irreducible representations"
   ]
  },
  {
   "cell_type": "code",
   "execution_count": 4,
   "id": "8a14ab50",
   "metadata": {},
   "outputs": [],
   "source": [
    "from su2nn_e3nn_core.su2 import Irreps, Irrep\n",
    "from e3nn import o3\n",
    "from ase import Atoms\n",
    "import torch\n",
    "from torch_geometric.data import Data, DataLoader\n",
    "import numpy as np\n",
    "import pandas as pd\n",
    "from project.model import GraphConvolution, GraphNetwork, Convolution, Network, irreps_o3_to_su2, irreps_su2_to_o3\n",
    "from project.data import generate_data_dict"
    "from fractions import Fraction"
   ]
  },
  {
   "cell_type": "code",
   "execution_count": 2,
   "id": "87c63cee",
   "metadata": {},
   "outputs": [
    {
     "data": {
      "text/plain": [
       "1x1oe"
      ]
     },
     "execution_count": 2,
     "metadata": {},
     "output_type": "execute_result"
    }
   ],
   "source": [
    "# physical vector \n",
    "irreps = Irreps(\"1oe\")\n",
    "irreps"
   ]
  },
  {
   "cell_type": "code",
   "execution_count": 3,
   "id": "ca4e29ef",
   "metadata": {},
   "outputs": [
    {
     "data": {
      "text/plain": [
       "1x1eo"
      ]
     },
     "execution_count": 3,
     "metadata": {},
     "output_type": "execute_result"
    }
   ],
   "source": [
    "# spin\n",
    "irreps2 = Irreps(\"1eo\")\n",
    "irreps2"
   ]
  },
  {
   "cell_type": "code",
   "execution_count": 4,
   "id": "680c9f2c",
   "metadata": {},
   "outputs": [
    {
     "data": {
      "text/plain": [
       "1x1/2eo"
      ]
     },
     "execution_count": 4,
     "metadata": {},
     "output_type": "execute_result"
    }
   ],
   "source": [
    "irreps3 = Irreps(\"0.5eo\")\n",
    "irreps3"
   ]
  },
  {
   "cell_type": "code",
   "execution_count": 5,
   "id": "ea7ee735",
   "metadata": {},
   "outputs": [
    {
     "name": "stdout",
     "output_type": "stream",
     "text": [
      "1\n",
      "1x1oe\n",
      "2\n",
      "1\n",
      "1oe\n",
      "1 -1\n"
     ]
    }
   ],
   "source": [
    "# Tuple[Tuple[int, Tuple[int, int]]]\n",
    "# ((multiplicity, (l, p)), ...)\n",
    "\n",
    "print(len(irreps))\n",
    "mul_ir = irreps[0]  # a tuple\n",
    "\n",
    "print(mul_ir)\n",
    "print(len(mul_ir))\n",
    "mul = mul_ir[0]  # an int\n",
    "ir = mul_ir[1]  # another tuple\n",
    "\n",
    "print(mul)\n",
    "\n",
    "print(ir)\n",
    "# print(len(ir))  ir is a tuple of 2 ints but __len__ has been disabled since it is always 2\n",
    "l = ir[0]\n",
    "p = ir[1]\n",
    "\n",
    "print(l, p)"
   ]
  },
  {
   "cell_type": "code",
   "execution_count": 6,
   "id": "e642f60a",
   "metadata": {},
   "outputs": [
    {
     "data": {
      "text/plain": [
       "tensor([[-1.+0.j, -0.+0.j, -0.+0.j],\n",
       "        [-0.+0.j, -1.+0.j, -0.+0.j],\n",
       "        [-0.+0.j, -0.+0.j, -1.+0.j]])"
      ]
     },
     "execution_count": 6,
     "metadata": {},
     "output_type": "execute_result"
    }
   ],
   "source": [
    "import torch\n",
    "t = torch.tensor\n",
    "\n",
    "# show the transformation matrix corresponding to the inversion\n",
    "irreps.D_from_angles(alpha=t(0.0), beta=t(0.0), gamma=t(0.0), k=t(1))"
   ]
  },
  {
   "cell_type": "code",
   "execution_count": 7,
   "id": "6d498064",
   "metadata": {},
   "outputs": [
    {
     "data": {
      "text/plain": [
       "tensor([[0.9950+0.0998j, 0.0000+0.0000j, 0.0000+0.0000j],\n",
       "        [0.0000+0.0000j, 1.0000+0.0000j, 0.0000+0.0000j],\n",
       "        [0.0000+0.0000j, 0.0000+0.0000j, 0.9950-0.0998j]])"
      ]
     },
     "execution_count": 7,
     "metadata": {},
     "output_type": "execute_result"
    }
   ],
   "source": [
    "# a small rotation around the y axis\n",
    "irreps.D_from_angles(alpha=t(0.1), beta=t(0.0), gamma=t(0.0), k=t(0))"
   ]
  },
  {
   "cell_type": "code",
   "execution_count": null,
   "id": "2e776dd4",
   "metadata": {},
   "outputs": [],
   "source": []
  },
  {
   "cell_type": "code",
   "execution_count": 8,
   "id": "705ac568",
   "metadata": {},
   "outputs": [
    {
     "data": {
      "text/plain": [
       "[]"
      ]
     },
     "execution_count": 8,
     "metadata": {},
     "output_type": "execute_result"
    },
    {
     "data": {
      "image/png": "iVBORw0KGgoAAAANSUhEUgAAAzYAAAGgCAYAAAB47/I2AAAAOXRFWHRTb2Z0d2FyZQBNYXRwbG90bGliIHZlcnNpb24zLjcuMSwgaHR0cHM6Ly9tYXRwbG90bGliLm9yZy/bCgiHAAAACXBIWXMAAA9hAAAPYQGoP6dpAAAoiElEQVR4nO3da5SddX02/mvIYUJgEgiYUwkQJBgwCCEBEQIEwSgHq6V1KQWL2HZxlkirmEKF0gUR2lJWjYaiPoiLcugqgpR/UVICBApZhHAQOUo5JAqRAjYzSWRyuv8veJiHEdCJ7Lk3vz2fz1r7xdyzZ1/fe5Lsb665Z/a0VVVVBQAAoGCbNXsAAACAd0qxAQAAiqfYAAAAxVNsAACA4ik2AABA8RQbAACgeIoNAABQPMUGAAAonmIDAAAUT7GBX/Pd7343bW1tPbfBgwdn3Lhx+cxnPpOf/vSn/Zrd1taWc889t18zACjD6/vovvvua/YoUITBzR4A3q0uv/zyTJ48Oa+++mr+67/+K+eff35uu+22PP7449l6662bPR4AAG+g2MDbmDJlSqZPn54kmTlzZjZs2JBzzjknN9xwQ44//vgmTwcAwBv5VjToo9dLzi9+8YueY/fdd19+//d/P6NGjcqwYcMyderU/Ou//muvj/uf//mfnHzyydltt92y5ZZbZvTo0fnwhz+cO++8s9b5ASjb5z73uWy55ZZ5/PHH89GPfjRbbLFFxo0bl6997WtJksWLF2fGjBnZYostsssuu+SKK67o9fGbso9+9rOf5Y/+6I/S0dGRrbbaKsccc0yWLFmStra2fPe7363jdGGTuWIDffTMM88kSXbZZZckyW233ZaPfexj+eAHP5hLL700I0eOzDXXXJNPf/rTWbNmTT73uc8lSV555ZUkyTnnnJOxY8dm1apVuf766zNz5szceuutmTlzZjNOB4ACrVu3LkcddVROPPHEfOlLX8pVV12VOXPmpLOzM9ddd13OPPPMbLfddvn617+ez33uc5kyZUqmTZuWpO/7aPXq1Tn44IPzyiuv5MILL8zOO++cH/7wh/n0pz/drNOGvqmAXi6//PIqSbV48eJq3bp1VVdXV/XDH/6wGjt2bHXggQdW69atq6qqqiZPnlxNnTq15+3XHXnkkdW4ceOqDRs2vOXjr1+/vlq3bl11yCGHVH/wB3/Q631JqnPOOadfzguAsry+j5YsWVJVVVUdd9xxVZLquuuu67nPunXrqve85z1Vkur+++/vOf7yyy9XgwYNqs4444y3ffy320ff+MY3qiTVzTff3Ov+J5xwQpWkuvzyyxt0htBYvhUN3sa+++6bIUOGpKOjIx/72Mey9dZb5wc/+EEGDx6cp556Ko8//niOOeaYJMn69et7bocffnheeOGFPPHEEz2Pdemll2avvfbKsGHDMnjw4AwZMiS33nprHnvssWadHgAFamtry+GHH97z9uDBg7Pzzjtn3LhxmTp1as/xUaNGZfTo0Xnuued6fXxf9tEdd9zRs/ve6Oijj+6ns4LGUGzgbXzve9/LkiVLsnDhwpxwwgl57LHHep7UX/85m7/8y7/MkCFDet1OPvnkJMlLL72UJLn44otz0kkn5YMf/GCuu+66LF68OEuWLMnHPvax/OpXv2rOyQFQpOHDh2fYsGG9jg0dOjSjRo16032HDh2aV199teftvu6jl19+OWPGjHnT473VMXg38TM28DZ23XXXnhcMOPjgg7Nhw4Z8+9vfzr/9279l9913T5LMmTMnRx111Ft+/Pve974kyZVXXpmZM2dm/vz5vd7f1dXVj9MDQG993UfbbLNN7r333jd9/IoVK/p1PninXLGBPrrooouy9dZb56tf/WomTZqUSZMm5aGHHsr06dPf8tbR0ZHktW8baG9v7/VYP/7xj3PPPfc04zQAGKD6uo8OOuigdHV15eabb+51/Jprrun3GeGdUGygj7beeuvMmTMnjz32WK666qr88z//c2699dZ89KMfzdVXX51FixblhhtuyNy5c/OpT32q5+OOPPLI3HLLLTnnnHOycOHCzJ8/Px/96EczceLEJp4NAANNX/fRcccdl5133jnHHnts5s+fnwULFuSMM87Ij370oyTJZpv57yPvTv5mwiY47bTTsv322+e8887LgQcemHvvvTdbbbVVZs+enUMPPTQnnXRS/vM//zOHHnpoz8ecddZZ+Yu/+It85zvfyRFHHJFvf/vbufTSSzNjxowmngkAA01f99EWW2yRhQsXZubMmfnyl7+cP/zDP8yyZcvyzW9+M0my1VZbNWF6+O3aqqqqmj0EAADvbhdccEHOPvvsLFu2LNttt12zx4E38eIBAAD0Mm/evCTJ5MmTs27duixcuDD/9E//lGOPPVap4V1LsQEAoJfhw4fnH//xH/Pss8+mu7s722+/fc4888ycffbZzR4N3pZvRQMAAIrnxQMAAIDiKTYAAEDxFBsAAKB477oXD9i4cWOef/75dHR0pK2trdnjAAwoVVWlq6sr48eP90v43sBuAmiOTdlL77pi8/zzz2fChAnNHgNgQFu+fLmXdH0Duwmgufqyl951xaajoyNJsnzZsowYMaLJ09Rg/fr6M9eurT8zSYYOrT1y2QtDas9csqT2yCTJihX1Z+6+e/2ZSXLglFfqD33iifozk2TMmFrjOletyoQDDuh5LuY1A203Van/qtTq1bVHJkleeqn+zJdfrj9zm23qz0ySHbub8Ny5cGH9mUmycWP9mfvtV39mkuy5Z21RnZ2dmbD99n3aS++6YvP6Jf4RI0YMiOWh2PSvjlX1F5vhw2uPTJIMG1Z/5hZb1J+ZJCM61tUf2qyTbVLB8O1WvQ203dSMYjNoUO2RSZLu7oGR2ayvVYwYsmX9oc1YiElzis2WTfj8JkkTngf7spd8AzUAAFA8xQYAACieYgMAABRPsQEAAIqn2AAAAMVTbAAAgOIpNgAAQPEUGwAAoHj9Vmy++c1vZuLEiRk2bFimTZuWO++8s7+iAOC3spcAWlu/FJtrr702s2fPzllnnZUHHnggBxxwQA477LAsW7asP+IA4DeylwBaX78Um4svvjh/+qd/mj/7sz/LrrvumksuuSQTJkzI/Pnz+yMOAH4jewmg9TW82KxduzZLly7NrFmzeh2fNWtW7r777jfdv7u7O52dnb1uANAom7qXErsJoEQNLzYvvfRSNmzYkDFjxvQ6PmbMmKxYseJN9587d25GjhzZc5swYUKjRwJgANvUvZTYTQAl6rcXD2hra+v1dlVVbzqWJHPmzMnKlSt7bsuXL++vkQAYwPq6lxK7CaBEgxv9gNtuu20GDRr0pq+Cvfjii2/6almStLe3p729vdFjAECSTd9Lid0EUKKGX7EZOnRopk2blgULFvQ6vmDBguy3336NjgOA38heAhgYGn7FJknOOOOMfPazn8306dPzoQ99KJdddlmWLVuWE088sT/iAOA3spcAWl+/FJtPf/rTefnll3PeeeflhRdeyJQpU/If//Ef2WGHHfojDgB+I3sJoPX1S7FJkpNPPjknn3xyfz08AGwSewmgtfXbq6IBAADURbEBAACKp9gAAADFU2wAAIDiKTYAAEDxFBsAAKB4/fZyz+9UlbZUaastry1VbVm9rFpVf+azz9afmST/+7+1R+6w2261Z76yy5jaM5Nk553rz5w2/oX6Q5Pk6Z/VHrly9xm1ZybJo4/Wm7d6dWe9gfxma9c2Jbbt1Vdrz9xyxIjaM5PkiSfq+7/G6+67r/bIdHTUn5kkW35019ozR5xYf2aS3HRT/ZlPL6w/M0lmbqwva9Wqvv8bdcUGAAAonmIDAAAUT7EBAACKp9gAAADFU2wAAIDiKTYAAEDxFBsAAKB4ig0AAFA8xQYAACieYgMAABRPsQEAAIqn2AAAAMVTbAAAgOIpNgAAQPEUGwAAoHiKDQAAUDzFBgAAKJ5iAwAAFE+xAQAAiqfYAAAAxVNsAACA4ik2AABA8RQbAACgeIoNAABQPMUGAAAonmIDAAAUT7EBAACKp9gAAADFU2wAAIDiDW72AG9n/frXbnV59dW2+sLeoGP48PpD//d/689MkkceqT9zcP1/xfecMab2zCRpe/q/6w+99yf1ZybJkUfWHvn4fbVHJkk+9IHVteZ1dtabx2+xalVzcp9+uv7MV1+tPzPJtH32qT1z6ND22jN3321D7ZlJkltuqT9zl13qz0xy1FHvrT2z7Ybra89Mktz1bG1RnZvw3OCKDQAAUDzFBgAAKJ5iAwAAFE+xAQAAiqfYAAAAxVNsAACA4ik2AABA8RQbAACgeIoNAABQPMUGAAAoXsOLzdy5c7P33nuno6Mjo0ePzic/+ck88cQTjY4BgD6zmwBaX8OLzR133JFTTjklixcvzoIFC7J+/frMmjUrq1evbnQUAPSJ3QTQ+gY3+gF/+MMf9nr78ssvz+jRo7N06dIceOCBjY4DgN/KbgJofQ0vNr9u5cqVSZJRo0a95fu7u7vT3d3d83ZnZ2d/jwTAAGc3AbSefn3xgKqqcsYZZ2TGjBmZMmXKW95n7ty5GTlyZM9twoQJ/TkSAAOc3QTQmvq12Jx66qn58Y9/nKuvvvpt7zNnzpysXLmy57Z8+fL+HAmAAc5uAmhN/fataKeddlpuvPHGLFq0KNttt93b3q+9vT3t7e39NQYA9LCbAFpXw4tNVVU57bTTcv311+f222/PxIkTGx0BAJvEbgJofQ0vNqecckquuuqq/OAHP0hHR0dWrFiRJBk5cmQ233zzRscBwG9lNwG0vob/jM38+fOzcuXKzJw5M+PGjeu5XXvttY2OAoA+sZsAWl+/fCsaALyb2E0Ara9fXxUNAACgDooNAABQPMUGAAAonmIDAAAUT7EBAACKp9gAAADFU2wAAIDiNfz32DTKmjXJ4Bqne/bZ+rLeaP369tozp+27b+2ZSZL3vKf2yGe2mFJ75iP/X+2RSZKZM99be2bX8Pozk+Tem+rP/MQ+L9QfmiQL76s3b82aevMK0722Ld1r22rLax86tLasXl56qf7MZi3irbeuPXK33erfTXnwwfozk2TChNoj73mxObtp1Pr6M3c8/A/qD03yf/5PfVm/qjqT/FWf7uuKDQAAUDzFBgAAKJ5iAwAAFE+xAQAAiqfYAAAAxVNsAACA4ik2AABA8RQbAACgeIoNAABQPMUGAAAonmIDAAAUT7EBAACKp9gAAADFU2wAAIDiKTYAAEDxFBsAAKB4ig0AAFA8xQYAACieYgMAABRPsQEAAIqn2AAAAMVTbAAAgOIpNgAAQPEUGwAAoHiKDQAAUDzFBgAAKJ5iAwAAFE+xAQAAiqfYAAAAxRvc7AHezmabvXary/PP15f1Rs8+W3/mVlttXn9okh13nVJ75s/urj0yBxxQf2aSbHnPgvoz99239swk+cSer9QfuqIJmUn+7vGP15r36qudteaV5he/SNasqS9v7dqO+sLeYNKee9YfOn58/ZlJHhtU/25asaj2yMycOa3+0CQ/+Un9mR3N+WeT9/30pvpDRzTnz/WkT9aX1dnVlb/4i77d1xUbAACgeIoNAABQPMUGAAAonmIDAAAUT7EBAACKp9gAAADFU2wAAIDiKTYAAEDxFBsAAKB4ig0AAFC8fi82c+fOTVtbW2bPnt3fUQDwW9lLAK2pX4vNkiVLctlll+UDH/hAf8YAQJ/YSwCtq9+KzapVq3LMMcfkW9/6Vrbeeuv+igGAPrGXAFpbvxWbU045JUcccUQOPfTQ33i/7u7udHZ29roBQKP1dS8ldhNAiQb3x4Nec801uf/++7NkyZLfet+5c+fmb/7mb/pjDABIsml7KbGbAErU8Cs2y5cvz+mnn54rr7wyw4YN+633nzNnTlauXNlzW758eaNHAmAA29S9lNhNACVq+BWbpUuX5sUXX8y0adN6jm3YsCGLFi3KvHnz0t3dnUGDBvW8r729Pe3t7Y0eAwCSbPpeSuwmgBI1vNgccsghefjhh3sdO/744zN58uSceeaZb1oeANCf7CWAgaHhxaajoyNTpkzpdWyLLbbINtts86bjANDf7CWAgaHff0EnAABAf+uXV0X7dbfffnsdMQDQJ/YSQOtxxQYAACieYgMAABRPsQEAAIqn2AAAAMVTbAAAgOIpNgAAQPEUGwAAoHi1/B6b30XHulfSsXZdbXk77bRNbVlvNHRo/ZnvHfxc/aFJct+K2iNnzPhg7Zlti++pPTNJss8+tUf+YGFH7ZlJ8onf37L2zP9ev0PtmUnypZ2vrzWvc82afLXWxLKsWJF0ddWX95Of1JfVy8xxtUduP7n+zCT52aL6M2fOrD+z7fbb6g9NsvuBB9Yf2qR/OBsOO7L2zO99r/bIJMnxez1UX9iqVX2+qys2AABA8RQbAACgeIoNAABQPMUGAAAonmIDAAAUT7EBAACKp9gAAADFU2wAAIDiKTYAAEDxFBsAAKB4ig0AAFA8xQYAACieYgMAABRPsQEAAIqn2AAAAMVTbAAAgOIpNgAAQPEUGwAAoHiKDQAAUDzFBgAAKJ5iAwAAFE+xAQAAiqfYAAAAxVNsAACA4ik2AABA8RQbAACgeIoNAABQPMUGAAAo3uBmD/C2/uu/kuHDa4t73wc+UFtWr9wP71R/6I0P1p+ZJDNn1h65eHHtkdl33w/VH5rk3nvrz/zEns/VH5okC5+qPXL9dofUnpkkLx/4B7XmdXV11ppXms03r3U1ZXCTtvSknTbUH/qTn9SfmeTDH96j9sxBi26rPTMzZtSfmWTBwkG1Z37kwMm1ZybJ00/Xn3n8+m/VH5rknjV/XlvW6l/1fS+5YgMAABRPsQEAAIqn2AAAAMVTbAAAgOIpNgAAQPEUGwAAoHiKDQAAUDzFBgAAKJ5iAwAAFE+xAQAAiqfYAAAAxeuXYvPzn/88xx57bLbZZpsMHz48e+65Z5YuXdofUQDQJ3YTQGsb3OgH/OUvf5n9998/Bx98cG6++eaMHj06//3f/52tttqq0VEA0Cd2E0Dra3ixufDCCzNhwoRcfvnlPcd23HHHRscAQJ/ZTQCtr+HfinbjjTdm+vTp+dSnPpXRo0dn6tSp+da3vvW29+/u7k5nZ2evGwA0kt0E0PoaXmyefvrpzJ8/P5MmTcqPfvSjnHjiifnCF76Q733ve295/7lz52bkyJE9twkTJjR6JAAGOLsJoPU1vNhs3Lgxe+21Vy644IJMnTo1J5xwQv78z/888+fPf8v7z5kzJytXruy5LV++vNEjATDA2U0Ara/hxWbcuHHZbbfdeh3bdddds2zZsre8f3t7e0aMGNHrBgCNZDcBtL6GF5v9998/TzzxRK9jTz75ZHbYYYdGRwFAn9hNAK2v4cXmi1/8YhYvXpwLLrggTz31VK666qpcdtllOeWUUxodBQB9YjcBtL6GF5u99947119/fa6++upMmTIlf/u3f5tLLrkkxxxzTKOjAKBP7CaA1tfw32OTJEceeWSOPPLI/nhoAPid2E0Ara3hV2wAAADqptgAAADFU2wAAIDiKTYAAEDxFBsAAKB4ig0AAFA8xQYAAChev/wem4Z4+ulk2LD68nbcsb6sN3huWVvtmTt8+MO1ZybJgsUdtWfus0/tkWm76876Q5NM3++A+kOfXV9/ZpL5Tx5Se+ZJa2+uPTNJusYfVmvekCG1xhVn9/esyIiO1bXljf7YuNqyerm5CX/fm7SHH320/szdZ86sPfO22+v//0aSfGS7x+oPfXxt/ZlJthy9R+2ZP53557VnJsmHhj5XW1ZnV1ef7+uKDQAAUDzFBgAAKJ5iAwAAFE+xAQAAiqfYAAAAxVNsAACA4ik2AABA8RQbAACgeIoNAABQPMUGAAAonmIDAAAUT7EBAACKp9gAAADFU2wAAIDiKTYAAEDxFBsAAKB4ig0AAFA8xQYAACieYgMAABRPsQEAAIqn2AAAAMVTbAAAgOIpNgAAQPEUGwAAoHiKDQAAUDzFBgAAKJ5iAwAAFE+xAQAAije42QO8rV12SYYPry3uhbFTa8t6owfvrT9zh31W1R+a5EMf6qg9c8vbb6o985n3H1l7ZpKsfqz+zCnvHV9/aJKT9llae+ZDgw+rPTNJ9ti4sta8amNnrXnFuemmZPPNa4sb9fmTasvqZdKk2iPveeV9tWcmSUf9qym5//7aIw8+cM/aM5Mkj22oPXL+3XvUnpkkJ+14c+2ZXTOas5u6h+5QX9bwvu8lV2wAAIDiKTYAAEDxFBsAAKB4ig0AAFA8xQYAACieYgMAABRPsQEAAIqn2AAAAMVTbAAAgOIpNgAAQPEaXmzWr1+fs88+OxMnTszmm2+enXbaKeedd142btzY6CgA6BO7CaD1DW70A1544YW59NJLc8UVV+T9739/7rvvvhx//PEZOXJkTj/99EbHAcBvZTcBtL6GF5t77rknn/jEJ3LEEUckSXbcccdcffXVue+++xodBQB9YjcBtL6GfyvajBkzcuutt+bJJ59Mkjz00EO56667cvjhhzc6CgD6xG4CaH0Nv2Jz5plnZuXKlZk8eXIGDRqUDRs25Pzzz8/RRx/9lvfv7u5Od3d3z9udnZ2NHgmAAc5uAmh9Db9ic+211+bKK6/MVVddlfvvvz9XXHFF/v7v/z5XXHHFW95/7ty5GTlyZM9twoQJjR4JgAHObgJofQ0vNl/60pfyla98JZ/5zGey++6757Of/Wy++MUvZu7cuW95/zlz5mTlypU9t+XLlzd6JAAGOLsJoPU1/FvR1qxZk802692XBg0a9LYvqdne3p729vZGjwEAPewmgNbX8GLz8Y9/POeff3623377vP/9788DDzyQiy++OJ///OcbHQUAfWI3AbS+hhebr3/96/nrv/7rnHzyyXnxxRczfvz4nHDCCfnqV7/a6CgA6BO7CaD1NbzYdHR05JJLLskll1zS6IcGgN+J3QTQ+hr+4gEAAAB1U2wAAIDiKTYAAEDxFBsAAKB4ig0AAFA8xQYAACieYgMAABRPsQEAAIrX8F/Q2SirDjgsm40YUVveskdqi+rlyCObEHrTvU0ITX4x5RO1Z25xRP2f4J/dVXtkkuSAh+bVnnnb/5xae2aSHLzflNoz91jbVXtmkqwbNrLevPVtteYVp7s7aavvc/Qf/1FbVC+f/OT7as8c/XTtkUmS9z55c+2ZG2YdVnvmo4/WHpkk2WWX+p+vT/rlnbVnJsmSYfX/ue699uXaM5Ok2nKb2rKGDu37fV2xAQAAiqfYAAAAxVNsAACA4ik2AABA8RQbAACgeIoNAABQPMUGAAAonmIDAAAUT7EBAACKp9gAAADFU2wAAIDiKTYAAEDxFBsAAKB4ig0AAFA8xQYAACieYgMAABRPsQEAAIqn2AAAAMVTbAAAgOIpNgAAQPEUGwAAoHiKDQAAUDzFBgAAKJ5iAwAAFE+xAQAAiqfYAAAAxVNsAACA4ik2AABA8QY3e4C38+ijyRZb1Jf3od1W1hf2Rvc/WXvkC/t8ovbMJPnf5+vPbHvwgdozD9hlfO2ZSXLb+lNrzzx4q/o/v0nyyzVTa8/cequhtWcmyZBU9eYNrjevOPvum2y5ZW1xT91eW1Qvbd+/rvbM7Y78w9ozkyQjptceefXVtUfm2K759YcmWbr2pNoz95pxQO2ZSbJ3Z/3/l+wetk3tmUnSXuNuatuELFdsAACA4ik2AABA8RQbAACgeIoNAABQPMUGAAAonmIDAAAUT7EBAACKp9gAAADFU2wAAIDiKTYAAEDxNrnYLFq0KB//+Mczfvz4tLW15YYbbuj1/qqqcu6552b8+PHZfPPNM3PmzDzyyCONmhcAerGXAEh+h2KzevXq7LHHHpk3b95bvv+iiy7KxRdfnHnz5mXJkiUZO3ZsPvKRj6Srq+sdDwsAv85eAiBJBm/qBxx22GE57LDD3vJ9VVXlkksuyVlnnZWjjjoqSXLFFVdkzJgxueqqq3LCCSe8s2kB4NfYSwAkDf4Zm2eeeSYrVqzIrFmzeo61t7fnoIMOyt133/2WH9Pd3Z3Ozs5eNwBohN9lLyV2E0CJGlpsVqxYkSQZM2ZMr+Njxozped+vmzt3bkaOHNlzmzBhQiNHAmAA+132UmI3AZSoX14Vra2trdfbVVW96djr5syZk5UrV/bcli9f3h8jATCAbcpeSuwmgBJt8s/Y/CZjx45N8tpXyMaNG9dz/MUXX3zTV8te197envb29kaOAQBJfre9lNhNACVq6BWbiRMnZuzYsVmwYEHPsbVr1+aOO+7Ifvvt18goAPit7CWAgWOTr9isWrUqTz31VM/bzzzzTB588MGMGjUq22+/fWbPnp0LLrggkyZNyqRJk3LBBRdk+PDh+eM//uOGDg4Aib0EwGs2udjcd999Ofjgg3vePuOMM5Ikxx13XL773e/my1/+cn71q1/l5JNPzi9/+ct88IMfzC233JKOjo7GTQ0A/5e9BEDyOxSbmTNnpqqqt31/W1tbzj333Jx77rnvZC4A6BN7CYCkn14VDQAAoE6KDQAAUDzFBgAAKJ5iAwAAFE+xAQAAiqfYAAAAxVNsAACA4ik2AABA8Tb5F3TWZdttk1p/KfTDD9cY9v+8vOuM2jMf/3HtkUmSgx/8x9ozrx3/xdozPz3qudozk+TgGetqz1zVPbX2zCTZur3+c60ypPbMJGnL2//iSZpgr72SESNqi/tws778uGhZ7ZGXXlp7ZJLk9Fkv1Z557P6ras9c8tJJtWcmyd6jnqk9c9XqibVnJsmWNT43vK69STuiStu7MssVGwAAoHiKDQAAUDzFBgAAKJ5iAwAAFE+xAQAAiqfYAAAAxVNsAACA4ik2AABA8RQbAACgeIoNAABQPMUGAAAonmIDAAAUT7EBAACKp9gAAADFU2wAAIDiKTYAAEDxFBsAAKB4ig0AAFA8xQYAACieYgMAABRPsQEAAIqn2AAAAMVTbAAAgOIpNgAAQPEUGwAAoHiKDQAAUDzFBgAAKN7gZg/w66qqSpKsWtVZa27n6tW15r2uq6ve80ySJp1qOl99tfbMNWvq//x2dnXVnvlacP3nuqp7SO2ZSbKxfV3tmdXg5pxrW6pa8zr/79+j15+Lec3rn4/Omv+drVrVVmve65rxfP3qZvU/hyVJ56pV9Yeuq/85rO7/V72us73+nbiqvTnnunHDwHnerFLfc9Om7KW26l22vX72s59lwoQJzR4DYEBbvnx5tttuu2aP8a5hNwE0V1/20ruu2GzcuDHPP/98Ojo60ta2aW2ws7MzEyZMyPLlyzNixIh+mvDdwbm2noFynolzfTerqipdXV0ZP358NtvMdyu/zm7qm4FyrgPlPBPn2opKO89N2Uvvum9F22yzzd7xVwlHjBhRxB9UIzjX1jNQzjNxru9WI0eObPYI7zp206YZKOc6UM4zca6tqKTz7Ote8uU4AACgeIoNAABQvJYqNu3t7TnnnHPS3t7e7FH6nXNtPQPlPBPnysAykP4ODJRzHSjnmTjXVtTK5/mue/EAAACATdVSV2wAAICBSbEBAACKp9gAAADFU2wAAIDitVSx+eY3v5mJEydm2LBhmTZtWu68885mj9RQc+fOzd57752Ojo6MHj06n/zkJ/PEE080e6xazJ07N21tbZk9e3azR+kXP//5z3Psscdmm222yfDhw7Pnnntm6dKlzR6r4davX5+zzz47EydOzOabb56ddtop5513XjZu3Njs0d6RRYsW5eMf/3jGjx+ftra23HDDDb3eX1VVzj333IwfPz6bb755Zs6cmUceeaQ5w1KrVt9Lid1kN5WtVfdSMjB3U8sUm2uvvTazZ8/OWWedlQceeCAHHHBADjvssCxbtqzZozXMHXfckVNOOSWLFy/OggULsn79+syaNSurV69u9mj9asmSJbnsssvygQ98oNmj9Itf/vKX2X///TNkyJDcfPPNefTRR/MP//AP2WqrrZo9WsNdeOGFufTSSzNv3rw89thjueiii/J3f/d3+frXv97s0d6R1atXZ4899si8efPe8v0XXXRRLr744sybNy9LlizJ2LFj85GPfCRdXV01T0qdBsJeSuwmu6lsrbqXkgG6m6oWsc8++1Qnnnhir2OTJ0+uvvKVrzRpov734osvVkmqO+64o9mj9Juurq5q0qRJ1YIFC6qDDjqoOv3005s9UsOdeeaZ1YwZM5o9Ri2OOOKI6vOf/3yvY0cddVR17LHHNmmixktSXX/99T1vb9y4sRo7dmz1ta99refYq6++Wo0cObK69NJLmzAhdRmIe6mq7KZWMVB200DYS1U1cHZTS1yxWbt2bZYuXZpZs2b1Oj5r1qzcfffdTZqq/61cuTJJMmrUqCZP0n9OOeWUHHHEETn00EObPUq/ufHGGzN9+vR86lOfyujRozN16tR861vfavZY/WLGjBm59dZb8+STTyZJHnroodx11105/PDDmzxZ/3nmmWeyYsWKXs9P7e3tOeigg1r6+WmgG6h7KbGbWsVA2U0DcS8lrbubBjd7gEZ46aWXsmHDhowZM6bX8TFjxmTFihVNmqp/VVWVM844IzNmzMiUKVOaPU6/uOaaa3L//fdnyZIlzR6lXz399NOZP39+zjjjjPzVX/1V7r333nzhC19Ie3t7/uRP/qTZ4zXUmWeemZUrV2by5MkZNGhQNmzYkPPPPz9HH310s0frN68/B73V89Nzzz3XjJGowUDcS4nd1EoGym4aiHspad3d1BLF5nVtbW293q6q6k3HWsWpp56aH//4x7nrrruaPUq/WL58eU4//fTccsstGTZsWLPH6VcbN27M9OnTc8EFFyRJpk6dmkceeSTz589vqeWRvPYzB1deeWWuuuqqvP/978+DDz6Y2bNnZ/z48TnuuOOaPV6/GkjPT/w/A+3P3W5qHQNlNw3kvZS03nNUSxSbbbfdNoMGDXrTV8FefPHFNzXRVnDaaaflxhtvzKJFi7Lddts1e5x+sXTp0rz44ouZNm1az7ENGzZk0aJFmTdvXrq7uzNo0KAmTtg448aNy2677dbr2K677prrrruuSRP1ny996Uv5yle+ks985jNJkt133z3PPfdc5s6d27ILZOzYsUle++rYuHHjeo636vMTrxloeymxm+ymMg3EvZS07m5qiZ+xGTp0aKZNm5YFCxb0Or5gwYLst99+TZqq8aqqyqmnnprvf//7WbhwYSZOnNjskfrNIYcckocffjgPPvhgz2369Ok55phj8uCDD7bM4kiS/fff/00vjfrkk09mhx12aNJE/WfNmjXZbLPeTzuDBg1qiZfVfDsTJ07M2LFjez0/rV27NnfccUdLPT/R20DZS4ndZDeVbSDupaSFd1PzXregsa655ppqyJAh1Xe+853q0UcfrWbPnl1tscUW1bPPPtvs0RrmpJNOqkaOHFndfvvt1QsvvNBzW7NmTbNHq0WrvvLMvffeWw0ePLg6//zzq5/+9KfVv/zLv1TDhw+vrrzyymaP1nDHHXdc9Xu/93vVTTfdVD3zzDPV97///WrbbbetvvzlLzd7tHekq6ureuCBB6oHHnigSlJdfPHF1QMPPFA999xzVVVV1de+9rVq5MiR1fe///3q4Ycfro4++uhq3LhxVWdnZ5Mnpz8NhL1UVXaT3VS2Vt1LVTUwd1PLFJuqqqpvfOMb1Q477FANHTq02muvvVrupSaTvOXt8ssvb/ZotWjV5VFVVfXv//7v1ZQpU6r29vZq8uTJ1WWXXdbskfpFZ2dndfrpp1fbb799NWzYsGqnnXaqzjrrrKq7u7vZo70jt91221v+2zzuuOOqqnrtZTXPOeecauzYsVV7e3t14IEHVg8//HBzh6YWrb6XqspuspvK1qp7qaoG5m5qq6qqqu/6EAAAQOO1xM/YAAAAA5tiAwAAFE+xAQAAiqfYAAAAxVNsAACA4ik2AABA8RQbAACgeIoNAABQPMUGAAAonmIDAAAUT7EBAACKp9gAAADF+/8BwI31qSxZn5oAAAAASUVORK5CYII=",
      "text/plain": [
       "<Figure size 1000x500 with 2 Axes>"
      ]
     },
     "metadata": {},
     "output_type": "display_data"
    }
   ],
   "source": [
    "irreps = Irreps(\"3x0ee + 2x0oe + 1x1eo + 1x2oe\")\n",
    "irreps = Irreps(\"1x5.5eo\")\n",
    "from su2nn_e3nn_core import su2\n",
    "rot = -su2.rand_matrix()\n",
    "\n",
    "D = irreps.D_from_angles(torch.tensor([30]), torch.tensor([50]), torch.tensor([10]))\n",
    "D = irreps.D_from_matrix(rot)\n",
    "# print(D)\n",
    "\n",
    "D = D.reshape(irreps.dim, irreps.dim)\n",
    "import matplotlib.pyplot as plt\n",
    "fig, axs = plt.subplots(1,2, figsize = (10, 5))\n",
    "ax1, ax2 = axs[0], axs[1]\n",
    "ax1.imshow(D.real, cmap='bwr', vmin=-1, vmax=1)\n",
    "ax1.set_title('Real')\n",
    "ax2.imshow(D.imag, cmap='bwr', vmin=-1, vmax=1)\n",
    "ax2.set_title('Imag')\n",
    "plt.plot()"
   ]
  },
  {
   "cell_type": "code",
   "execution_count": 9,
   "id": "7ab8824a",
   "metadata": {},
   "outputs": [
    {
     "data": {
      "text/plain": [
       "[]"
      ]
     },
     "execution_count": 9,
     "metadata": {},
     "output_type": "execute_result"
    },
    {
     "data": {
      "image/png": "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",
      "text/plain": [
       "<Figure size 1000x500 with 2 Axes>"
      ]
     },
     "metadata": {},
     "output_type": "display_data"
    }
   ],
   "source": [
    "irreps = Irreps(\"1x0.5ee + 1x1.5ee + 1x1.5eo + 1x1.5oe + 1x1.5oo+ 1x2.5oe\")\n",
    "from su2nn_e3nn_core import su2\n",
    "rot = -su2.rand_matrix()\n",
    "\n",
    "D = irreps.D_from_matrix(rot)\n",
    "# print(D)\n",
    "\n",
    "import matplotlib.pyplot as plt\n",
    "fig, axs = plt.subplots(1,2, figsize = (10, 5))\n",
    "ax1, ax2 = axs[0], axs[1]\n",
    "ax1.imshow(D.real, cmap='bwr', vmin=-1, vmax=1)\n",
    "ax1.set_title('Real')\n",
    "ax2.imshow(D.imag, cmap='bwr', vmin=-1, vmax=1)\n",
    "ax2.set_title('Imag')\n",
    "plt.plot()"
   ]
  },
  {
   "cell_type": "markdown",
   "id": "3d0a0a2b",
   "metadata": {},
   "source": [
    "# Convolution"
   ]
  },
  {
   "cell_type": "code",
   "execution_count": 10,
   "id": "2c268c5a",
   "metadata": {},
   "outputs": [],
   "source": [
    "import torch\n",
    "from torch_cluster import radius_graph\n",
    "from torch_scatter import scatter\n",
    "from su2nn_e3nn_core import su2, nn\n",
    "from su2nn_e3nn_core.math import soft_one_hot_linspace\n",
    "from e3nn import o3\n",
    "import matplotlib.pyplot as plt"
   ]
  },
  {
   "cell_type": "code",
   "execution_count": 11,
   "id": "c26ecf87",
   "metadata": {},
   "outputs": [],
   "source": [
    "irreps_input = su2.Irreps(\"10x0ee + 10x1eo\")\n",
    "irreps_output = su2.Irreps(\"10x0ee + 10x1eo +10x1oe + 10x1oo\")"
   ]
  },
  {
   "cell_type": "code",
   "execution_count": 12,
   "id": "4c9b1863",
   "metadata": {},
   "outputs": [
    {
     "name": "stdout",
     "output_type": "stream",
     "text": [
      "torch.Size([3336])\n"
     ]
    },
    {
     "data": {
      "text/plain": [
       "33.36"
      ]
     },
     "execution_count": 12,
     "metadata": {},
     "output_type": "execute_result"
    }
   ],
   "source": [
    "# create node positions\n",
    "num_nodes = 100\n",
    "pos = torch.randn(num_nodes, 3)  # random node positions\n",
    "\n",
    "# create edges\n",
    "max_radius = 1.8\n",
    "edge_src, edge_dst = radius_graph(pos, max_radius, max_num_neighbors=num_nodes - 1)\n",
    "\n",
    "print(edge_src.shape)\n",
    "\n",
    "edge_vec = pos[edge_dst] - pos[edge_src]\n",
    "\n",
    "# compute z\n",
    "num_neighbors = len(edge_src) / num_nodes\n",
    "num_neighbors"
   ]
  },
  {
   "cell_type": "code",
   "execution_count": 13,
   "id": "b70957be",
   "metadata": {},
   "outputs": [
    {
     "name": "stdout",
     "output_type": "stream",
     "text": [
      "torch.Size([3868])\n"
     ]
    },
    {
     "data": {
      "text/plain": [
       "38.68"
      ]
     },
     "execution_count": 33,
     "metadata": {},
     "output_type": "execute_result"
    }
   ],
   "source": [
    "# create node positions\n",
    "num_nodes = 100\n",
    "pos = torch.randn(num_nodes, 3)  # random node positions\n",
    "\n",
    "# create edges\n",
    "max_radius = 1.8\n",
    "edge_src, edge_dst = radius_graph(pos, max_radius, max_num_neighbors=num_nodes - 1)\n",
    "\n",
    "print(edge_src.shape)\n",
    "\n",
    "edge_vec = pos[edge_dst] - pos[edge_src]\n",
    "\n",
    "# compute z\n",
    "num_neighbors = len(edge_src) / num_nodes\n",
    "num_neighbors"
   ]
  },
  {
   "cell_type": "code",
   "execution_count": 14,
   "id": "fd9391d9",
   "metadata": {},
   "outputs": [],
   "source": [
    "f_in = irreps_input.randn(num_nodes, -1)"
   ]
  },
  {
   "cell_type": "code",
   "execution_count": 15,
   "id": "77f230f2",
   "metadata": {},
   "outputs": [
    {
     "data": {
      "text/plain": [
       "tensor(0.9910)"
      ]
     },
     "execution_count": 35,
     "metadata": {},
     "output_type": "execute_result"
    }
   ],
   "source": [
    "f_in.pow(2).mean()  # should be close to 1"
   ]
  },
  {
   "cell_type": "code",
   "execution_count": 16,
   "id": "8e9aeecc",
   "metadata": {},
   "outputs": [
    {
     "name": "stdout",
     "output_type": "stream",
     "text": [
      "1x0e+1x1o+1x2e+1x3o  --> 1x0ee+1x1oe+1x2ee+1x3oe\n",
      "1x0ee+1x1oe+1x2ee+1x3oe  --> 1x0e+1x1o+1x2e+1x3o\n"
     ]
    },
    {
     "data": {
      "text/plain": [
       "tensor(1.)"
      ]
     },
     "execution_count": 16,
     "metadata": {},
     "output_type": "execute_result"
    }
   ],
   "source": [
    "# irreps_sh = su2.Irreps.spherical_harmonics(lmax=2)\n",
    "lmax = 3\n",
    "irreps_sh_o3 = o3.Irreps.spherical_harmonics(lmax)\n",
    "irreps_sh_su2 = irreps_o3_to_su2(irreps_sh_o3)\n",
    "print(f'{irreps_sh_o3}  --> {irreps_sh_su2}')\n",
    "print(f'{irreps_sh_su2}  --> {irreps_su2_to_o3(irreps_sh_su2)}')\n",
    "\n",
    "sh = o3.spherical_harmonics(irreps_sh_o3, edge_vec, normalize=True, normalization='component')\n",
    "# normalize=True ensure that x is divided by |x| before computing the sh\n",
    "\n",
    "sh.pow(2).mean()  # should be close to 1\n",
    "sh"
   ]
  },
  {
   "cell_type": "code",
   "execution_count": 17,
   "id": "009fae36",
   "metadata": {},
   "outputs": [
    {
     "name": "stdout",
     "output_type": "stream",
     "text": [
      "FullyConnectedTensorProduct(10x0ee+10x1eo x 1x0ee+1x1oe+1x2ee+1x3oe -> 20x0ee+10x1eo | 400 paths | 400 weights) needs 400 weights\n"
     ]
    },
    {
     "data": {
      "image/png": "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",
      "text/plain": [
       "<Figure size 640x480 with 1 Axes>"
      ]
     },
     "metadata": {},
     "output_type": "display_data"
    }
   ],
   "source": [
    "tp = su2.FullyConnectedTensorProduct(irreps_input, irreps_sh_su2, irreps_output, shared_weights=False)\n",
    "\n",
    "print(f\"{tp} needs {tp.weight_numel} weights\")\n",
    "\n",
    "tp.visualize();"
   ]
  },
  {
   "cell_type": "code",
   "execution_count": 42,
   "id": "e703fd75",
   "metadata": {},
   "outputs": [
    {
     "data": {
      "text/plain": [
       "torch.Size([4, 6, 7])"
      ]
     },
     "execution_count": 42,
     "metadata": {},
     "output_type": "execute_result"
    }
   ],
   "source": [
    "su2._wigner.clebsch_gordan(Fraction(3, 2),2.5,3).shape"
   ]
  },
  {
   "cell_type": "markdown",
   "id": "272920a0",
   "metadata": {},
   "source": [
    "# Equivariance check"
   ]
  },
  {
   "cell_type": "code",
   "execution_count": 20,
   "id": "c54c3f36",
   "metadata": {},
   "outputs": [],
   "source": [
    "natms = 3\n",
    "nsystems = 20\n",
    "element = 'H'\n",
    "r_max = 4\n",
    "df = pd.DataFrame({})\n",
    "for idx in range(nsystems):\n",
    "    Data = dict()\n",
    "    system = Atoms(element + str(natms), positions=np.random.rand(natms,3))\n",
    "    spins = np.random.rand(natms,3)#.tolist()\n",
    "    Data['id'] = idx\n",
    "    Data['system'] = [system]\n",
    "    Data['spins'] = [spins]\n",
    "    dfn = pd.DataFrame(data = Data)\n",
    "    df = pd.concat([df, dfn], ignore_index = True)"
   ]
  },
  {
   "cell_type": "code",
   "execution_count": 21,
   "id": "bab06737",
   "metadata": {},
   "outputs": [
    {
     "name": "stdout",
     "output_type": "stream",
     "text": [
      "0     [[0.9963783968856716, 0.3561633907980827, 0.30...\n",
      "1     [[0.848299938500926, 0.21898231237606236, 0.44...\n",
      "2     [[0.6772562984230609, 0.8915482870861609, 0.14...\n",
      "3     [[0.6818124599016389, 0.9590228937327739, 0.31...\n",
      "4     [[0.8051351054995218, 0.7220662127949034, 0.60...\n",
      "5     [[0.5651221040827836, 0.29661744992194916, 0.7...\n",
      "6     [[0.380705550765875, 0.6783244226779264, 0.538...\n",
      "7     [[0.059386514579832905, 0.6631600368497842, 0....\n",
      "8     [[0.29024969642978693, 0.7115250128121717, 0.3...\n",
      "9     [[0.15394088028097352, 0.601680332752528, 0.10...\n",
      "10    [[0.23583477130964892, 0.43892652688000233, 0....\n",
      "11    [[0.08938355268318854, 0.5048792561015548, 0.3...\n",
      "12    [[0.9875502169032311, 0.8458943890428237, 0.63...\n",
      "13    [[0.3596989202596692, 0.7870049873047235, 0.67...\n",
      "14    [[0.37738019128275313, 0.6077028138907743, 0.5...\n",
      "15    [[0.528813148716853, 0.9136855098407308, 0.017...\n",
      "16    [[0.4211552640699453, 0.2036655567668837, 0.01...\n",
      "17    [[0.4984719938573914, 0.010842679648056519, 0....\n",
      "18    [[0.29071136183994284, 0.7380837353324301, 0.3...\n",
      "19    [[0.8889020903390007, 0.911403889938414, 0.610...\n",
      "Name: spins, dtype: object\n"
     ]
    }
   ],
   "source": [
    "print(df['spins'])"
   ]
  },
  {
   "cell_type": "code",
   "execution_count": 22,
   "id": "f822bbd2",
   "metadata": {},
   "outputs": [
    {
     "name": "stdout",
     "output_type": "stream",
     "text": [
      "[[0.9963784  0.35616339 0.30438931]\n",
      " [0.80538969 0.52061584 0.30845353]\n",
      " [0.71335397 0.39934661 0.19587502]]\n",
      "0     (Atom('H', [0.46254964476321647, 0.22145657462...\n",
      "1     (Atom('H', [0.5940967064130807, 0.556424989547...\n",
      "2     (Atom('H', [0.07183226503243534, 0.11752643256...\n",
      "3     (Atom('H', [0.061797262861529645, 0.1668811335...\n",
      "4     (Atom('H', [0.8659417553062163, 0.736443570448...\n",
      "5     (Atom('H', [0.2980473738073056, 0.840460550943...\n",
      "6     (Atom('H', [0.4613222000050502, 0.582010474692...\n",
      "7     (Atom('H', [0.31905880101175943, 0.58099197948...\n",
      "8     (Atom('H', [0.36763429919275725, 0.07834556998...\n",
      "9     (Atom('H', [0.6916213508692528, 0.556121902069...\n",
      "10    (Atom('H', [0.3594990977865251, 0.224318939952...\n",
      "11    (Atom('H', [0.797875792765414, 0.2715862345687...\n",
      "12    (Atom('H', [0.19433639095074107, 0.64640248324...\n",
      "13    (Atom('H', [0.5108919231649458, 0.743173541660...\n",
      "14    (Atom('H', [0.14771810866855506, 0.71649847073...\n",
      "15    (Atom('H', [0.9156433523334894, 0.810005399365...\n",
      "16    (Atom('H', [0.9627383938545113, 0.193132707412...\n",
      "17    (Atom('H', [0.46924631508434744, 0.70715182293...\n",
      "18    (Atom('H', [0.19052914291012302, 0.07102070261...\n",
      "19    (Atom('H', [0.8186795611089211, 0.723604791331...\n",
      "Name: system, dtype: object\n",
      "0     [[0.9963783968856716, 0.3561633907980827, 0.30...\n",
      "1     [[0.848299938500926, 0.21898231237606236, 0.44...\n",
      "2     [[0.6772562984230609, 0.8915482870861609, 0.14...\n",
      "3     [[0.6818124599016389, 0.9590228937327739, 0.31...\n",
      "4     [[0.8051351054995218, 0.7220662127949034, 0.60...\n",
      "5     [[0.5651221040827836, 0.29661744992194916, 0.7...\n",
      "6     [[0.380705550765875, 0.6783244226779264, 0.538...\n",
      "7     [[0.059386514579832905, 0.6631600368497842, 0....\n",
      "8     [[0.29024969642978693, 0.7115250128121717, 0.3...\n",
      "9     [[0.15394088028097352, 0.601680332752528, 0.10...\n",
      "10    [[0.23583477130964892, 0.43892652688000233, 0....\n",
      "11    [[0.08938355268318854, 0.5048792561015548, 0.3...\n",
      "12    [[0.9875502169032311, 0.8458943890428237, 0.63...\n",
      "13    [[0.3596989202596692, 0.7870049873047235, 0.67...\n",
      "14    [[0.37738019128275313, 0.6077028138907743, 0.5...\n",
      "15    [[0.528813148716853, 0.9136855098407308, 0.017...\n",
      "16    [[0.4211552640699453, 0.2036655567668837, 0.01...\n",
      "17    [[0.4984719938573914, 0.010842679648056519, 0....\n",
      "18    [[0.29071136183994284, 0.7380837353324301, 0.3...\n",
      "19    [[0.8889020903390007, 0.911403889938414, 0.610...\n",
      "Name: spins, dtype: object\n",
      "spins----\n"
     ]
    }
   ],
   "source": [
    "print(df['spins'][0])\n",
    "data_dict = generate_data_dict(df, r_max)"
   ]
  },
  {
   "cell_type": "code",
   "execution_count": 23,
   "id": "7facbdae",
   "metadata": {},
   "outputs": [
    {
     "data": {
      "text/plain": [
       "Data(x=[3, 118], edge_index=[2, 9], y=[3, 3], pos=[3, 3], id=1, symbol=[3], z=[3, 118], node_deg=[3, 1], edge_shift=[9, 3], edge_vec=[9, 3], edge_len=[9], r_max=4, numb=3)"
      ]
     },
     "execution_count": 23,
     "metadata": {},
     "output_type": "execute_result"
    }
   ],
   "source": [
    "data_dict[1]"
   ]
  },
  {
   "cell_type": "code",
   "execution_count": 24,
   "id": "4aef8839",
   "metadata": {},
   "outputs": [
    {
     "name": "stderr",
     "output_type": "stream",
     "text": [
      "/home/rokabe/anaconda3/envs/pdos/lib/python3.9/site-packages/torch_geometric/deprecation.py:13: UserWarning: 'data.DataLoader' is deprecated, use 'loader.DataLoader' instead\n",
      "  warnings.warn(out)\n"
     ]
    }
   ],
   "source": [
    "batch_size = 1\n",
    "data_set = torch.utils.data.Subset(list(data_dict.values()), range(len(data_dict)))\n",
    "tr_set, te_set = torch.utils.data.Subset(data_set, range(18)), torch.utils.data.Subset(data_set, [18,19])\n",
    "te_loader = DataLoader(te_set, batch_size = batch_size)"
   ]
  },
  {
   "cell_type": "code",
   "execution_count": 25,
   "id": "408ca45d",
   "metadata": {},
   "outputs": [
    {
     "name": "stdout",
     "output_type": "stream",
     "text": [
      "GraphNetwork(\n",
      "  (layers): ModuleList(\n",
      "    (0): CustomCompose(\n",
      "      (first): GraphConvolution(\n",
      "        (linear_input): FullyConnectedTensorProduct(32x0ee x 32x0ee -> 32x0ee | 32768 paths | 32768 weights)\n",
      "        (linear_mask): FullyConnectedTensorProduct(32x0ee x 32x0ee -> 12x0ee+4x1oe+4x2ee | 12288 paths | 12288 weights)\n",
      "        (tensor_edge): TensorProduct(32x0ee x 1x0ee+1x1oe+1x2ee -> 32x0ee+32x1oe+32x2ee | 96 paths | 96 weights)\n",
      "        (edge2weight): FullyConnectedNet[10, 100, 96]\n",
      "        (linear_output): FullyConnectedTensorProduct(32x0ee+32x1oe+32x2ee x 32x0ee -> 12x0ee+4x1oe+4x2ee | 20480 paths | 20480 weights)\n",
      "      )\n",
      "      (second): Gate (12x0ee+4x1oe+4x2ee -> 4x0ee+4x1oe+4x2ee)\n",
      "    )\n",
      "    (1): GraphConvolution(\n",
      "      (linear_input): FullyConnectedTensorProduct(4x0ee+4x1oe+4x2ee x 32x0ee -> 4x0ee+4x1oe+4x2ee | 1536 paths | 1536 weights)\n",
      "      (linear_mask): FullyConnectedTensorProduct(4x0ee+4x1oe+4x2ee x 32x0ee -> 1x1eo | 0 paths | 0 weights)\n",
      "      (tensor_edge): TensorProduct(4x0ee+4x1oe+4x2ee x 1x0ee+1x1oe+1x2ee ->  | 0 paths | 0 weights)\n",
      "      (edge2weight): FullyConnectedNet[10, 100, 0]\n",
      "      (linear_output): FullyConnectedTensorProduct( x 32x0ee -> 1x1eo | 0 paths | 0 weights)\n",
      "    )\n",
      "  )\n",
      "  (emx): Linear(in_features=118, out_features=32, bias=True)\n",
      "  (emz): Linear(in_features=118, out_features=32, bias=True)\n",
      ")\n"
     ]
    }
   ],
   "source": [
    "max_iter = 1\n",
    "lmax = 2\n",
    "mul = 4\n",
    "nlayers = 1\n",
    "r_max = 4\n",
    "number_of_basis = 10\n",
    "radial_layers = 1\n",
    "radial_neurons = 100\n",
    "node_dim = 118\n",
    "node_embed_dim = 32\n",
    "input_dim = 118\n",
    "input_embed_dim = 32\n",
    "irreps_out = '1x1eo'\n",
    "device = 'cuda:0'\n",
    "model = GraphNetwork(mul,\n",
    "                     irreps_out,\n",
    "                     lmax,\n",
    "                     nlayers,\n",
    "                     number_of_basis,\n",
    "                     radial_layers,\n",
    "                     radial_neurons,\n",
    "                     node_dim,\n",
    "                     node_embed_dim,\n",
    "                     input_dim,\n",
    "                     input_embed_dim)\n",
    "print(model)"
   ]
  },
  {
   "cell_type": "code",
   "execution_count": 26,
   "id": "53badd72",
   "metadata": {},
   "outputs": [
    {
     "name": "stdout",
     "output_type": "stream",
     "text": [
      "x [0]:  tensor(0.0017, device='cuda:0', grad_fn=<CopyBackwards>)\n",
      "x [1]:  tensor(0., device='cuda:0')\n",
      "tensor([[0., 0., 0.],\n",
      "        [0., 0., 0.],\n",
      "        [0., 0., 0.]], device='cuda:0')\n",
      "x [0]:  tensor(0.0017, device='cuda:0', grad_fn=<CopyBackwards>)\n",
      "x [1]:  tensor(0., device='cuda:0')\n",
      "tensor([[0., 0., 0.],\n",
      "        [0., 0., 0.],\n",
      "        [0., 0., 0.]], device='cuda:0')\n",
      "x [0]:  tensor(0.0017, device='cuda:0', grad_fn=<CopyBackwards>)\n",
      "x [1]:  tensor(0., device='cuda:0')\n",
      "tensor([[0., 0., 0.],\n",
      "        [0., 0., 0.],\n",
      "        [0., 0., 0.]], device='cuda:0')\n",
      "x [0]:  tensor(0.0017, device='cuda:0', grad_fn=<CopyBackwards>)\n",
      "x [1]:  tensor(0., device='cuda:0')\n",
      "tensor([[0., 0., 0.],\n",
      "        [0., 0., 0.],\n",
      "        [0., 0., 0.]], device='cuda:0')\n",
      "x [0]:  tensor(0.0017, device='cuda:0', grad_fn=<CopyBackwards>)\n",
      "x [1]:  tensor(0., device='cuda:0')\n",
      "tensor([[0., 0., 0.],\n",
      "        [0., 0., 0.],\n",
      "        [0., 0., 0.]], device='cuda:0')\n",
      "x [0]:  tensor(0.0017, device='cuda:0', grad_fn=<CopyBackwards>)\n",
      "x [1]:  tensor(0., device='cuda:0')\n",
      "tensor([[0., 0., 0.],\n",
      "        [0., 0., 0.],\n",
      "        [0., 0., 0.]], device='cuda:0')\n",
      "x [0]:  tensor(0.0017, device='cuda:0', grad_fn=<CopyBackwards>)\n",
      "x [1]:  tensor(0., device='cuda:0')\n",
      "tensor([[0., 0., 0.],\n",
      "        [0., 0., 0.],\n",
      "        [0., 0., 0.]], device='cuda:0')\n",
      "x [0]:  tensor(0.0017, device='cuda:0', grad_fn=<CopyBackwards>)\n",
      "x [1]:  tensor(0., device='cuda:0')\n",
      "tensor([[0., 0., 0.],\n",
      "        [0., 0., 0.],\n",
      "        [0., 0., 0.]], device='cuda:0')\n",
      "x [0]:  tensor(0.0017, device='cuda:0', grad_fn=<CopyBackwards>)\n",
      "x [1]:  tensor(0., device='cuda:0')\n",
      "tensor([[0., 0., 0.],\n",
      "        [0., 0., 0.],\n",
      "        [0., 0., 0.]], device='cuda:0')\n",
      "x [0]:  tensor(0.0017, device='cuda:0', grad_fn=<CopyBackwards>)\n",
      "x [1]:  tensor(0., device='cuda:0')\n",
      "tensor([[0., 0., 0.],\n",
      "        [0., 0., 0.],\n",
      "        [0., 0., 0.]], device='cuda:0')\n",
      "x [0]:  tensor(0.0017, device='cuda:0', grad_fn=<CopyBackwards>)\n",
      "x [1]:  tensor(0., device='cuda:0')\n",
      "tensor([[0., 0., 0.],\n",
      "        [0., 0., 0.],\n",
      "        [0., 0., 0.]], device='cuda:0')\n",
      "x [0]:  tensor(0.0017, device='cuda:0', grad_fn=<CopyBackwards>)\n",
      "x [1]:  tensor(0., device='cuda:0')\n",
      "tensor([[0., 0., 0.],\n",
      "        [0., 0., 0.],\n",
      "        [0., 0., 0.]], device='cuda:0')\n",
      "x [0]:  tensor(0.0017, device='cuda:0', grad_fn=<CopyBackwards>)\n",
      "x [1]:  tensor(0., device='cuda:0')\n",
      "tensor([[0., 0., 0.],\n",
      "        [0., 0., 0.],\n",
      "        [0., 0., 0.]], device='cuda:0')\n",
      "x [0]:  tensor(0.0017, device='cuda:0', grad_fn=<CopyBackwards>)\n",
      "x [1]:  tensor(0., device='cuda:0')\n",
      "tensor([[0., 0., 0.],\n",
      "        [0., 0., 0.],\n",
      "        [0., 0., 0.]], device='cuda:0')\n",
      "x [0]:  tensor(0.0017, device='cuda:0', grad_fn=<CopyBackwards>)\n",
      "x [1]:  tensor(0., device='cuda:0')\n",
      "tensor([[0., 0., 0.],\n",
      "        [0., 0., 0.],\n",
      "        [0., 0., 0.]], device='cuda:0')\n",
      "x [0]:  tensor(0.0017, device='cuda:0', grad_fn=<CopyBackwards>)\n",
      "x [1]:  tensor(0., device='cuda:0')\n",
      "tensor([[0., 0., 0.],\n",
      "        [0., 0., 0.],\n",
      "        [0., 0., 0.]], device='cuda:0')\n",
      "x [0]:  tensor(0.0017, device='cuda:0', grad_fn=<CopyBackwards>)\n",
      "x [1]:  tensor(0., device='cuda:0')\n",
      "tensor([[0., 0., 0.],\n",
      "        [0., 0., 0.],\n",
      "        [0., 0., 0.]], device='cuda:0')\n",
      "x [0]:  tensor(0.0017, device='cuda:0', grad_fn=<CopyBackwards>)\n",
      "x [1]:  tensor(0., device='cuda:0')\n",
      "tensor([[0., 0., 0.],\n",
      "        [0., 0., 0.],\n",
      "        [0., 0., 0.]], device='cuda:0')\n"
     ]
    }
   ],
   "source": [
    "tr_loader = DataLoader(tr_set, batch_size = batch_size)\n",
    "te_loader = DataLoader(te_set, batch_size = batch_size)\n",
    "model.to(device)\n",
    "N = len(tr_loader)\n",
    "for i, d in enumerate(tr_loader):\n",
    "    d.to(device)\n",
    "    out = model(d)\n",
    "    print(out)"
   ]
  },
  {
   "cell_type": "code",
   "execution_count": null,
   "id": "12bda416",
   "metadata": {},
   "outputs": [],
   "source": []
  },
  {
   "cell_type": "code",
   "execution_count": null,
   "id": "d9c59245",
   "metadata": {},
   "outputs": [],
   "source": []
  },
  {
   "cell_type": "code",
   "execution_count": null,
   "id": "1fd87367",
   "metadata": {},
   "outputs": [],
   "source": []
  },
  {
   "cell_type": "code",
   "execution_count": null,
   "id": "72de70a1",
   "metadata": {},
   "outputs": [],
   "source": []
  },
  {
   "cell_type": "code",
   "execution_count": null,
   "id": "215cb72f",
   "metadata": {},
   "outputs": [],
   "source": []
  },
  {
   "cell_type": "code",
   "execution_count": null,
   "id": "439def48",
   "metadata": {},
   "outputs": [],
   "source": []
  },
  {
   "cell_type": "code",
   "execution_count": null,
   "id": "0b77f91b",
   "metadata": {},
   "outputs": [],
   "source": []
  },
  {
   "cell_type": "code",
   "execution_count": null,
   "id": "a4c1cdde",
   "metadata": {},
   "outputs": [],
   "source": []
  }
 ],
 "metadata": {
  "kernelspec": {
   "display_name": "su2nn",
   "language": "python",
   "name": "python3"
  },
  "language_info": {
   "codemirror_mode": {
    "name": "ipython",
    "version": 3
   },
   "file_extension": ".py",
   "mimetype": "text/x-python",
   "name": "python",
   "nbconvert_exporter": "python",
   "pygments_lexer": "ipython3",
   "version": "3.9.13"
  }
 },
 "nbformat": 4,
 "nbformat_minor": 5
}
